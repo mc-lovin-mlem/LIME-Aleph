{
 "cells": [
  {
   "cell_type": "markdown",
   "metadata": {},
   "source": [
    "# LIME-Aleph\n",
    "\n",
    "### KI-Campus Aufgabe\n",
    "\n",
    "Willkommen zum Arbeitsauftrag für das Modul __LIME-Aleph__ im KI-Campus. Hier werden Sie den typischen Ablauf zum Finden einer symbolischen Erklärung für Black-Box Netzwerke mithilfe der LIME-Aleph Bibliothek Stück für Stück erarbeiten."
   ]
  },
  {
   "cell_type": "code",
   "execution_count": 1,
   "metadata": {},
   "outputs": [
    {
     "name": "stdout",
     "output_type": "stream",
     "text": [
      "3.7.9\n"
     ]
    }
   ],
   "source": [
    "from platform import python_version\n",
    "\n",
    "print(python_version())"
   ]
  },
  {
   "cell_type": "code",
   "execution_count": 2,
   "metadata": {},
   "outputs": [
    {
     "name": "stdout",
     "output_type": "stream",
     "text": [
      "absl-py==0.11.0\n",
      "argon2-cffi @ file:///tmp/build/80754af9/argon2-cffi_1613036642480/work\n",
      "astunparse==1.6.3\n",
      "async-generator==1.10\n",
      "attrs @ file:///tmp/build/80754af9/attrs_1604765588209/work\n",
      "backcall @ file:///home/ktietz/src/ci/backcall_1611930011877/work\n",
      "bleach @ file:///tmp/build/80754af9/bleach_1612211392645/work\n",
      "cachetools==4.2.1\n",
      "certifi==2020.12.5\n",
      "cffi==1.14.5\n",
      "chardet==4.0.0\n",
      "cycler==0.10.0\n",
      "decorator @ file:///home/ktietz/src/ci/decorator_1611930055503/work\n",
      "defusedxml @ file:///home/ktietz/src/ci_mi/defusedxml_1612808095953/work\n",
      "entrypoints==0.3\n",
      "flatbuffers==1.12\n",
      "gast==0.3.3\n",
      "google-auth==1.26.1\n",
      "google-auth-oauthlib==0.4.2\n",
      "google-pasta==0.2.0\n",
      "graphviz==0.16\n",
      "grpcio==1.32.0\n",
      "h5py==2.10.0\n",
      "idna==2.10\n",
      "imageio==2.9.0\n",
      "importlib-metadata==3.4.0\n",
      "ipykernel==5.4.3\n",
      "ipython @ file:///tmp/build/80754af9/ipython_1612212922137/work\n",
      "ipython-genutils @ file:///tmp/build/80754af9/ipython_genutils_1606773439826/work\n",
      "ipywidgets==7.6.3\n",
      "jedi==0.18.0\n",
      "Jinja2 @ file:///tmp/build/80754af9/jinja2_1612213139570/work\n",
      "joblib==1.0.1\n",
      "jsonschema @ file:///tmp/build/80754af9/jsonschema_1602607155483/work\n",
      "jupyter-client==6.1.11\n",
      "jupyter-core @ file:///tmp/build/80754af9/jupyter_core_1612213308260/work\n",
      "jupyterlab-pygments @ file:///tmp/build/80754af9/jupyterlab_pygments_1601490720602/work\n",
      "jupyterlab-widgets==1.0.0\n",
      "Keras==2.4.3\n",
      "Keras-Preprocessing==1.1.2\n",
      "kiwisolver==1.3.1\n",
      "lime==0.2.0.1\n",
      "Markdown==3.3.3\n",
      "MarkupSafe @ file:///tmp/build/80754af9/markupsafe_1594371495811/work\n",
      "matplotlib==3.3.4\n",
      "mistune @ file:///tmp/build/80754af9/mistune_1594373098390/work\n",
      "nbclient==0.5.2\n",
      "nbconvert @ file:///tmp/build/80754af9/nbconvert_1601914821128/work\n",
      "nbformat @ file:///tmp/build/80754af9/nbformat_1610738111109/work\n",
      "nest-asyncio==1.5.1\n",
      "networkx==2.5\n",
      "notebook @ file:///tmp/build/80754af9/notebook_1611340986969/work\n",
      "numpy==1.19.5\n",
      "oauthlib==3.1.0\n",
      "opencv-python==4.5.1.48\n",
      "opt-einsum==3.3.0\n",
      "packaging @ file:///tmp/build/80754af9/packaging_1611952188834/work\n",
      "pandocfilters @ file:///tmp/build/80754af9/pandocfilters_1605120451932/work\n",
      "parso @ file:///tmp/build/80754af9/parso_1607623074025/work\n",
      "pexpect @ file:///tmp/build/80754af9/pexpect_1605563209008/work\n",
      "pickleshare @ file:///tmp/build/80754af9/pickleshare_1606932040724/work\n",
      "Pillow==8.1.0\n",
      "prometheus-client @ file:///tmp/build/80754af9/prometheus_client_1606344362066/work\n",
      "prompt-toolkit==3.0.16\n",
      "protobuf==3.14.0\n",
      "ptyprocess @ file:///tmp/build/80754af9/ptyprocess_1609355006118/work/dist/ptyprocess-0.7.0-py2.py3-none-any.whl\n",
      "pyasn1==0.4.8\n",
      "pyasn1-modules==0.2.8\n",
      "pycparser @ file:///tmp/build/80754af9/pycparser_1594388511720/work\n",
      "Pygments @ file:///tmp/build/80754af9/pygments_1610565767015/work\n",
      "pyparsing @ file:///home/linux1/recipes/ci/pyparsing_1610983426697/work\n",
      "pyrsistent @ file:///tmp/build/80754af9/pyrsistent_1600141707582/work\n",
      "pyswip==0.2.10\n",
      "python-dateutil @ file:///home/ktietz/src/ci/python-dateutil_1611928101742/work\n",
      "PyWavelets==1.1.1\n",
      "PyYAML==5.4.1\n",
      "pyzmq==22.0.3\n",
      "requests==2.25.1\n",
      "requests-oauthlib==1.3.0\n",
      "rsa==4.7\n",
      "scikit-image==0.18.1\n",
      "scikit-learn==0.24.1\n",
      "scipy==1.6.0\n",
      "Send2Trash @ file:///tmp/build/80754af9/send2trash_1607525499227/work\n",
      "six @ file:///tmp/build/80754af9/six_1605205313296/work\n",
      "tensorboard==2.4.1\n",
      "tensorboard-plugin-wit==1.8.0\n",
      "tensorflow==2.4.1\n",
      "tensorflow-estimator==2.4.0\n",
      "termcolor==1.1.0\n",
      "terminado==0.9.2\n",
      "testpath @ file:///home/ktietz/src/ci/testpath_1611930608132/work\n",
      "threadpoolctl==2.1.0\n",
      "tifffile==2021.2.1\n",
      "tornado @ file:///tmp/build/80754af9/tornado_1606942283357/work\n",
      "tqdm==4.56.2\n",
      "traitlets @ file:///home/ktietz/src/ci/traitlets_1611929699868/work\n",
      "typing-extensions==3.7.4.3\n",
      "urllib3==1.26.3\n",
      "wcwidth @ file:///tmp/build/80754af9/wcwidth_1593447189090/work\n",
      "webcolors==1.11.1\n",
      "webencodings==0.5.1\n",
      "Werkzeug==1.0.1\n",
      "widgetsnbextension==3.5.1\n",
      "wrapt==1.12.1\n",
      "zipp @ file:///tmp/build/80754af9/zipp_1604001098328/work\n",
      "Note: you may need to restart the kernel to use updated packages.\n"
     ]
    }
   ],
   "source": [
    "pip freeze"
   ]
  },
  {
   "cell_type": "markdown",
   "metadata": {},
   "source": [
    "Wir wollen zunächst mal die nötigen Bibliotheken importieren und einige nutzerdefinierbare Parameter erzeugen. Eine zu klassifizierende Bilddatei sowie ein vortrainiertes Modell sind schon vorhanden."
   ]
  },
  {
   "cell_type": "code",
   "execution_count": 3,
   "metadata": {},
   "outputs": [],
   "source": [
    "from ipywidgets import IntProgress"
   ]
  },
  {
   "cell_type": "code",
   "execution_count": 4,
   "metadata": {},
   "outputs": [],
   "source": [
    "import os, sys, inspect\n",
    "current_dir = os.path.dirname(os.path.abspath(inspect.getfile(inspect.currentframe())))\n",
    "parent_dir = os.path.dirname(current_dir)\n",
    "sys.path.insert(0, parent_dir)\n",
    "from skimage.util import img_as_float32\n",
    "from skimage.transform import resize\n",
    "from scripts.train_model import own_rel\n",
    "from skimage import io\n",
    "from skimage.io import imshow, show, imsave\n",
    "import shutil\n",
    "from graphviz import Digraph\n",
    "\n",
    "import lime_aleph.lime_aleph as la\n",
    "\n",
    "#NOTEBOOK_PATH = \"notebooks/\" #\n",
    "IMAGE_FILE = \"pos9000.png\" # The path to the image file to be classified by the black-box\n",
    "MODEL = \"../models_to_explain/model_tower.h5\" # The path to the pre-trained model\n",
    "K = 3 # The number of important superpixels to be used for perturbation\n",
    "N = 1000 # The sample size for LIME\n",
    "OUTPUT_DIR = \"../output/\" # A path for a directory to save intermediate and output data\n",
    "T = 0.8 # The threshold for the binary classifier for when an example is classified as 'positive'\n",
    "NOISE = 10 # The allowed false-positive rate for Aleph in percent.b"
   ]
  },
  {
   "cell_type": "markdown",
   "metadata": {},
   "source": [
    "Sollte es noch temporäre Daten aus früheren Durchläufen geben, sollen diese nun gelöscht werden:"
   ]
  },
  {
   "cell_type": "code",
   "execution_count": 5,
   "metadata": {},
   "outputs": [],
   "source": [
    "shutil.rmtree(OUTPUT_DIR, ignore_errors=True)\n",
    "os.makedirs(OUTPUT_DIR)"
   ]
  },
  {
   "cell_type": "markdown",
   "metadata": {},
   "source": [
    "Nun wollen wir das Bild und das vortrainierte Modell in den Speicher laden:"
   ]
  },
  {
   "cell_type": "code",
   "execution_count": 6,
   "metadata": {},
   "outputs": [
    {
     "data": {
      "image/png": "[encoded data removed]",
      "text/plain": [
       "<Figure size 432x288 with 1 Axes>"
      ]
     },
     "metadata": {
      "needs_background": "light"
     },
     "output_type": "display_data"
    }
   ],
   "source": [
    "image = img_as_float32(io.imread(IMAGE_FILE))\n",
    "image = resize(image, (own_rel.IMAGE_SIZE, own_rel.IMAGE_SIZE), anti_aliasing=True)\n",
    "\n",
    "model = own_rel.own_rel()\n",
    "model.load_weights(MODEL)\n",
    "\n",
    "io.imshow(image)\n",
    "io.show()"
   ]
  },
  {
   "cell_type": "markdown",
   "metadata": {},
   "source": [
    "Der nächste Schritt soll nun sein, die im Bild vorhandenen Elemente automatisch zu annotieren. Benutzen Sie hierfür die Funktion __annotate_image_parts__ aus dem bereits importierten __lime_aleph__ package mit den benötigten Parametern:"
   ]
  },
  {
   "cell_type": "code",
   "execution_count": 7,
   "metadata": {},
   "outputs": [
    {
     "name": "stdout",
     "output_type": "stream",
     "text": [
      "Running LIME...\n"
     ]
    },
    {
     "name": "stderr",
     "output_type": "stream",
     "text": [
      "/home/johannes/anaconda3/envs/ki-campus/lib/python3.7/site-packages/tensorflow/python/keras/engine/sequential.py:425: UserWarning: `model.predict_proba()` is deprecated and will be removed after 2021-01-01. Please use `model.predict()` instead.\n",
      "  warnings.warn('`model.predict_proba()` is deprecated and '\n"
     ]
    },
    {
     "name": "stdout",
     "output_type": "stream",
     "text": [
      "True class of the image is:  1\n",
      "Starting the explanation generation process. This may take a while.\n"
     ]
    },
    {
     "data": {
      "application/vnd.jupyter.widget-view+json": {
       "model_id": "5fc35ae4ee314d559cee0f33393f241e",
       "version_major": 2,
       "version_minor": 0
      },
      "text/plain": [
       "  0%|          | 0/1000 [00:00<?, ?it/s]"
      ]
     },
     "metadata": {},
     "output_type": "display_data"
    },
    {
     "name": "stderr",
     "output_type": "stream",
     "text": [
      "Lossy conversion from float64 to uint8. Range [0, 1]. Convert image to uint8 prior to saving to suppress this warning.\n",
      "Lossy conversion from float64 to uint8. Range [0, 1]. Convert image to uint8 prior to saving to suppress this warning.\n"
     ]
    },
    {
     "name": "stdout",
     "output_type": "stream",
     "text": [
      "Intercept -0.30768453627275416\n",
      "Prediction_local [0.42866597]\n",
      "Right: 0.023822423\n",
      "Intercept 1.3076845418844525\n",
      "Prediction_local [0.57133402]\n",
      "Right: 0.9761776\n",
      "Number of superpixels: 64\n",
      "Annotating the superpixels...\n",
      "Weight of sp:  44 is:  0.12966727143571175\n",
      "Weight of sp:  60 is:  0.12455642892864707\n",
      "Weight of sp:  52 is:  0.11465201908471384\n",
      "Weight of sp:  28 is:  -0.05044375574873537\n",
      "Weight of sp:  59 is:  -0.04373004856099038\n",
      "Weight of sp:  3 is:  -0.040807283548354\n",
      "Weight of sp:  33 is:  -0.04000379151943676\n",
      "Weight of sp:  27 is:  -0.03999137835157025\n",
      "Weight of sp:  62 is:  -0.03946291830788788\n",
      "Weight of sp:  49 is:  -0.03695378517343034\n",
      "Weight of sp:  20 is:  -0.03349757563408812\n",
      "Weight of sp:  46 is:  -0.032755356607623014\n",
      "Weight of sp:  35 is:  -0.03154148550291033\n",
      "Weight of sp:  53 is:  -0.031101338014403592\n",
      "Weight of sp:  61 is:  -0.030931118398504872\n",
      "Weight of sp:  6 is:  -0.03026891402728769\n",
      "Weight of sp:  22 is:  -0.029847200169061748\n",
      "Weight of sp:  17 is:  -0.02969406684811622\n",
      "Weight of sp:  32 is:  -0.028443228653871104\n",
      "Weight of sp:  50 is:  -0.028075035337861886\n",
      "Weight of sp:  41 is:  -0.027900192973817073\n",
      "Weight of sp:  42 is:  -0.027706964129807728\n",
      "Weight of sp:  29 is:  -0.02716300775972451\n",
      "Weight of sp:  26 is:  -0.025169545428084375\n",
      "Weight of sp:  38 is:  -0.02516198670006356\n",
      "Weight of sp:  11 is:  -0.02466414440778857\n",
      "Weight of sp:  1 is:  0.024309356133632935\n",
      "Weight of sp:  51 is:  -0.02317563173804227\n",
      "Weight of sp:  2 is:  -0.022646722866962496\n",
      "Weight of sp:  54 is:  -0.021723595362591785\n",
      "Weight of sp:  12 is:  -0.021682421573231112\n",
      "Weight of sp:  19 is:  -0.021109868207979682\n",
      "Weight of sp:  10 is:  -0.02063328133536464\n",
      "Weight of sp:  24 is:  -0.01991671108142791\n",
      "Weight of sp:  57 is:  -0.019086819818907735\n",
      "Weight of sp:  43 is:  -0.01898541374112343\n",
      "Weight of sp:  21 is:  -0.017437282575847937\n",
      "Weight of sp:  34 is:  -0.01552214712242847\n",
      "Weight of sp:  7 is:  0.014130836652438392\n",
      "Weight of sp:  45 is:  -0.013320205041269234\n",
      "Weight of sp:  16 is:  -0.012483877058096738\n",
      "Weight of sp:  36 is:  -0.012425402658897836\n",
      "Weight of sp:  4 is:  -0.011801812391546733\n",
      "Weight of sp:  56 is:  -0.011735319581151258\n",
      "Weight of sp:  47 is:  -0.011630014034383959\n",
      "Weight of sp:  23 is:  -0.011249223696160516\n",
      "Weight of sp:  18 is:  -0.010803011550329691\n",
      "Weight of sp:  9 is:  -0.01056161807578616\n",
      "Weight of sp:  30 is:  -0.010221854503004411\n",
      "Weight of sp:  39 is:  -0.010093427252821365\n",
      "Weight of sp:  25 is:  -0.009963713937353944\n",
      "Weight of sp:  15 is:  -0.009311638287083016\n",
      "Weight of sp:  40 is:  -0.0088222832339533\n",
      "Weight of sp:  37 is:  -0.008781085559672008\n",
      "Weight of sp:  58 is:  -0.006179920220966291\n",
      "Weight of sp:  14 is:  0.006155723197724132\n",
      "Weight of sp:  48 is:  -0.0057675211069625355\n",
      "Weight of sp:  8 is:  0.005734144829495765\n",
      "Weight of sp:  5 is:  0.005526388541218489\n",
      "Weight of sp:  13 is:  -0.0034531935390299338\n",
      "Weight of sp:  31 is:  -0.0023502155735322474\n",
      "Weight of sp:  55 is:  -0.0015604670194314992\n",
      "Weight of sp:  0 is:  -0.0012332024249395888\n",
      "Weight of sp:  63 is:  -9.966294245266728e-05\n"
     ]
    }
   ],
   "source": [
    "#[SOLUTION]\n",
    "\n",
    "annotated_image = la.annotate_image_parts(image, model, OUTPUT_DIR, N)"
   ]
  },
  {
   "cell_type": "code",
   "execution_count": 8,
   "metadata": {},
   "outputs": [
    {
     "data": {
      "text/plain": [
       "<matplotlib.image.AxesImage at 0x7f7d7e7e38d0>"
      ]
     },
     "execution_count": 8,
     "metadata": {},
     "output_type": "execute_result"
    },
    {
     "data": {
      "image/png": "[encoded data removed]",
      "text/plain": [
       "<Figure size 432x288 with 1 Axes>"
      ]
     },
     "metadata": {
      "needs_background": "light"
     },
     "output_type": "display_data"
    }
   ],
   "source": [
    "import matplotlib.pyplot as plt\n",
    "from skimage.segmentation import mark_boundaries\n",
    "\n",
    "true_class = 1\n",
    "\n",
    "temp, mask = annotated_image.explanation.get_image_and_mask(true_class, positive_only=True, num_features=4, hide_rest=True)\n",
    "plt.imshow(mark_boundaries(temp, mask))"
   ]
  },
  {
   "cell_type": "code",
   "execution_count": 9,
   "metadata": {},
   "outputs": [
    {
     "data": {
      "text/plain": [
       "<matplotlib.image.AxesImage at 0x7f7d7e6bc310>"
      ]
     },
     "execution_count": 9,
     "metadata": {},
     "output_type": "execute_result"
    },
    {
     "data": {
      "image/png": "[encoded data removed]",
      "text/plain": [
       "<Figure size 432x288 with 1 Axes>"
      ]
     },
     "metadata": {
      "needs_background": "light"
     },
     "output_type": "display_data"
    }
   ],
   "source": [
    "negative_class = 0\n",
    "\n",
    "temp, mask = annotated_image.explanation.get_image_and_mask(negative_class, positive_only=True, num_features=4, hide_rest=True)\n",
    "plt.imshow(mark_boundaries(temp, mask))"
   ]
  },
  {
   "cell_type": "markdown",
   "metadata": {},
   "source": [
    "Nachdem das Bild nun annotiert ist (als Annotation wurden auch die Gewichte von LIME für die einzelnen Elemente gefunden), können wir nun die wichtigsten __K__ Bildelemente mit der Funktion __find_important_parts__ finden. Anschließend können Sie auch die Relationen zwischen den Bildteilen mit der Funktion __find_spatial_relations__ finden lassen:"
   ]
  },
  {
   "cell_type": "code",
   "execution_count": 10,
   "metadata": {
    "scrolled": false
   },
   "outputs": [
    {
     "name": "stderr",
     "output_type": "stream",
     "text": [
      "Clipping input data to the valid range for imshow with RGB data ([0..1] for floats or [0..255] for integers).\n"
     ]
    },
    {
     "data": {
      "text/plain": [
       "<matplotlib.image.AxesImage at 0x7f7d840e8550>"
      ]
     },
     "execution_count": 10,
     "metadata": {},
     "output_type": "execute_result"
    },
    {
     "data": {
      "image/png": "[encoded data removed]",
      "text/plain": [
       "<Figure size 432x288 with 1 Axes>"
      ]
     },
     "metadata": {
      "needs_background": "light"
     },
     "output_type": "display_data"
    }
   ],
   "source": [
    "#[SOLUTION]\n",
    "\n",
    "important_superpixels, labeled_image = la.find_important_parts(annotated_image, 4)\n",
    "\n",
    "plt.imshow(labeled_image)"
   ]
  },
  {
   "cell_type": "code",
   "execution_count": 13,
   "metadata": {},
   "outputs": [
    {
     "name": "stdout",
     "output_type": "stream",
     "text": [
      "// Graph of spatial relations\n",
      "digraph {\n",
      "\t44 [label=44]\n",
      "\t60 [label=60]\n",
      "\t52 [label=52]\n",
      "\t28 [label=28]\n",
      "\t60 -> 44 [label=bottom_of]\n",
      "\t52 -> 44 [label=under]\n",
      "\t52 -> 44 [label=bottom_of]\n",
      "\t28 -> 44 [label=top_of]\n",
      "\t44 -> 60 [label=top_of]\n",
      "\t52 -> 60 [label=on]\n",
      "\t52 -> 60 [label=top_of]\n",
      "\t28 -> 60 [label=top_of]\n",
      "\t44 -> 52 [label=on]\n",
      "\t44 -> 52 [label=top_of]\n",
      "\t60 -> 52 [label=under]\n",
      "\t60 -> 52 [label=bottom_of]\n",
      "\t28 -> 52 [label=top_of]\n",
      "\t44 -> 28 [label=bottom_of]\n",
      "\t60 -> 28 [label=bottom_of]\n",
      "\t52 -> 28 [label=bottom_of]\n",
      "}\n"
     ]
    }
   ],
   "source": [
    "relations, graph = la.find_spatial_relations(important_superpixels)"
   ]
  },
  {
   "cell_type": "markdown",
   "metadata": {},
   "source": [
    "Die Liste, welche von der Funktion zum Finden von Relationen zurückgegeben wurde, beinhaltet Objekte vom Typ __Relation__. Als nächstes geben wir alle gefundenen Relationen aus:"
   ]
  },
  {
   "cell_type": "code",
   "execution_count": 14,
   "metadata": {
    "scrolled": true
   },
   "outputs": [
    {
     "name": "stdout",
     "output_type": "stream",
     "text": [
      "Relation: 60 -- bottom_of --> 44\n",
      "Relation: 52 -- under --> 44\n",
      "Relation: 52 -- bottom_of --> 44\n",
      "Relation: 28 -- top_of --> 44\n",
      "Relation: 44 -- top_of --> 60\n",
      "Relation: 52 -- on --> 60\n",
      "Relation: 52 -- top_of --> 60\n",
      "Relation: 28 -- top_of --> 60\n",
      "Relation: 44 -- on --> 52\n",
      "Relation: 44 -- top_of --> 52\n",
      "Relation: 60 -- under --> 52\n",
      "Relation: 60 -- bottom_of --> 52\n",
      "Relation: 28 -- top_of --> 52\n",
      "Relation: 44 -- bottom_of --> 28\n",
      "Relation: 60 -- bottom_of --> 28\n",
      "Relation: 52 -- bottom_of --> 28\n"
     ]
    }
   ],
   "source": [
    "for rel in relations:\n",
    "    print(rel)"
   ]
  },
  {
   "cell_type": "markdown",
   "metadata": {},
   "source": [
    "Der Name beschreibt das Prädikat der räumlichen Relation. Die weiteren Informationen beschreiben die Indices der Start- und Zielelemente der Relation innerhalb des Bildes. Wir können uns weiterhin den Relations-Graphen ausgeben lassen:"
   ]
  },
  {
   "cell_type": "code",
   "execution_count": 16,
   "metadata": {},
   "outputs": [
    {
     "data": {
      "text/plain": [
       "'relations-graph.gv.pdf'"
      ]
     },
     "execution_count": 16,
     "metadata": {},
     "output_type": "execute_result"
    }
   ],
   "source": [
    "graph.render('relations-graph.gv', view=True)"
   ]
  },
  {
   "cell_type": "markdown",
   "metadata": {},
   "source": [
    "Nun wollen wir das perturbierte Datenset für LIME-Aleph generieren lassen. Benutzen Sie hierzu die Funktion __perturb_instance__ mit den erforderlichen Parametern. Lassen Sie sich auch ausgeben, wie viele Instanzen im neuen Datenset sind (Es wird eine Liste mit Instanzen zurückgegeben)."
   ]
  },
  {
   "cell_type": "code",
   "execution_count": 17,
   "metadata": {},
   "outputs": [
    {
     "name": "stderr",
     "output_type": "stream",
     "text": [
      "/home/johannes/anaconda3/envs/ki-campus/lib/python3.7/site-packages/tensorflow/python/keras/engine/sequential.py:425: UserWarning: `model.predict_proba()` is deprecated and will be removed after 2021-01-01. Please use `model.predict()` instead.\n",
      "  warnings.warn('`model.predict_proba()` is deprecated and '\n"
     ]
    },
    {
     "name": "stdout",
     "output_type": "stream",
     "text": [
      "Number of perturbed instances: 17\n"
     ]
    }
   ],
   "source": [
    "#[SOLUTION]\n",
    "perturbed_dataset = la.perturb_instance(annotated_image, relations, model, T)\n",
    "print(\"Number of perturbed instances:\", len(perturbed_dataset))"
   ]
  },
  {
   "cell_type": "code",
   "execution_count": 18,
   "metadata": {},
   "outputs": [
    {
     "name": "stdout",
     "output_type": "stream",
     "text": [
      "{'id': 44, 'name': 'sp_44', 'color': 'darkturquoise', 'size': 16, 'lime_weight': 0.12966727143571175, 'x_coord': 17.5, 'y_coord': 21.5}\n",
      "{'id': 60, 'name': 'sp_60', 'color': 'mediumblue', 'size': 16, 'lime_weight': 0.12455642892864707, 'x_coord': 17.5, 'y_coord': 29.5}\n",
      "{'id': 52, 'name': 'sp_52', 'color': 'lime', 'size': 16, 'lime_weight': 0.11465201908471384, 'x_coord': 17.5, 'y_coord': 25.5}\n",
      "{'id': 28, 'name': 'sp_28', 'color': 'maroon', 'size': 16, 'lime_weight': -0.05044375574873537, 'x_coord': 17.5, 'y_coord': 13.5}\n",
      "{'id': 59, 'name': 'sp_59', 'color': 'maroon', 'size': 16, 'lime_weight': -0.04373004856099038, 'x_coord': 13.5, 'y_coord': 29.5}\n",
      "{'id': 3, 'name': 'sp_3', 'color': 'maroon', 'size': 16, 'lime_weight': -0.040807283548354, 'x_coord': 13.5, 'y_coord': 1.5}\n",
      "{'id': 33, 'name': 'sp_33', 'color': 'maroon', 'size': 16, 'lime_weight': -0.04000379151943676, 'x_coord': 5.5, 'y_coord': 17.5}\n",
      "{'id': 27, 'name': 'sp_27', 'color': 'maroon', 'size': 16, 'lime_weight': -0.03999137835157025, 'x_coord': 13.5, 'y_coord': 13.5}\n",
      "{'id': 62, 'name': 'sp_62', 'color': 'maroon', 'size': 16, 'lime_weight': -0.03946291830788788, 'x_coord': 25.5, 'y_coord': 29.5}\n",
      "{'id': 49, 'name': 'sp_49', 'color': 'maroon', 'size': 16, 'lime_weight': -0.03695378517343034, 'x_coord': 5.5, 'y_coord': 25.5}\n",
      "{'id': 20, 'name': 'sp_20', 'color': 'maroon', 'size': 16, 'lime_weight': -0.03349757563408812, 'x_coord': 17.5, 'y_coord': 9.5}\n",
      "{'id': 46, 'name': 'sp_46', 'color': 'maroon', 'size': 16, 'lime_weight': -0.032755356607623014, 'x_coord': 25.5, 'y_coord': 21.5}\n",
      "{'id': 35, 'name': 'sp_35', 'color': 'maroon', 'size': 16, 'lime_weight': -0.03154148550291033, 'x_coord': 13.5, 'y_coord': 17.5}\n",
      "{'id': 53, 'name': 'sp_53', 'color': 'maroon', 'size': 16, 'lime_weight': -0.031101338014403592, 'x_coord': 21.5, 'y_coord': 25.5}\n",
      "{'id': 61, 'name': 'sp_61', 'color': 'maroon', 'size': 16, 'lime_weight': -0.030931118398504872, 'x_coord': 21.5, 'y_coord': 29.5}\n",
      "{'id': 6, 'name': 'sp_6', 'color': 'maroon', 'size': 16, 'lime_weight': -0.03026891402728769, 'x_coord': 25.5, 'y_coord': 1.5}\n",
      "{'id': 22, 'name': 'sp_22', 'color': 'maroon', 'size': 16, 'lime_weight': -0.029847200169061748, 'x_coord': 25.5, 'y_coord': 9.5}\n",
      "{'id': 17, 'name': 'sp_17', 'color': 'maroon', 'size': 16, 'lime_weight': -0.02969406684811622, 'x_coord': 5.5, 'y_coord': 9.5}\n",
      "{'id': 32, 'name': 'sp_32', 'color': 'maroon', 'size': 16, 'lime_weight': -0.028443228653871104, 'x_coord': 1.5, 'y_coord': 17.5}\n",
      "{'id': 50, 'name': 'sp_50', 'color': 'maroon', 'size': 16, 'lime_weight': -0.028075035337861886, 'x_coord': 9.5, 'y_coord': 25.5}\n",
      "{'id': 41, 'name': 'sp_41', 'color': 'maroon', 'size': 16, 'lime_weight': -0.027900192973817073, 'x_coord': 5.5, 'y_coord': 21.5}\n",
      "{'id': 42, 'name': 'sp_42', 'color': 'maroon', 'size': 16, 'lime_weight': -0.027706964129807728, 'x_coord': 9.5, 'y_coord': 21.5}\n",
      "{'id': 29, 'name': 'sp_29', 'color': 'maroon', 'size': 16, 'lime_weight': -0.02716300775972451, 'x_coord': 21.5, 'y_coord': 13.5}\n",
      "{'id': 26, 'name': 'sp_26', 'color': 'maroon', 'size': 16, 'lime_weight': -0.025169545428084375, 'x_coord': 9.5, 'y_coord': 13.5}\n",
      "{'id': 38, 'name': 'sp_38', 'color': 'maroon', 'size': 16, 'lime_weight': -0.02516198670006356, 'x_coord': 25.5, 'y_coord': 17.5}\n",
      "{'id': 11, 'name': 'sp_11', 'color': 'maroon', 'size': 16, 'lime_weight': -0.02466414440778857, 'x_coord': 13.5, 'y_coord': 5.5}\n",
      "{'id': 1, 'name': 'sp_1', 'color': 'maroon', 'size': 16, 'lime_weight': 0.024309356133632935, 'x_coord': 5.5, 'y_coord': 1.5}\n",
      "{'id': 51, 'name': 'sp_51', 'color': 'maroon', 'size': 16, 'lime_weight': -0.02317563173804227, 'x_coord': 13.5, 'y_coord': 25.5}\n",
      "{'id': 2, 'name': 'sp_2', 'color': 'maroon', 'size': 16, 'lime_weight': -0.022646722866962496, 'x_coord': 9.5, 'y_coord': 1.5}\n",
      "{'id': 54, 'name': 'sp_54', 'color': 'maroon', 'size': 16, 'lime_weight': -0.021723595362591785, 'x_coord': 25.5, 'y_coord': 25.5}\n",
      "{'id': 12, 'name': 'sp_12', 'color': 'maroon', 'size': 16, 'lime_weight': -0.021682421573231112, 'x_coord': 17.5, 'y_coord': 5.5}\n",
      "{'id': 19, 'name': 'sp_19', 'color': 'maroon', 'size': 16, 'lime_weight': -0.021109868207979682, 'x_coord': 13.5, 'y_coord': 9.5}\n",
      "{'id': 10, 'name': 'sp_10', 'color': 'maroon', 'size': 16, 'lime_weight': -0.02063328133536464, 'x_coord': 9.5, 'y_coord': 5.5}\n",
      "{'id': 24, 'name': 'sp_24', 'color': 'maroon', 'size': 16, 'lime_weight': -0.01991671108142791, 'x_coord': 1.5, 'y_coord': 13.5}\n",
      "{'id': 57, 'name': 'sp_57', 'color': 'maroon', 'size': 16, 'lime_weight': -0.019086819818907735, 'x_coord': 5.5, 'y_coord': 29.5}\n",
      "{'id': 43, 'name': 'sp_43', 'color': 'maroon', 'size': 16, 'lime_weight': -0.01898541374112343, 'x_coord': 13.5, 'y_coord': 21.5}\n",
      "{'id': 21, 'name': 'sp_21', 'color': 'maroon', 'size': 16, 'lime_weight': -0.017437282575847937, 'x_coord': 21.5, 'y_coord': 9.5}\n",
      "{'id': 34, 'name': 'sp_34', 'color': 'maroon', 'size': 16, 'lime_weight': -0.01552214712242847, 'x_coord': 9.5, 'y_coord': 17.5}\n",
      "{'id': 7, 'name': 'sp_7', 'color': 'maroon', 'size': 16, 'lime_weight': 0.014130836652438392, 'x_coord': 29.5, 'y_coord': 1.5}\n",
      "{'id': 45, 'name': 'sp_45', 'color': 'maroon', 'size': 16, 'lime_weight': -0.013320205041269234, 'x_coord': 21.5, 'y_coord': 21.5}\n",
      "{'id': 16, 'name': 'sp_16', 'color': 'maroon', 'size': 16, 'lime_weight': -0.012483877058096738, 'x_coord': 1.5, 'y_coord': 9.5}\n",
      "{'id': 36, 'name': 'sp_36', 'color': 'maroon', 'size': 16, 'lime_weight': -0.012425402658897836, 'x_coord': 17.5, 'y_coord': 17.5}\n",
      "{'id': 4, 'name': 'sp_4', 'color': 'maroon', 'size': 16, 'lime_weight': -0.011801812391546733, 'x_coord': 17.5, 'y_coord': 1.5}\n",
      "{'id': 56, 'name': 'sp_56', 'color': 'maroon', 'size': 16, 'lime_weight': -0.011735319581151258, 'x_coord': 1.5, 'y_coord': 29.5}\n",
      "{'id': 47, 'name': 'sp_47', 'color': 'maroon', 'size': 16, 'lime_weight': -0.011630014034383959, 'x_coord': 29.5, 'y_coord': 21.5}\n",
      "{'id': 23, 'name': 'sp_23', 'color': 'maroon', 'size': 16, 'lime_weight': -0.011249223696160516, 'x_coord': 29.5, 'y_coord': 9.5}\n",
      "{'id': 18, 'name': 'sp_18', 'color': 'maroon', 'size': 16, 'lime_weight': -0.010803011550329691, 'x_coord': 9.5, 'y_coord': 9.5}\n",
      "{'id': 9, 'name': 'sp_9', 'color': 'maroon', 'size': 16, 'lime_weight': -0.01056161807578616, 'x_coord': 5.5, 'y_coord': 5.5}\n",
      "{'id': 30, 'name': 'sp_30', 'color': 'maroon', 'size': 16, 'lime_weight': -0.010221854503004411, 'x_coord': 25.5, 'y_coord': 13.5}\n",
      "{'id': 39, 'name': 'sp_39', 'color': 'maroon', 'size': 16, 'lime_weight': -0.010093427252821365, 'x_coord': 29.5, 'y_coord': 17.5}\n",
      "{'id': 25, 'name': 'sp_25', 'color': 'maroon', 'size': 16, 'lime_weight': -0.009963713937353944, 'x_coord': 5.5, 'y_coord': 13.5}\n",
      "{'id': 15, 'name': 'sp_15', 'color': 'maroon', 'size': 16, 'lime_weight': -0.009311638287083016, 'x_coord': 29.5, 'y_coord': 5.5}\n",
      "{'id': 40, 'name': 'sp_40', 'color': 'maroon', 'size': 16, 'lime_weight': -0.0088222832339533, 'x_coord': 1.5, 'y_coord': 21.5}\n",
      "{'id': 37, 'name': 'sp_37', 'color': 'maroon', 'size': 16, 'lime_weight': -0.008781085559672008, 'x_coord': 21.5, 'y_coord': 17.5}\n",
      "{'id': 58, 'name': 'sp_58', 'color': 'maroon', 'size': 16, 'lime_weight': -0.006179920220966291, 'x_coord': 9.5, 'y_coord': 29.5}\n",
      "{'id': 14, 'name': 'sp_14', 'color': 'maroon', 'size': 16, 'lime_weight': 0.006155723197724132, 'x_coord': 25.5, 'y_coord': 5.5}\n",
      "{'id': 48, 'name': 'sp_48', 'color': 'maroon', 'size': 16, 'lime_weight': -0.0057675211069625355, 'x_coord': 1.5, 'y_coord': 25.5}\n",
      "{'id': 8, 'name': 'sp_8', 'color': 'maroon', 'size': 16, 'lime_weight': 0.005734144829495765, 'x_coord': 1.5, 'y_coord': 5.5}\n",
      "{'id': 5, 'name': 'sp_5', 'color': 'maroon', 'size': 16, 'lime_weight': 0.005526388541218489, 'x_coord': 21.5, 'y_coord': 1.5}\n",
      "{'id': 13, 'name': 'sp_13', 'color': 'maroon', 'size': 16, 'lime_weight': -0.0034531935390299338, 'x_coord': 21.5, 'y_coord': 5.5}\n",
      "{'id': 31, 'name': 'sp_31', 'color': 'maroon', 'size': 16, 'lime_weight': -0.0023502155735322474, 'x_coord': 29.5, 'y_coord': 13.5}\n",
      "{'id': 55, 'name': 'sp_55', 'color': 'maroon', 'size': 16, 'lime_weight': -0.0015604670194314992, 'x_coord': 29.5, 'y_coord': 25.5}\n",
      "{'id': 0, 'name': 'sp_0', 'color': 'maroon', 'size': 16, 'lime_weight': -0.0012332024249395888, 'x_coord': 1.5, 'y_coord': 1.5}\n",
      "{'id': 63, 'name': 'sp_63', 'color': 'maroon', 'size': 16, 'lime_weight': -9.966294245266728e-05, 'x_coord': 29.5, 'y_coord': 29.5}\n"
     ]
    }
   ],
   "source": [
    "for idx in annotated_image.superpixels:\n",
    "    print(vars(idx))"
   ]
  },
  {
   "cell_type": "markdown",
   "metadata": {},
   "source": [
    "Das ILP-Framework Aleph benötigt mehrere Hilfsdateien, die mit der Funktion __write_aleph_files__ erzeugt werden. Rufen Sie diese Funktion auf. Es sollen alle räumlichen Relationen verwendet werden! Zur Verfügung stehen folgende Relationen: *left_of*, *right_of*, *top_of*, *bottom_of*, *on*, *under*"
   ]
  },
  {
   "cell_type": "code",
   "execution_count": 19,
   "metadata": {},
   "outputs": [
    {
     "name": "stdout",
     "output_type": "stream",
     "text": [
      "Writing the input files for Aleph...\n",
      "Done.\n"
     ]
    }
   ],
   "source": [
    "#[SOLUTION]\n",
    "used_relations = None # 'None' if you want to allow all relations, otherwise list with following possibilities: [\"left_of\", \"right_of\", \"top_of\", \"bottom_of\", \"on\", \"under\"]\n",
    "la.write_aleph_files(annotated_image, perturbed_dataset, used_relations, OUTPUT_DIR, NOISE)"
   ]
  },
  {
   "cell_type": "markdown",
   "metadata": {},
   "source": [
    "Schlussendlich muss nun der Induktionsprozess von Aleph angestoßen werden. Dieser Schritt (mit der Funktion __run_aleph__) gibt auch die gefundene Erklärung aus:"
   ]
  },
  {
   "cell_type": "code",
   "execution_count": 20,
   "metadata": {
    "scrolled": true
   },
   "outputs": [
    {
     "name": "stdout",
     "output_type": "stream",
     "text": [
      "[{}]\n",
      "[{}]\n",
      "[{}]\n",
      "[{}]\n",
      "[{}]\n",
      "The explanation was saved to '../output/explanation.txt'\n"
     ]
    }
   ],
   "source": [
    "#[SOLUTION]\n",
    "la.run_aleph(OUTPUT_DIR)"
   ]
  },
  {
   "cell_type": "markdown",
   "metadata": {},
   "source": [
    "Die Erklärung in Form von Regeln kann nun im angegebenen Ordner in der Datei *explanation.txt* gefunden und interpretiert werden. Wir lesen nun diese Datei aus:"
   ]
  },
  {
   "cell_type": "code",
   "execution_count": 21,
   "metadata": {},
   "outputs": [
    {
     "name": "stdout",
     "output_type": "stream",
     "text": [
      "true_class(A) :-\n",
      "   contains(B,A), has_color(B,mediumblue), contains(C,A), has_color(C,lime), \n",
      "   top_of_in_ex(C,B,A), contains(D,A), top_of_in_ex(D,C,A).\n",
      "\n"
     ]
    }
   ],
   "source": [
    "with open(OUTPUT_DIR + \"explanation.txt\", 'r') as f:\n",
    "    print(f.read())"
   ]
  },
  {
   "cell_type": "markdown",
   "metadata": {},
   "source": [
    "# Interpretation \n",
    "...\n",
    "\n",
    "\n",
    "true_class(A) :-\n",
    "   contains(B,A), has_color(B,mediumblue), contains(C,A), has_color(C,lime), \n",
    "   top_of_in_ex(C,B,A).\n",
    "\n",
    "## Interpretierte Regel\n",
    "\n",
    "true_class(Turm) :-\n",
    "   contains(Blau,Turm), has_color(Blau,mediumblue), contains(Grün,Turm), has_color(Grün,lime), \n",
    "   top_of_in_ex(Grün,Blau,Turm).\n",
    "\n",
    "übersetzt in Satz\n",
    "Turm ist wahr wenn gilt: Der blaue Klotz gehört zu einem Turm, ... \n",
    "\n",
    "[Bild]\n",
    "\n",
    "\n",
    "\n",
    "\n"
   ]
  }
 ],
 "metadata": {
  "kernelspec": {
   "display_name": "Python 3",
   "language": "python",
   "name": "python3"
  },
  "language_info": {
   "codemirror_mode": {
    "name": "ipython",
    "version": 3
   },
   "file_extension": ".py",
   "mimetype": "text/x-python",
   "name": "python",
   "nbconvert_exporter": "python",
   "pygments_lexer": "ipython3",
   "version": "3.7.9"
  }
 },
 "nbformat": 4,
 "nbformat_minor": 4
}
