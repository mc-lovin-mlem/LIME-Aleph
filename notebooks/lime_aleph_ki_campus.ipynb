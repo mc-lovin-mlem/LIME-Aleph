{
 "cells": [
  {
   "cell_type": "markdown",
   "metadata": {},
   "source": [
    "# LIME-Aleph\n",
    "2021-02-15\n",
    "\n",
    "Johannes Rabold (Universität Bamberg) und Stephan Scheele (Fraunhofer IIS)\n",
    "\n",
    "Adaptiert für den KI-Campus Kurs XAI4Ing. \n"
   ]
  },
  {
   "cell_type": "markdown",
   "metadata": {},
   "source": [
    "## Kontakt\n",
    "Über das git Repository von LIME-Aleph oder https://www.uni-bamberg.de/en/cogsys/team/. "
   ]
  },
  {
   "cell_type": "markdown",
   "metadata": {},
   "source": [
    "## Lizenz\n",
    "Diese Arbeit ist lizenziert unter [BSD-2-Clause Lizenz](https://opensource.org/licenses/BSD-2-Clause)."
   ]
  },
  {
   "cell_type": "markdown",
   "metadata": {},
   "source": [
    "<hr>"
   ]
  },
  {
   "cell_type": "markdown",
   "metadata": {},
   "source": [
    "Willkommen zum Beispiel für das Modul __LIME-Aleph__ im KI-Campus. Hier werden Sie den typischen Ablauf zum Finden einer symbolischen Erklärung für Black-Box Netzwerke mithilfe der LIME-Aleph Bibliothek beschreiben."
   ]
  },
  {
   "cell_type": "markdown",
   "metadata": {},
   "source": [
    "_J. Rabold, H. Deininger, M. Siebers, U. Schmid:. (2019)._ [„Enriching Visual with Verbal Explanations for Relational Concepts – Combining LIME with Aleph“](https://doi.org/10.1007/978-3-030-43823-4_16)"
   ]
  },
  {
   "cell_type": "markdown",
   "metadata": {},
   "source": [
    "__Hinweis__: Bitte setzen Sie das Notebook zurück wenn sie dieses ein zweites mal ausführen möchten. \n",
    "    Im Menü über __(Kernel > Restart)__."
   ]
  },
  {
   "cell_type": "markdown",
   "metadata": {},
   "source": [
    "Zunächst importieren wir die benötigten Bibliotheken und definieren einige Parameter. \n",
    "Im Beispiel nutzen wir ein Bild zur Klassifikation und ein bereits bestehendes und vortrainiertes Modell. "
   ]
  },
  {
   "cell_type": "code",
   "execution_count": 1,
   "metadata": {},
   "outputs": [],
   "source": [
    "import os, sys, inspect\n",
    "current_dir = os.path.dirname(os.path.abspath(inspect.getfile(inspect.currentframe())))\n",
    "parent_dir = os.path.dirname(current_dir)\n",
    "sys.path.insert(0, parent_dir)\n",
    "from skimage.util import img_as_float32\n",
    "from skimage.transform import resize\n",
    "from scripts.train_model import own_rel\n",
    "from skimage import io\n",
    "from skimage.io import imshow, show, imsave\n",
    "import matplotlib.pyplot as plt\n",
    "%matplotlib inline\n",
    "from skimage.segmentation import mark_boundaries\n",
    "import shutil\n",
    "from graphviz import Digraph\n",
    "\n",
    "import lime_aleph.lime_aleph as la\n",
    "\n",
    "IMAGE_FILE = \"pos9000.png\" # The path to the image file to be classified by the black-box\n",
    "MODEL = \"../models_to_explain/model_tower.h5\" # The path to the pre-trained model\n",
    "N = 1000 # The sample size for LIME\n",
    "OUTPUT_DIR = \"../output/\" # A path for a directory to save intermediate and output data\n",
    "T = 0.8 # The threshold for the binary classifier for when an example is classified as 'positive'\n",
    "NOISE = 10 # The allowed false-positive rate for Aleph in percent.b"
   ]
  },
  {
   "cell_type": "markdown",
   "metadata": {},
   "source": [
    "Sollte es noch temporäre Daten aus früheren Durchläufen geben, sollen diese nun gelöscht werden:"
   ]
  },
  {
   "cell_type": "code",
   "execution_count": 2,
   "metadata": {},
   "outputs": [],
   "source": [
    "shutil.rmtree(OUTPUT_DIR, ignore_errors=True)\n",
    "os.makedirs(OUTPUT_DIR)"
   ]
  },
  {
   "cell_type": "markdown",
   "metadata": {},
   "source": [
    "Wir laden das Bild und das vortrainierte Modell in den Speicher. "
   ]
  },
  {
   "cell_type": "code",
   "execution_count": 3,
   "metadata": {},
   "outputs": [
    {
     "data": {
      "image/png": "[encoded data removed]",
      "text/plain": [
       "<Figure size 432x288 with 1 Axes>"
      ]
     },
     "metadata": {
      "needs_background": "light"
     },
     "output_type": "display_data"
    }
   ],
   "source": [
    "image = img_as_float32(io.imread(IMAGE_FILE))\n",
    "image = resize(image, (own_rel.IMAGE_SIZE, own_rel.IMAGE_SIZE), anti_aliasing=True)\n",
    "\n",
    "model = own_rel.own_rel()\n",
    "model.load_weights(MODEL)\n",
    "\n",
    "io.imshow(image)\n",
    "io.show()"
   ]
  },
  {
   "cell_type": "markdown",
   "metadata": {},
   "source": [
    "## Annotation des Bildes\n",
    "Im Folgenden werden die im Bild vorhandenen Elemente automatisch annotiert. \n",
    "Dazu verwenden wir die Funktion __annotate_image_parts__ aus dem Package __lime_aleph__."
   ]
  },
  {
   "cell_type": "code",
   "execution_count": 4,
   "metadata": {},
   "outputs": [
    {
     "name": "stdout",
     "output_type": "stream",
     "text": [
      "Running LIME...\n",
      "True class of the image is:  1\n",
      "Starting the explanation generation process. This may take a while.\n"
     ]
    },
    {
     "data": {
      "application/vnd.jupyter.widget-view+json": {
       "model_id": "340c59f4a9584fb688bfc1ffdc3065fb",
       "version_major": 2,
       "version_minor": 0
      },
      "text/plain": [
       "HBox(children=(HTML(value=''), FloatProgress(value=0.0, max=1000.0), HTML(value='')))"
      ]
     },
     "metadata": {},
     "output_type": "display_data"
    },
    {
     "name": "stderr",
     "output_type": "stream",
     "text": [
      "Lossy conversion from float64 to uint8. Range [0, 1]. Convert image to uint8 prior to saving to suppress this warning.\n",
      "Lossy conversion from float64 to uint8. Range [0, 1]. Convert image to uint8 prior to saving to suppress this warning.\n"
     ]
    },
    {
     "name": "stdout",
     "output_type": "stream",
     "text": [
      "\n",
      "Intercept -0.23031994401841843\n",
      "Prediction_local [0.35385624]\n",
      "Right: 0.023822423\n",
      "Intercept 1.2303199545758752\n",
      "Prediction_local [0.64614375]\n",
      "Right: 0.9761776\n",
      "Number of superpixels: 64\n",
      "Annotating the superpixels...\n",
      "Weight of sp:  60 is:  0.14738065074202106\n",
      "Weight of sp:  44 is:  0.13298913755954553\n",
      "Weight of sp:  52 is:  0.11417783563071526\n",
      "Weight of sp:  41 is:  -0.06572846498271029\n",
      "Weight of sp:  59 is:  -0.06290826274822858\n",
      "Weight of sp:  54 is:  -0.05255973715514758\n",
      "Weight of sp:  43 is:  -0.04536606627095373\n",
      "Weight of sp:  21 is:  -0.04152602075798407\n",
      "Weight of sp:  46 is:  -0.03785419869001678\n",
      "Weight of sp:  14 is:  -0.03752408365193953\n",
      "Weight of sp:  36 is:  -0.036498947981638385\n",
      "Weight of sp:  42 is:  -0.034512121330278304\n",
      "Weight of sp:  22 is:  -0.033483293450011706\n",
      "Weight of sp:  10 is:  -0.031224375157290384\n",
      "Weight of sp:  27 is:  -0.030049199016072812\n",
      "Weight of sp:  32 is:  -0.029466321207107557\n",
      "Weight of sp:  12 is:  -0.028817472171786117\n",
      "Weight of sp:  48 is:  -0.02752466021101765\n",
      "Weight of sp:  4 is:  -0.026611543299491836\n",
      "Weight of sp:  1 is:  -0.025845831361314055\n",
      "Weight of sp:  13 is:  -0.02546120796314784\n",
      "Weight of sp:  8 is:  -0.02529238415305106\n",
      "Weight of sp:  25 is:  -0.023526527440026066\n",
      "Weight of sp:  50 is:  -0.023415651707132123\n",
      "Weight of sp:  29 is:  -0.023250169771155627\n",
      "Weight of sp:  61 is:  -0.022485417983902318\n",
      "Weight of sp:  30 is:  -0.02217645643088905\n",
      "Weight of sp:  0 is:  -0.01729991933130169\n",
      "Weight of sp:  35 is:  -0.0161664988658344\n",
      "Weight of sp:  11 is:  -0.016023265644604177\n",
      "Weight of sp:  2 is:  -0.01507530721360532\n",
      "Weight of sp:  26 is:  -0.01486997622636071\n",
      "Weight of sp:  55 is:  -0.014253817237716473\n",
      "Weight of sp:  31 is:  -0.013836258642013556\n",
      "Weight of sp:  23 is:  -0.013298737652972552\n",
      "Weight of sp:  39 is:  -0.012567839915475564\n",
      "Weight of sp:  45 is:  -0.011430113836195507\n",
      "Weight of sp:  57 is:  0.009881837115589882\n",
      "Weight of sp:  56 is:  0.009119950583362528\n",
      "Weight of sp:  38 is:  0.008134897832337406\n",
      "Weight of sp:  24 is:  0.008122001721467193\n",
      "Weight of sp:  28 is:  -0.0075630666011668275\n",
      "Weight of sp:  51 is:  -0.007384299696451571\n",
      "Weight of sp:  34 is:  -0.006395672665189237\n",
      "Weight of sp:  9 is:  -0.006237345289061188\n",
      "Weight of sp:  16 is:  -0.005849003799411016\n",
      "Weight of sp:  20 is:  -0.0054801720528421015\n",
      "Weight of sp:  17 is:  0.0054420846677066086\n",
      "Weight of sp:  53 is:  -0.0048341926761471124\n",
      "Weight of sp:  5 is:  -0.004636010354245429\n",
      "Weight of sp:  62 is:  0.004365855886540183\n",
      "Weight of sp:  37 is:  -0.00367355921632929\n",
      "Weight of sp:  19 is:  -0.0027317794023556867\n",
      "Weight of sp:  47 is:  -0.002723065228100222\n",
      "Weight of sp:  63 is:  -0.0026924245584136653\n",
      "Weight of sp:  33 is:  -0.0025997721223997602\n",
      "Weight of sp:  18 is:  -0.0023801993077056057\n",
      "Weight of sp:  15 is:  0.0019830191431841194\n",
      "Weight of sp:  3 is:  0.0018036064479212135\n",
      "Weight of sp:  7 is:  -0.0017354192224149803\n",
      "Weight of sp:  6 is:  -0.0016562390367185827\n",
      "Weight of sp:  58 is:  -0.001424293352184412\n",
      "Weight of sp:  40 is:  0.0012844069212222034\n",
      "Weight of sp:  49 is:  -0.0009348242181212155\n"
     ]
    }
   ],
   "source": [
    "annotated_image = la.annotate_image_parts(image, model, OUTPUT_DIR, N)"
   ]
  },
  {
   "cell_type": "markdown",
   "metadata": {},
   "source": [
    "Die Funktion findet auch die Bildteile, die laut LIME für die Klasse am wichtigsten sind. Wir können diese Teile sowohl für die positive als auch für die negative Klasse visualisieren.\n",
    "Das erste Bild zeigt die wichtigsten drei Features im Bild für die Klasse __Turm__, hier werden die drei Bauklötze erkannt.  "
   ]
  },
  {
   "cell_type": "code",
   "execution_count": 5,
   "metadata": {},
   "outputs": [
    {
     "data": {
      "text/plain": [
       "<matplotlib.image.AxesImage at 0x2c86aa08d08>"
      ]
     },
     "execution_count": 5,
     "metadata": {},
     "output_type": "execute_result"
    },
    {
     "data": {
      "image/png": "[encoded data removed]",
      "text/plain": [
       "<Figure size 432x288 with 1 Axes>"
      ]
     },
     "metadata": {
      "needs_background": "light"
     },
     "output_type": "display_data"
    }
   ],
   "source": [
    "true_class = 1\n",
    "\n",
    "temp, mask = annotated_image.explanation.get_image_and_mask(true_class, positive_only=True, num_features=3, hide_rest=True)\n",
    "plt.imshow(mark_boundaries(temp, mask))"
   ]
  },
  {
   "cell_type": "markdown",
   "metadata": {},
   "source": [
    "Das zweite Bild zeigt dazu konträr zur Klasse Turm drei Features, d.h. es werden drei Bereiche der Hintergrundfarbe identifiziert, die voneinander entfernt sind und nicht alle einander berühren wie die Bauklötze des Turms."
   ]
  },
  {
   "cell_type": "code",
   "execution_count": 6,
   "metadata": {},
   "outputs": [
    {
     "data": {
      "text/plain": [
       "<matplotlib.image.AxesImage at 0x2c86ace1e88>"
      ]
     },
     "execution_count": 6,
     "metadata": {},
     "output_type": "execute_result"
    },
    {
     "data": {
      "image/png": "[encoded data removed]",
      "text/plain": [
       "<Figure size 432x288 with 1 Axes>"
      ]
     },
     "metadata": {
      "needs_background": "light"
     },
     "output_type": "display_data"
    }
   ],
   "source": [
    "negative_class = 0\n",
    "\n",
    "temp, mask = annotated_image.explanation.get_image_and_mask(negative_class, positive_only=True, num_features=3, hide_rest=True)\n",
    "plt.imshow(mark_boundaries(temp, mask))"
   ]
  },
  {
   "cell_type": "markdown",
   "metadata": {},
   "source": [
    "Nachdem das Bild nun annotiert ist, wollen wir nun die wichtigsten __3__ Bildelemente mit der Funktion __find_important_parts__ finden. "
   ]
  },
  {
   "cell_type": "code",
   "execution_count": 7,
   "metadata": {
    "scrolled": false
   },
   "outputs": [
    {
     "name": "stderr",
     "output_type": "stream",
     "text": [
      "Clipping input data to the valid range for imshow with RGB data ([0..1] for floats or [0..255] for integers).\n"
     ]
    },
    {
     "data": {
      "text/plain": [
       "<matplotlib.image.AxesImage at 0x2c86afb2b48>"
      ]
     },
     "execution_count": 7,
     "metadata": {},
     "output_type": "execute_result"
    },
    {
     "data": {
      "image/png": "[encoded data removed]",
      "text/plain": [
       "<Figure size 432x288 with 1 Axes>"
      ]
     },
     "metadata": {
      "needs_background": "light"
     },
     "output_type": "display_data"
    }
   ],
   "source": [
    "important_superpixels, labeled_image = la.find_important_parts(annotated_image, 3)\n",
    "\n",
    "plt.imshow(labeled_image)"
   ]
  },
  {
   "cell_type": "code",
   "execution_count": 8,
   "metadata": {},
   "outputs": [
    {
     "data": {
      "text/plain": [
       "[<lime_aleph.lime_aleph.Superpixel at 0x2c86aefa588>,\n",
       " <lime_aleph.lime_aleph.Superpixel at 0x2c86aefab88>,\n",
       " <lime_aleph.lime_aleph.Superpixel at 0x2c86aefaac8>]"
      ]
     },
     "execution_count": 8,
     "metadata": {},
     "output_type": "execute_result"
    }
   ],
   "source": [
    "important_superpixels"
   ]
  },
  {
   "cell_type": "markdown",
   "metadata": {},
   "source": [
    "Im Bild werden den Bereichen Zahlen d.h. Klassenidentifier zugeordnet. \n",
    "Anschließend können wir die Relationen zwischen diesen Bildteilen mit der Funktion __find_spatial_relations__ identifizieren und als Graph extrahieren. \n",
    "Dies geschieht über die Funktion __find_spatial_relations__, angewendet auf die wichtigen Bildteile (Objekt __important_superpixels__). "
   ]
  },
  {
   "cell_type": "code",
   "execution_count": 9,
   "metadata": {},
   "outputs": [],
   "source": [
    "relations, graph = la.find_spatial_relations(important_superpixels)"
   ]
  },
  {
   "cell_type": "markdown",
   "metadata": {},
   "source": [
    "Den Graph können wir nun mittels Graphviz visualisieren. \n",
    "Dieser beschreibt anhand binärer Relationen die topologischen Abhängigkeiten zwischen den einzelnen Objektklassen.\n",
    "Die Kanten und deren Label repräsentieren die räumlichen Relationen. "
   ]
  },
  {
   "cell_type": "code",
   "execution_count": 10,
   "metadata": {},
   "outputs": [
    {
     "data": {
      "image/svg+xml": [
       "<?xml version=\"1.0\" encoding=\"UTF-8\" standalone=\"no\"?>\r\n",
       "<!DOCTYPE svg PUBLIC \"-//W3C//DTD SVG 1.1//EN\"\r\n",
       " \"http://www.w3.org/Graphics/SVG/1.1/DTD/svg11.dtd\">\r\n",
       "<!-- Generated by graphviz version 2.46.1 (20210213.1702)\r\n",
       " -->\r\n",
       "<!-- Pages: 1 -->\r\n",
       "<svg width=\"443pt\" height=\"218pt\"\r\n",
       " viewBox=\"0.00 0.00 443.13 218.00\" xmlns=\"http://www.w3.org/2000/svg\" xmlns:xlink=\"http://www.w3.org/1999/xlink\">\r\n",
       "<g id=\"graph0\" class=\"graph\" transform=\"scale(1 1) rotate(0) translate(4 214)\">\r\n",
       "<polygon fill=\"white\" stroke=\"transparent\" points=\"-4,4 -4,-214 439.13,-214 439.13,4 -4,4\"/>\r\n",
       "<!-- 60 -->\r\n",
       "<g id=\"node1\" class=\"node\">\r\n",
       "<title>60</title>\r\n",
       "<ellipse fill=\"none\" stroke=\"mediumblue\" cx=\"269.13\" cy=\"-192\" rx=\"27\" ry=\"18\"/>\r\n",
       "<text text-anchor=\"middle\" x=\"269.13\" y=\"-188.3\" font-family=\"Times New Roman,serif\" font-size=\"14.00\">60</text>\r\n",
       "</g>\r\n",
       "<!-- 44 -->\r\n",
       "<g id=\"node2\" class=\"node\">\r\n",
       "<title>44</title>\r\n",
       "<ellipse fill=\"none\" stroke=\"darkturquoise\" cx=\"101.13\" cy=\"-105\" rx=\"27\" ry=\"18\"/>\r\n",
       "<text text-anchor=\"middle\" x=\"101.13\" y=\"-101.3\" font-family=\"Times New Roman,serif\" font-size=\"14.00\">44</text>\r\n",
       "</g>\r\n",
       "<!-- 60&#45;&gt;44 -->\r\n",
       "<g id=\"edge4\" class=\"edge\">\r\n",
       "<title>60&#45;&gt;44</title>\r\n",
       "<path fill=\"none\" stroke=\"black\" d=\"M242.2,-189.65C197.86,-186.8 112.55,-178.46 94.13,-156 88.76,-149.45 88.44,-140.71 90.13,-132.38\"/>\r\n",
       "<polygon fill=\"black\" stroke=\"black\" points=\"93.55,-133.16 92.98,-122.58 86.83,-131.21 93.55,-133.16\"/>\r\n",
       "<text text-anchor=\"middle\" x=\"124.63\" y=\"-144.8\" font-family=\"Times New Roman,serif\" font-size=\"14.00\">bottom_of</text>\r\n",
       "</g>\r\n",
       "<!-- 52 -->\r\n",
       "<g id=\"node3\" class=\"node\">\r\n",
       "<title>52</title>\r\n",
       "<ellipse fill=\"none\" stroke=\"lime\" cx=\"197.13\" cy=\"-18\" rx=\"27\" ry=\"18\"/>\r\n",
       "<text text-anchor=\"middle\" x=\"197.13\" y=\"-14.3\" font-family=\"Times New Roman,serif\" font-size=\"14.00\">52</text>\r\n",
       "</g>\r\n",
       "<!-- 60&#45;&gt;52 -->\r\n",
       "<g id=\"edge7\" class=\"edge\">\r\n",
       "<title>60&#45;&gt;52</title>\r\n",
       "<path fill=\"none\" stroke=\"black\" d=\"M264.23,-174.08C256.31,-147.74 239.52,-95.61 219.13,-54 217.37,-50.4 215.33,-46.71 213.22,-43.14\"/>\r\n",
       "<polygon fill=\"black\" stroke=\"black\" points=\"216.18,-41.28 207.94,-34.62 210.23,-44.97 216.18,-41.28\"/>\r\n",
       "<text text-anchor=\"middle\" x=\"262.13\" y=\"-101.3\" font-family=\"Times New Roman,serif\" font-size=\"14.00\">under</text>\r\n",
       "</g>\r\n",
       "<!-- 60&#45;&gt;52 -->\r\n",
       "<g id=\"edge8\" class=\"edge\">\r\n",
       "<title>60&#45;&gt;52</title>\r\n",
       "<path fill=\"none\" stroke=\"black\" d=\"M276.23,-174.61C284.31,-153.33 294.75,-115.54 281.13,-87 270.04,-63.76 246.7,-45.89 227.42,-34.31\"/>\r\n",
       "<polygon fill=\"black\" stroke=\"black\" points=\"229.06,-31.22 218.64,-29.29 225.58,-37.29 229.06,-31.22\"/>\r\n",
       "<text text-anchor=\"middle\" x=\"317.63\" y=\"-101.3\" font-family=\"Times New Roman,serif\" font-size=\"14.00\">bottom_of</text>\r\n",
       "</g>\r\n",
       "<!-- 44&#45;&gt;60 -->\r\n",
       "<g id=\"edge1\" class=\"edge\">\r\n",
       "<title>44&#45;&gt;60</title>\r\n",
       "<path fill=\"none\" stroke=\"black\" d=\"M120.57,-117.5C131.88,-124.25 146.38,-133 159.13,-141 169.47,-147.49 171.31,-150.36 182.13,-156 199.35,-164.97 219.41,-173.18 235.92,-179.39\"/>\r\n",
       "<polygon fill=\"black\" stroke=\"black\" points=\"235.09,-182.81 245.68,-182.98 237.51,-176.24 235.09,-182.81\"/>\r\n",
       "<text text-anchor=\"middle\" x=\"201.63\" y=\"-144.8\" font-family=\"Times New Roman,serif\" font-size=\"14.00\">top_of</text>\r\n",
       "</g>\r\n",
       "<!-- 44&#45;&gt;52 -->\r\n",
       "<g id=\"edge9\" class=\"edge\">\r\n",
       "<title>44&#45;&gt;52</title>\r\n",
       "<path fill=\"none\" stroke=\"black\" d=\"M75.04,-100.26C39.73,-94.14 -16.54,-79.97 5.13,-54 24.43,-30.86 109.58,-22.98 159.77,-20.33\"/>\r\n",
       "<polygon fill=\"black\" stroke=\"black\" points=\"160.1,-23.81 169.92,-19.83 159.76,-16.82 160.1,-23.81\"/>\r\n",
       "<text text-anchor=\"middle\" x=\"12.63\" y=\"-57.8\" font-family=\"Times New Roman,serif\" font-size=\"14.00\">on</text>\r\n",
       "</g>\r\n",
       "<!-- 44&#45;&gt;52 -->\r\n",
       "<g id=\"edge10\" class=\"edge\">\r\n",
       "<title>44&#45;&gt;52</title>\r\n",
       "<path fill=\"none\" stroke=\"black\" d=\"M80.12,-93.26C63.59,-83.38 45.05,-68.17 56.13,-54 68.88,-37.7 123.21,-27.92 160.58,-22.99\"/>\r\n",
       "<polygon fill=\"black\" stroke=\"black\" points=\"161.13,-26.45 170.62,-21.73 160.26,-19.51 161.13,-26.45\"/>\r\n",
       "<text text-anchor=\"middle\" x=\"75.63\" y=\"-57.8\" font-family=\"Times New Roman,serif\" font-size=\"14.00\">top_of</text>\r\n",
       "</g>\r\n",
       "<!-- 52&#45;&gt;60 -->\r\n",
       "<g id=\"edge2\" class=\"edge\">\r\n",
       "<title>52&#45;&gt;60</title>\r\n",
       "<path fill=\"none\" stroke=\"black\" d=\"M224.1,-19.91C264.82,-22.96 340.19,-35.64 368.13,-87 375.78,-101.05 375.58,-108.84 368.13,-123 354.22,-149.43 324.87,-167.58 301.73,-178.43\"/>\r\n",
       "<polygon fill=\"black\" stroke=\"black\" points=\"300.28,-175.24 292.57,-182.51 303.13,-181.64 300.28,-175.24\"/>\r\n",
       "<text text-anchor=\"middle\" x=\"380.63\" y=\"-101.3\" font-family=\"Times New Roman,serif\" font-size=\"14.00\">on</text>\r\n",
       "</g>\r\n",
       "<!-- 52&#45;&gt;60 -->\r\n",
       "<g id=\"edge3\" class=\"edge\">\r\n",
       "<title>52&#45;&gt;60</title>\r\n",
       "<path fill=\"none\" stroke=\"black\" d=\"M224.2,-20.04C257.98,-22.36 316.59,-29.86 360.13,-54 378,-63.9 384.46,-68.07 392.13,-87 404.76,-118.16 389.07,-137.29 361.13,-156 343.64,-167.71 321.68,-176.26 303.6,-181.97\"/>\r\n",
       "<polygon fill=\"black\" stroke=\"black\" points=\"302.58,-178.62 294.01,-184.86 304.59,-185.33 302.58,-178.62\"/>\r\n",
       "<text text-anchor=\"middle\" x=\"415.63\" y=\"-101.3\" font-family=\"Times New Roman,serif\" font-size=\"14.00\">top_of</text>\r\n",
       "</g>\r\n",
       "<!-- 52&#45;&gt;44 -->\r\n",
       "<g id=\"edge5\" class=\"edge\">\r\n",
       "<title>52&#45;&gt;44</title>\r\n",
       "<path fill=\"none\" stroke=\"black\" d=\"M170.36,-21.56C149.07,-25.12 120.41,-33.63 105.13,-54 100.34,-60.39 98.46,-68.63 98.04,-76.57\"/>\r\n",
       "<polygon fill=\"black\" stroke=\"black\" points=\"94.54,-76.7 98.18,-86.64 101.54,-76.59 94.54,-76.7\"/>\r\n",
       "<text text-anchor=\"middle\" x=\"121.13\" y=\"-57.8\" font-family=\"Times New Roman,serif\" font-size=\"14.00\">under</text>\r\n",
       "</g>\r\n",
       "<!-- 52&#45;&gt;44 -->\r\n",
       "<g id=\"edge6\" class=\"edge\">\r\n",
       "<title>52&#45;&gt;44</title>\r\n",
       "<path fill=\"none\" stroke=\"black\" d=\"M181.57,-32.77C166.16,-46.42 142.36,-67.49 124.65,-83.18\"/>\r\n",
       "<polygon fill=\"black\" stroke=\"black\" points=\"122.15,-80.71 116.98,-89.96 126.79,-85.96 122.15,-80.71\"/>\r\n",
       "<text text-anchor=\"middle\" x=\"184.63\" y=\"-57.8\" font-family=\"Times New Roman,serif\" font-size=\"14.00\">bottom_of</text>\r\n",
       "</g>\r\n",
       "</g>\r\n",
       "</svg>\r\n"
      ],
      "text/plain": [
       "<graphviz.dot.Digraph at 0x2c86aaa5f88>"
      ]
     },
     "execution_count": 10,
     "metadata": {},
     "output_type": "execute_result"
    }
   ],
   "source": [
    "graph"
   ]
  },
  {
   "cell_type": "markdown",
   "metadata": {},
   "source": [
    "Diese Relationen können wir auch textuell ausgeben lassen: "
   ]
  },
  {
   "cell_type": "code",
   "execution_count": 11,
   "metadata": {
    "scrolled": true
   },
   "outputs": [
    {
     "name": "stdout",
     "output_type": "stream",
     "text": [
      "Relation: 44--top_of-->60\n",
      "Relation: 52--on-->60\n",
      "Relation: 52--top_of-->60\n",
      "Relation: 60--bottom_of-->44\n",
      "Relation: 52--under-->44\n",
      "Relation: 52--bottom_of-->44\n",
      "Relation: 60--under-->52\n",
      "Relation: 60--bottom_of-->52\n",
      "Relation: 44--on-->52\n",
      "Relation: 44--top_of-->52\n"
     ]
    }
   ],
   "source": [
    "for rel in relations:\n",
    "    print(rel)"
   ]
  },
  {
   "cell_type": "markdown",
   "metadata": {},
   "source": [
    "## Erzeugung perturbierter Instanzen\n",
    "Nun lassen wir uns das perturbierte Datenset für LIME-Aleph generieren. Hierzu nutzen wir die Funktion __perturb_instance__ mit den erforderlichen Parametern. Dabei geben wir im Anschluss auch aus, wie viele Instanzen im neuen Datenset enthalten sind (Liste der Instanzen)."
   ]
  },
  {
   "cell_type": "code",
   "execution_count": 12,
   "metadata": {},
   "outputs": [
    {
     "name": "stdout",
     "output_type": "stream",
     "text": [
      "Number of perturbed instances: 11\n"
     ]
    }
   ],
   "source": [
    "perturbed_dataset = la.perturb_instance(annotated_image, relations, model, T)\n",
    "print(\"Number of perturbed instances:\", len(perturbed_dataset))"
   ]
  },
  {
   "cell_type": "markdown",
   "metadata": {},
   "source": [
    "Diese Instanzen können wir inspizieren und sehen dabei, dass positive und negative Beispiele generiert werden."
   ]
  },
  {
   "cell_type": "code",
   "execution_count": 13,
   "metadata": {},
   "outputs": [
    {
     "name": "stdout",
     "output_type": "stream",
     "text": [
      "Example: Positive: True,\n",
      "Superpixels:\n",
      "44, 60,\n",
      "52,\n",
      "\n",
      "Relations:\n",
      "Relation: 44--top_of-->60\n",
      ", Relation: 52--on-->60\n",
      ", Relation: 52--top_of-->60\n",
      ", Relation: 60--bottom_of-->44\n",
      ", Relation: 52--under-->44\n",
      ", Relation: 52--bottom_of-->44\n",
      ", Relation: 60--under-->52\n",
      ", Relation: 60--bottom_of-->52\n",
      ", Relation: 44--on-->52\n",
      ", Relation: 44--top_of-->52\n",
      "\n",
      "-------------------------------\n",
      "Example: Positive: False,\n",
      "Superpixels:\n",
      "44, 60,\n",
      "52,\n",
      "\n",
      "Relations:\n",
      "Relation: 60--top_of-->44\n",
      ", Relation: 52--on-->44\n",
      ", Relation: 52--top_of-->44\n",
      ", Relation: 44--bottom_of-->60\n",
      ", Relation: 52--under-->60\n",
      ", Relation: 52--bottom_of-->60\n",
      ", Relation: 44--under-->52\n",
      ", Relation: 44--bottom_of-->52\n",
      ", Relation: 60--on-->52\n",
      ", Relation: 60--top_of-->52\n",
      "\n",
      "-------------------------------\n",
      "Example: Positive: False,\n",
      "Superpixels:\n",
      "44, 60,\n",
      "52,\n",
      "\n",
      "Relations:\n",
      "Relation: 44--top_of-->52\n",
      ", Relation: 60--on-->52\n",
      ", Relation: 60--top_of-->52\n",
      ", Relation: 52--bottom_of-->44\n",
      ", Relation: 60--under-->44\n",
      ", Relation: 60--bottom_of-->44\n",
      ", Relation: 52--under-->60\n",
      ", Relation: 52--bottom_of-->60\n",
      ", Relation: 44--on-->60\n",
      ", Relation: 44--top_of-->60\n",
      "\n",
      "-------------------------------\n",
      "Example: Positive: False,\n",
      "Superpixels:\n",
      "44, 60,\n",
      "52,\n",
      "\n",
      "Relations:\n",
      "Relation: 44--top_of-->52\n",
      ", Relation: 60--on-->52\n",
      ", Relation: 60--top_of-->52\n",
      ", Relation: 52--bottom_of-->44\n",
      ", Relation: 60--under-->44\n",
      ", Relation: 60--bottom_of-->44\n",
      ", Relation: 52--under-->60\n",
      ", Relation: 52--bottom_of-->60\n",
      ", Relation: 44--on-->60\n",
      ", Relation: 44--top_of-->60\n",
      "\n",
      "-------------------------------\n",
      "Example: Positive: False,\n",
      "Superpixels:\n",
      "44, 60,\n",
      "52,\n",
      "\n",
      "Relations:\n",
      "Relation: 60--top_of-->44\n",
      ", Relation: 52--on-->44\n",
      ", Relation: 52--top_of-->44\n",
      ", Relation: 44--bottom_of-->60\n",
      ", Relation: 52--under-->60\n",
      ", Relation: 52--bottom_of-->60\n",
      ", Relation: 44--under-->52\n",
      ", Relation: 44--bottom_of-->52\n",
      ", Relation: 60--on-->52\n",
      ", Relation: 60--top_of-->52\n",
      "\n",
      "-------------------------------\n",
      "Example: Positive: True,\n",
      "Superpixels:\n",
      "44, 60,\n",
      "52,\n",
      "\n",
      "Relations:\n",
      "Relation: 52--top_of-->60\n",
      ", Relation: 44--on-->60\n",
      ", Relation: 44--top_of-->60\n",
      ", Relation: 60--bottom_of-->52\n",
      ", Relation: 44--under-->52\n",
      ", Relation: 44--bottom_of-->52\n",
      ", Relation: 60--under-->44\n",
      ", Relation: 60--bottom_of-->44\n",
      ", Relation: 52--on-->44\n",
      ", Relation: 52--top_of-->44\n",
      "\n",
      "-------------------------------\n",
      "Example: Positive: True,\n",
      "Superpixels:\n",
      "44, 60,\n",
      "52,\n",
      "\n",
      "Relations:\n",
      "Relation: 52--top_of-->60\n",
      ", Relation: 44--on-->60\n",
      ", Relation: 44--top_of-->60\n",
      ", Relation: 60--bottom_of-->52\n",
      ", Relation: 44--under-->52\n",
      ", Relation: 44--bottom_of-->52\n",
      ", Relation: 60--under-->44\n",
      ", Relation: 60--bottom_of-->44\n",
      ", Relation: 52--on-->44\n",
      ", Relation: 52--top_of-->44\n",
      "\n",
      "-------------------------------\n",
      "Example: Positive: False,\n",
      "Superpixels:\n",
      "44, 60,\n",
      "52,\n",
      "\n",
      "Relations:\n",
      "Relation: 44--top_of-->52\n",
      ", Relation: 60--on-->52\n",
      ", Relation: 60--top_of-->52\n",
      ", Relation: 52--bottom_of-->44\n",
      ", Relation: 60--under-->44\n",
      ", Relation: 60--bottom_of-->44\n",
      ", Relation: 52--under-->60\n",
      ", Relation: 52--bottom_of-->60\n",
      ", Relation: 44--on-->60\n",
      ", Relation: 44--top_of-->60\n",
      "\n",
      "-------------------------------\n",
      "Example: Positive: False,\n",
      "Superpixels:\n",
      "44, 60,\n",
      "52,\n",
      "\n",
      "Relations:\n",
      "Relation: 44--top_of-->52\n",
      ", Relation: 60--on-->52\n",
      ", Relation: 60--top_of-->52\n",
      ", Relation: 52--bottom_of-->44\n",
      ", Relation: 60--under-->44\n",
      ", Relation: 60--bottom_of-->44\n",
      ", Relation: 52--under-->60\n",
      ", Relation: 52--bottom_of-->60\n",
      ", Relation: 44--on-->60\n",
      ", Relation: 44--top_of-->60\n",
      "\n",
      "-------------------------------\n",
      "Example: Positive: True,\n",
      "Superpixels:\n",
      "44, 60,\n",
      "52,\n",
      "\n",
      "Relations:\n",
      "Relation: 52--top_of-->60\n",
      ", Relation: 44--on-->60\n",
      ", Relation: 44--top_of-->60\n",
      ", Relation: 60--bottom_of-->52\n",
      ", Relation: 44--under-->52\n",
      ", Relation: 44--bottom_of-->52\n",
      ", Relation: 60--under-->44\n",
      ", Relation: 60--bottom_of-->44\n",
      ", Relation: 52--on-->44\n",
      ", Relation: 52--top_of-->44\n",
      "\n",
      "-------------------------------\n",
      "Example: Positive: True,\n",
      "Superpixels:\n",
      "44, 60,\n",
      "52,\n",
      "\n",
      "Relations:\n",
      "Relation: 52--top_of-->60\n",
      ", Relation: 44--on-->60\n",
      ", Relation: 44--top_of-->60\n",
      ", Relation: 60--bottom_of-->52\n",
      ", Relation: 44--under-->52\n",
      ", Relation: 44--bottom_of-->52\n",
      ", Relation: 60--under-->44\n",
      ", Relation: 60--bottom_of-->44\n",
      ", Relation: 52--on-->44\n",
      ", Relation: 52--top_of-->44\n",
      "\n",
      "-------------------------------\n"
     ]
    }
   ],
   "source": [
    "for ex in perturbed_dataset:\n",
    "    print(ex)\n",
    "    print(\"-------------------------------\")"
   ]
  },
  {
   "cell_type": "markdown",
   "metadata": {},
   "source": [
    "Jetzt visualisieren wir noch alle Instanzen aus dem perturbierten Datenset. Erst die positiven Instanzen für die die Klasse Turm weiterhin gilt:"
   ]
  },
  {
   "cell_type": "code",
   "execution_count": 14,
   "metadata": {
    "scrolled": false
   },
   "outputs": [
    {
     "name": "stderr",
     "output_type": "stream",
     "text": [
      "Clipping input data to the valid range for imshow with RGB data ([0..1] for floats or [0..255] for integers).\n"
     ]
    },
    {
     "data": {
      "image/png": "[encoded data removed]",
      "text/plain": [
       "<Figure size 432x288 with 1 Axes>"
      ]
     },
     "metadata": {
      "needs_background": "light"
     },
     "output_type": "display_data"
    },
    {
     "data": {
      "image/svg+xml": [
       "<?xml version=\"1.0\" encoding=\"UTF-8\" standalone=\"no\"?>\r\n",
       "<!DOCTYPE svg PUBLIC \"-//W3C//DTD SVG 1.1//EN\"\r\n",
       " \"http://www.w3.org/Graphics/SVG/1.1/DTD/svg11.dtd\">\r\n",
       "<!-- Generated by graphviz version 2.46.1 (20210213.1702)\r\n",
       " -->\r\n",
       "<!-- Pages: 1 -->\r\n",
       "<svg width=\"444pt\" height=\"218pt\"\r\n",
       " viewBox=\"0.00 0.00 443.84 218.00\" xmlns=\"http://www.w3.org/2000/svg\" xmlns:xlink=\"http://www.w3.org/1999/xlink\">\r\n",
       "<g id=\"graph0\" class=\"graph\" transform=\"scale(1 1) rotate(0) translate(4 214)\">\r\n",
       "<polygon fill=\"white\" stroke=\"transparent\" points=\"-4,4 -4,-214 439.84,-214 439.84,4 -4,4\"/>\r\n",
       "<!-- 44 -->\r\n",
       "<g id=\"node1\" class=\"node\">\r\n",
       "<title>44</title>\r\n",
       "<ellipse fill=\"none\" stroke=\"black\" cx=\"260.84\" cy=\"-192\" rx=\"27\" ry=\"18\"/>\r\n",
       "<text text-anchor=\"middle\" x=\"260.84\" y=\"-188.3\" font-family=\"Times New Roman,serif\" font-size=\"14.00\">44</text>\r\n",
       "</g>\r\n",
       "<!-- 60 -->\r\n",
       "<g id=\"node2\" class=\"node\">\r\n",
       "<title>60</title>\r\n",
       "<ellipse fill=\"none\" stroke=\"black\" cx=\"120.84\" cy=\"-105\" rx=\"27\" ry=\"18\"/>\r\n",
       "<text text-anchor=\"middle\" x=\"120.84\" y=\"-101.3\" font-family=\"Times New Roman,serif\" font-size=\"14.00\">60</text>\r\n",
       "</g>\r\n",
       "<!-- 44&#45;&gt;60 -->\r\n",
       "<g id=\"edge1\" class=\"edge\">\r\n",
       "<title>44&#45;&gt;60</title>\r\n",
       "<path fill=\"none\" stroke=\"black\" d=\"M233.89,-189.17C192.3,-185.72 115.51,-176.66 98.84,-156 92.43,-148.06 95.3,-137.96 100.78,-128.92\"/>\r\n",
       "<polygon fill=\"black\" stroke=\"black\" points=\"103.69,-130.86 106.61,-120.68 97.97,-126.82 103.69,-130.86\"/>\r\n",
       "<text text-anchor=\"middle\" x=\"118.34\" y=\"-144.8\" font-family=\"Times New Roman,serif\" font-size=\"14.00\">top_of</text>\r\n",
       "</g>\r\n",
       "<!-- 52 -->\r\n",
       "<g id=\"node3\" class=\"node\">\r\n",
       "<title>52</title>\r\n",
       "<ellipse fill=\"none\" stroke=\"black\" cx=\"208.84\" cy=\"-18\" rx=\"27\" ry=\"18\"/>\r\n",
       "<text text-anchor=\"middle\" x=\"208.84\" y=\"-14.3\" font-family=\"Times New Roman,serif\" font-size=\"14.00\">52</text>\r\n",
       "</g>\r\n",
       "<!-- 44&#45;&gt;52 -->\r\n",
       "<g id=\"edge9\" class=\"edge\">\r\n",
       "<title>44&#45;&gt;52</title>\r\n",
       "<path fill=\"none\" stroke=\"black\" d=\"M255.76,-174.19C246.71,-144.27 227.74,-81.52 216.9,-45.65\"/>\r\n",
       "<polygon fill=\"black\" stroke=\"black\" points=\"220.19,-44.43 213.94,-35.87 213.49,-46.46 220.19,-44.43\"/>\r\n",
       "<text text-anchor=\"middle\" x=\"247.34\" y=\"-101.3\" font-family=\"Times New Roman,serif\" font-size=\"14.00\">on</text>\r\n",
       "</g>\r\n",
       "<!-- 44&#45;&gt;52 -->\r\n",
       "<g id=\"edge10\" class=\"edge\">\r\n",
       "<title>44&#45;&gt;52</title>\r\n",
       "<path fill=\"none\" stroke=\"black\" d=\"M263.57,-173.9C266.24,-152.85 268.64,-116.29 258.84,-87 253.08,-69.79 241.19,-53.31 230.45,-40.89\"/>\r\n",
       "<polygon fill=\"black\" stroke=\"black\" points=\"232.94,-38.42 223.63,-33.34 227.74,-43.11 232.94,-38.42\"/>\r\n",
       "<text text-anchor=\"middle\" x=\"284.34\" y=\"-101.3\" font-family=\"Times New Roman,serif\" font-size=\"14.00\">top_of</text>\r\n",
       "</g>\r\n",
       "<!-- 60&#45;&gt;44 -->\r\n",
       "<g id=\"edge4\" class=\"edge\">\r\n",
       "<title>60&#45;&gt;44</title>\r\n",
       "<path fill=\"none\" stroke=\"black\" d=\"M130.22,-121.95C137.37,-132.89 148.14,-147 160.84,-156 180.1,-169.64 205.18,-178.4 225.4,-183.75\"/>\r\n",
       "<polygon fill=\"black\" stroke=\"black\" points=\"224.64,-187.16 235.19,-186.17 226.32,-180.37 224.64,-187.16\"/>\r\n",
       "<text text-anchor=\"middle\" x=\"191.34\" y=\"-144.8\" font-family=\"Times New Roman,serif\" font-size=\"14.00\">bottom_of</text>\r\n",
       "</g>\r\n",
       "<!-- 60&#45;&gt;52 -->\r\n",
       "<g id=\"edge7\" class=\"edge\">\r\n",
       "<title>60&#45;&gt;52</title>\r\n",
       "<path fill=\"none\" stroke=\"black\" d=\"M94.23,-101.81C52.67,-97.4 -20.31,-85.05 5.84,-54 26.59,-29.37 118.61,-22.07 171.36,-19.91\"/>\r\n",
       "<polygon fill=\"black\" stroke=\"black\" points=\"171.8,-23.4 181.66,-19.53 171.54,-16.4 171.8,-23.4\"/>\r\n",
       "<text text-anchor=\"middle\" x=\"21.84\" y=\"-57.8\" font-family=\"Times New Roman,serif\" font-size=\"14.00\">under</text>\r\n",
       "</g>\r\n",
       "<!-- 60&#45;&gt;52 -->\r\n",
       "<g id=\"edge8\" class=\"edge\">\r\n",
       "<title>60&#45;&gt;52</title>\r\n",
       "<path fill=\"none\" stroke=\"black\" d=\"M98.46,-94.49C79.33,-84.99 56.67,-69.6 68.84,-54 81.46,-37.84 135.13,-28.04 172.23,-23.07\"/>\r\n",
       "<polygon fill=\"black\" stroke=\"black\" points=\"172.73,-26.54 182.21,-21.8 171.85,-19.59 172.73,-26.54\"/>\r\n",
       "<text text-anchor=\"middle\" x=\"99.34\" y=\"-57.8\" font-family=\"Times New Roman,serif\" font-size=\"14.00\">bottom_of</text>\r\n",
       "</g>\r\n",
       "<!-- 52&#45;&gt;44 -->\r\n",
       "<g id=\"edge5\" class=\"edge\">\r\n",
       "<title>52&#45;&gt;44</title>\r\n",
       "<path fill=\"none\" stroke=\"black\" d=\"M234.65,-23.63C265.63,-30.85 315.22,-48.22 329.84,-87 335.49,-101.97 335.49,-108.03 329.84,-123 322.03,-143.71 304.01,-161.1 288.35,-173.11\"/>\r\n",
       "<polygon fill=\"black\" stroke=\"black\" points=\"285.99,-170.5 279.97,-179.22 290.11,-176.16 285.99,-170.5\"/>\r\n",
       "<text text-anchor=\"middle\" x=\"349.84\" y=\"-101.3\" font-family=\"Times New Roman,serif\" font-size=\"14.00\">under</text>\r\n",
       "</g>\r\n",
       "<!-- 52&#45;&gt;44 -->\r\n",
       "<g id=\"edge6\" class=\"edge\">\r\n",
       "<title>52&#45;&gt;44</title>\r\n",
       "<path fill=\"none\" stroke=\"black\" d=\"M235.88,-20.44C274.97,-24.23 345.28,-37.88 369.84,-87 377,-101.31 376.84,-108.61 369.84,-123 355.41,-152.71 321.2,-170.8 294.93,-180.77\"/>\r\n",
       "<polygon fill=\"black\" stroke=\"black\" points=\"293.54,-177.55 285.3,-184.21 295.9,-184.14 293.54,-177.55\"/>\r\n",
       "<text text-anchor=\"middle\" x=\"405.34\" y=\"-101.3\" font-family=\"Times New Roman,serif\" font-size=\"14.00\">bottom_of</text>\r\n",
       "</g>\r\n",
       "<!-- 52&#45;&gt;60 -->\r\n",
       "<g id=\"edge2\" class=\"edge\">\r\n",
       "<title>52&#45;&gt;60</title>\r\n",
       "<path fill=\"none\" stroke=\"black\" d=\"M185.52,-27.54C172.25,-33.35 156.09,-42.15 144.84,-54 138.46,-60.73 133.48,-69.47 129.76,-77.76\"/>\r\n",
       "<polygon fill=\"black\" stroke=\"black\" points=\"126.47,-76.55 125.95,-87.13 132.96,-79.19 126.47,-76.55\"/>\r\n",
       "<text text-anchor=\"middle\" x=\"152.34\" y=\"-57.8\" font-family=\"Times New Roman,serif\" font-size=\"14.00\">on</text>\r\n",
       "</g>\r\n",
       "<!-- 52&#45;&gt;60 -->\r\n",
       "<g id=\"edge3\" class=\"edge\">\r\n",
       "<title>52&#45;&gt;60</title>\r\n",
       "<path fill=\"none\" stroke=\"black\" d=\"M194.93,-33.68C185.25,-43.78 171.96,-57.4 159.84,-69 154.93,-73.71 149.55,-78.65 144.41,-83.29\"/>\r\n",
       "<polygon fill=\"black\" stroke=\"black\" points=\"141.74,-80.99 136.61,-90.26 146.4,-86.2 141.74,-80.99\"/>\r\n",
       "<text text-anchor=\"middle\" x=\"194.34\" y=\"-57.8\" font-family=\"Times New Roman,serif\" font-size=\"14.00\">top_of</text>\r\n",
       "</g>\r\n",
       "</g>\r\n",
       "</svg>\r\n"
      ],
      "text/plain": [
       "<graphviz.dot.Digraph at 0x2c86afe9408>"
      ]
     },
     "metadata": {},
     "output_type": "display_data"
    },
    {
     "name": "stderr",
     "output_type": "stream",
     "text": [
      "Clipping input data to the valid range for imshow with RGB data ([0..1] for floats or [0..255] for integers).\n"
     ]
    },
    {
     "name": "stdout",
     "output_type": "stream",
     "text": [
      "-------------------------------\n"
     ]
    },
    {
     "data": {
      "image/png": "[encoded data removed]",
      "text/plain": [
       "<Figure size 432x288 with 1 Axes>"
      ]
     },
     "metadata": {
      "needs_background": "light"
     },
     "output_type": "display_data"
    },
    {
     "data": {
      "image/svg+xml": [
       "<?xml version=\"1.0\" encoding=\"UTF-8\" standalone=\"no\"?>\r\n",
       "<!DOCTYPE svg PUBLIC \"-//W3C//DTD SVG 1.1//EN\"\r\n",
       " \"http://www.w3.org/Graphics/SVG/1.1/DTD/svg11.dtd\">\r\n",
       "<!-- Generated by graphviz version 2.46.1 (20210213.1702)\r\n",
       " -->\r\n",
       "<!-- Pages: 1 -->\r\n",
       "<svg width=\"427pt\" height=\"218pt\"\r\n",
       " viewBox=\"0.00 0.00 427.07 218.00\" xmlns=\"http://www.w3.org/2000/svg\" xmlns:xlink=\"http://www.w3.org/1999/xlink\">\r\n",
       "<g id=\"graph0\" class=\"graph\" transform=\"scale(1 1) rotate(0) translate(4 214)\">\r\n",
       "<polygon fill=\"white\" stroke=\"transparent\" points=\"-4,4 -4,-214 423.07,-214 423.07,4 -4,4\"/>\r\n",
       "<!-- 44 -->\r\n",
       "<g id=\"node1\" class=\"node\">\r\n",
       "<title>44</title>\r\n",
       "<ellipse fill=\"none\" stroke=\"black\" cx=\"197.07\" cy=\"-192\" rx=\"27\" ry=\"18\"/>\r\n",
       "<text text-anchor=\"middle\" x=\"197.07\" y=\"-188.3\" font-family=\"Times New Roman,serif\" font-size=\"14.00\">44</text>\r\n",
       "</g>\r\n",
       "<!-- 60 -->\r\n",
       "<g id=\"node2\" class=\"node\">\r\n",
       "<title>60</title>\r\n",
       "<ellipse fill=\"none\" stroke=\"black\" cx=\"100.07\" cy=\"-105\" rx=\"27\" ry=\"18\"/>\r\n",
       "<text text-anchor=\"middle\" x=\"100.07\" y=\"-101.3\" font-family=\"Times New Roman,serif\" font-size=\"14.00\">60</text>\r\n",
       "</g>\r\n",
       "<!-- 44&#45;&gt;60 -->\r\n",
       "<g id=\"edge2\" class=\"edge\">\r\n",
       "<title>44&#45;&gt;60</title>\r\n",
       "<path fill=\"none\" stroke=\"black\" d=\"M169.86,-190.17C121.97,-188.06 25.74,-180.78 5.07,-156 -14.43,-132.62 29.65,-118.72 64.1,-111.72\"/>\r\n",
       "<polygon fill=\"black\" stroke=\"black\" points=\"64.78,-115.15 73.95,-109.84 63.47,-108.27 64.78,-115.15\"/>\r\n",
       "<text text-anchor=\"middle\" x=\"12.57\" y=\"-144.8\" font-family=\"Times New Roman,serif\" font-size=\"14.00\">on</text>\r\n",
       "</g>\r\n",
       "<!-- 44&#45;&gt;60 -->\r\n",
       "<g id=\"edge3\" class=\"edge\">\r\n",
       "<title>44&#45;&gt;60</title>\r\n",
       "<path fill=\"none\" stroke=\"black\" d=\"M170.46,-188.87C130.69,-185.07 58.72,-175.61 43.07,-156 31.71,-141.77 49.28,-128.31 67.83,-118.95\"/>\r\n",
       "<polygon fill=\"black\" stroke=\"black\" points=\"69.32,-122.12 76.89,-114.7 66.35,-115.78 69.32,-122.12\"/>\r\n",
       "<text text-anchor=\"middle\" x=\"62.57\" y=\"-144.8\" font-family=\"Times New Roman,serif\" font-size=\"14.00\">top_of</text>\r\n",
       "</g>\r\n",
       "<!-- 52 -->\r\n",
       "<g id=\"node3\" class=\"node\">\r\n",
       "<title>52</title>\r\n",
       "<ellipse fill=\"none\" stroke=\"black\" cx=\"269.07\" cy=\"-18\" rx=\"27\" ry=\"18\"/>\r\n",
       "<text text-anchor=\"middle\" x=\"269.07\" y=\"-14.3\" font-family=\"Times New Roman,serif\" font-size=\"14.00\">52</text>\r\n",
       "</g>\r\n",
       "<!-- 44&#45;&gt;52 -->\r\n",
       "<g id=\"edge5\" class=\"edge\">\r\n",
       "<title>44&#45;&gt;52</title>\r\n",
       "<path fill=\"none\" stroke=\"black\" d=\"M207.88,-175.38C211.7,-169.47 215.85,-162.57 219.07,-156 237.15,-119.1 252.4,-73.94 261.14,-45.81\"/>\r\n",
       "<polygon fill=\"black\" stroke=\"black\" points=\"264.59,-46.5 264.17,-35.92 257.89,-44.46 264.59,-46.5\"/>\r\n",
       "<text text-anchor=\"middle\" x=\"262.07\" y=\"-101.3\" font-family=\"Times New Roman,serif\" font-size=\"14.00\">under</text>\r\n",
       "</g>\r\n",
       "<!-- 44&#45;&gt;52 -->\r\n",
       "<g id=\"edge6\" class=\"edge\">\r\n",
       "<title>44&#45;&gt;52</title>\r\n",
       "<path fill=\"none\" stroke=\"black\" d=\"M218.58,-180.71C238.93,-169.64 268.23,-149.93 281.07,-123 292.83,-98.36 286.66,-66.83 279.55,-44.98\"/>\r\n",
       "<polygon fill=\"black\" stroke=\"black\" points=\"282.79,-43.66 276.17,-35.39 276.19,-45.98 282.79,-43.66\"/>\r\n",
       "<text text-anchor=\"middle\" x=\"317.57\" y=\"-101.3\" font-family=\"Times New Roman,serif\" font-size=\"14.00\">bottom_of</text>\r\n",
       "</g>\r\n",
       "<!-- 60&#45;&gt;44 -->\r\n",
       "<g id=\"edge7\" class=\"edge\">\r\n",
       "<title>60&#45;&gt;44</title>\r\n",
       "<path fill=\"none\" stroke=\"black\" d=\"M97.53,-123.39C96.96,-133.85 98.07,-146.86 105.07,-156 118.25,-173.22 140.97,-181.96 160.53,-186.41\"/>\r\n",
       "<polygon fill=\"black\" stroke=\"black\" points=\"159.91,-189.86 170.4,-188.36 161.27,-182.99 159.91,-189.86\"/>\r\n",
       "<text text-anchor=\"middle\" x=\"121.07\" y=\"-144.8\" font-family=\"Times New Roman,serif\" font-size=\"14.00\">under</text>\r\n",
       "</g>\r\n",
       "<!-- 60&#45;&gt;44 -->\r\n",
       "<g id=\"edge8\" class=\"edge\">\r\n",
       "<title>60&#45;&gt;44</title>\r\n",
       "<path fill=\"none\" stroke=\"black\" d=\"M115.79,-119.77C131.36,-133.42 155.41,-154.49 173.31,-170.18\"/>\r\n",
       "<polygon fill=\"black\" stroke=\"black\" points=\"171.23,-173.01 181.05,-176.96 175.84,-167.74 171.23,-173.01\"/>\r\n",
       "<text text-anchor=\"middle\" x=\"184.57\" y=\"-144.8\" font-family=\"Times New Roman,serif\" font-size=\"14.00\">bottom_of</text>\r\n",
       "</g>\r\n",
       "<!-- 60&#45;&gt;52 -->\r\n",
       "<g id=\"edge4\" class=\"edge\">\r\n",
       "<title>60&#45;&gt;52</title>\r\n",
       "<path fill=\"none\" stroke=\"black\" d=\"M92.38,-87.4C88.7,-76.73 86.53,-63.2 94.07,-54 111.16,-33.16 185.82,-24.48 231.93,-21.06\"/>\r\n",
       "<polygon fill=\"black\" stroke=\"black\" points=\"232.41,-24.53 242.14,-20.35 231.92,-17.55 232.41,-24.53\"/>\r\n",
       "<text text-anchor=\"middle\" x=\"124.57\" y=\"-57.8\" font-family=\"Times New Roman,serif\" font-size=\"14.00\">bottom_of</text>\r\n",
       "</g>\r\n",
       "<!-- 52&#45;&gt;44 -->\r\n",
       "<g id=\"edge9\" class=\"edge\">\r\n",
       "<title>52&#45;&gt;44</title>\r\n",
       "<path fill=\"none\" stroke=\"black\" d=\"M289.57,-30.01C321.11,-48.43 375.57,-87.03 352.07,-123 325.92,-163.03 270.4,-179.64 233.41,-186.44\"/>\r\n",
       "<polygon fill=\"black\" stroke=\"black\" points=\"232.78,-182.99 223.5,-188.1 233.95,-189.9 232.78,-182.99\"/>\r\n",
       "<text text-anchor=\"middle\" x=\"364.57\" y=\"-101.3\" font-family=\"Times New Roman,serif\" font-size=\"14.00\">on</text>\r\n",
       "</g>\r\n",
       "<!-- 52&#45;&gt;44 -->\r\n",
       "<g id=\"edge10\" class=\"edge\">\r\n",
       "<title>52&#45;&gt;44</title>\r\n",
       "<path fill=\"none\" stroke=\"black\" d=\"M292.63,-26.85C308.6,-32.83 329.69,-42.06 346.07,-54 373.1,-73.7 389.54,-92.39 376.07,-123 352.97,-175.51 279.68,-188.13 234.36,-190.77\"/>\r\n",
       "<polygon fill=\"black\" stroke=\"black\" points=\"234.15,-187.28 224.32,-191.22 234.46,-194.27 234.15,-187.28\"/>\r\n",
       "<text text-anchor=\"middle\" x=\"399.57\" y=\"-101.3\" font-family=\"Times New Roman,serif\" font-size=\"14.00\">top_of</text>\r\n",
       "</g>\r\n",
       "<!-- 52&#45;&gt;60 -->\r\n",
       "<g id=\"edge1\" class=\"edge\">\r\n",
       "<title>52&#45;&gt;60</title>\r\n",
       "<path fill=\"none\" stroke=\"black\" d=\"M245.62,-27.02C227.79,-33.45 202.86,-43.17 182.07,-54 171.25,-59.64 169.43,-62.55 159.07,-69 149.26,-75.1 138.42,-81.61 128.73,-87.33\"/>\r\n",
       "<polygon fill=\"black\" stroke=\"black\" points=\"126.71,-84.46 119.86,-92.54 130.26,-90.49 126.71,-84.46\"/>\r\n",
       "<text text-anchor=\"middle\" x=\"201.57\" y=\"-57.8\" font-family=\"Times New Roman,serif\" font-size=\"14.00\">top_of</text>\r\n",
       "</g>\r\n",
       "</g>\r\n",
       "</svg>\r\n"
      ],
      "text/plain": [
       "<graphviz.dot.Digraph at 0x2c86c0714c8>"
      ]
     },
     "metadata": {},
     "output_type": "display_data"
    },
    {
     "name": "stderr",
     "output_type": "stream",
     "text": [
      "Clipping input data to the valid range for imshow with RGB data ([0..1] for floats or [0..255] for integers).\n"
     ]
    },
    {
     "name": "stdout",
     "output_type": "stream",
     "text": [
      "-------------------------------\n"
     ]
    },
    {
     "data": {
      "image/png": "[encoded data removed]",
      "text/plain": [
       "<Figure size 432x288 with 1 Axes>"
      ]
     },
     "metadata": {
      "needs_background": "light"
     },
     "output_type": "display_data"
    },
    {
     "data": {
      "image/svg+xml": [
       "<?xml version=\"1.0\" encoding=\"UTF-8\" standalone=\"no\"?>\r\n",
       "<!DOCTYPE svg PUBLIC \"-//W3C//DTD SVG 1.1//EN\"\r\n",
       " \"http://www.w3.org/Graphics/SVG/1.1/DTD/svg11.dtd\">\r\n",
       "<!-- Generated by graphviz version 2.46.1 (20210213.1702)\r\n",
       " -->\r\n",
       "<!-- Pages: 1 -->\r\n",
       "<svg width=\"427pt\" height=\"218pt\"\r\n",
       " viewBox=\"0.00 0.00 427.07 218.00\" xmlns=\"http://www.w3.org/2000/svg\" xmlns:xlink=\"http://www.w3.org/1999/xlink\">\r\n",
       "<g id=\"graph0\" class=\"graph\" transform=\"scale(1 1) rotate(0) translate(4 214)\">\r\n",
       "<polygon fill=\"white\" stroke=\"transparent\" points=\"-4,4 -4,-214 423.07,-214 423.07,4 -4,4\"/>\r\n",
       "<!-- 44 -->\r\n",
       "<g id=\"node1\" class=\"node\">\r\n",
       "<title>44</title>\r\n",
       "<ellipse fill=\"none\" stroke=\"black\" cx=\"197.07\" cy=\"-192\" rx=\"27\" ry=\"18\"/>\r\n",
       "<text text-anchor=\"middle\" x=\"197.07\" y=\"-188.3\" font-family=\"Times New Roman,serif\" font-size=\"14.00\">44</text>\r\n",
       "</g>\r\n",
       "<!-- 60 -->\r\n",
       "<g id=\"node2\" class=\"node\">\r\n",
       "<title>60</title>\r\n",
       "<ellipse fill=\"none\" stroke=\"black\" cx=\"100.07\" cy=\"-105\" rx=\"27\" ry=\"18\"/>\r\n",
       "<text text-anchor=\"middle\" x=\"100.07\" y=\"-101.3\" font-family=\"Times New Roman,serif\" font-size=\"14.00\">60</text>\r\n",
       "</g>\r\n",
       "<!-- 44&#45;&gt;60 -->\r\n",
       "<g id=\"edge2\" class=\"edge\">\r\n",
       "<title>44&#45;&gt;60</title>\r\n",
       "<path fill=\"none\" stroke=\"black\" d=\"M169.86,-190.17C121.97,-188.06 25.74,-180.78 5.07,-156 -14.43,-132.62 29.65,-118.72 64.1,-111.72\"/>\r\n",
       "<polygon fill=\"black\" stroke=\"black\" points=\"64.78,-115.15 73.95,-109.84 63.47,-108.27 64.78,-115.15\"/>\r\n",
       "<text text-anchor=\"middle\" x=\"12.57\" y=\"-144.8\" font-family=\"Times New Roman,serif\" font-size=\"14.00\">on</text>\r\n",
       "</g>\r\n",
       "<!-- 44&#45;&gt;60 -->\r\n",
       "<g id=\"edge3\" class=\"edge\">\r\n",
       "<title>44&#45;&gt;60</title>\r\n",
       "<path fill=\"none\" stroke=\"black\" d=\"M170.46,-188.87C130.69,-185.07 58.72,-175.61 43.07,-156 31.71,-141.77 49.28,-128.31 67.83,-118.95\"/>\r\n",
       "<polygon fill=\"black\" stroke=\"black\" points=\"69.32,-122.12 76.89,-114.7 66.35,-115.78 69.32,-122.12\"/>\r\n",
       "<text text-anchor=\"middle\" x=\"62.57\" y=\"-144.8\" font-family=\"Times New Roman,serif\" font-size=\"14.00\">top_of</text>\r\n",
       "</g>\r\n",
       "<!-- 52 -->\r\n",
       "<g id=\"node3\" class=\"node\">\r\n",
       "<title>52</title>\r\n",
       "<ellipse fill=\"none\" stroke=\"black\" cx=\"269.07\" cy=\"-18\" rx=\"27\" ry=\"18\"/>\r\n",
       "<text text-anchor=\"middle\" x=\"269.07\" y=\"-14.3\" font-family=\"Times New Roman,serif\" font-size=\"14.00\">52</text>\r\n",
       "</g>\r\n",
       "<!-- 44&#45;&gt;52 -->\r\n",
       "<g id=\"edge5\" class=\"edge\">\r\n",
       "<title>44&#45;&gt;52</title>\r\n",
       "<path fill=\"none\" stroke=\"black\" d=\"M207.88,-175.38C211.7,-169.47 215.85,-162.57 219.07,-156 237.15,-119.1 252.4,-73.94 261.14,-45.81\"/>\r\n",
       "<polygon fill=\"black\" stroke=\"black\" points=\"264.59,-46.5 264.17,-35.92 257.89,-44.46 264.59,-46.5\"/>\r\n",
       "<text text-anchor=\"middle\" x=\"262.07\" y=\"-101.3\" font-family=\"Times New Roman,serif\" font-size=\"14.00\">under</text>\r\n",
       "</g>\r\n",
       "<!-- 44&#45;&gt;52 -->\r\n",
       "<g id=\"edge6\" class=\"edge\">\r\n",
       "<title>44&#45;&gt;52</title>\r\n",
       "<path fill=\"none\" stroke=\"black\" d=\"M218.58,-180.71C238.93,-169.64 268.23,-149.93 281.07,-123 292.83,-98.36 286.66,-66.83 279.55,-44.98\"/>\r\n",
       "<polygon fill=\"black\" stroke=\"black\" points=\"282.79,-43.66 276.17,-35.39 276.19,-45.98 282.79,-43.66\"/>\r\n",
       "<text text-anchor=\"middle\" x=\"317.57\" y=\"-101.3\" font-family=\"Times New Roman,serif\" font-size=\"14.00\">bottom_of</text>\r\n",
       "</g>\r\n",
       "<!-- 60&#45;&gt;44 -->\r\n",
       "<g id=\"edge7\" class=\"edge\">\r\n",
       "<title>60&#45;&gt;44</title>\r\n",
       "<path fill=\"none\" stroke=\"black\" d=\"M97.53,-123.39C96.96,-133.85 98.07,-146.86 105.07,-156 118.25,-173.22 140.97,-181.96 160.53,-186.41\"/>\r\n",
       "<polygon fill=\"black\" stroke=\"black\" points=\"159.91,-189.86 170.4,-188.36 161.27,-182.99 159.91,-189.86\"/>\r\n",
       "<text text-anchor=\"middle\" x=\"121.07\" y=\"-144.8\" font-family=\"Times New Roman,serif\" font-size=\"14.00\">under</text>\r\n",
       "</g>\r\n",
       "<!-- 60&#45;&gt;44 -->\r\n",
       "<g id=\"edge8\" class=\"edge\">\r\n",
       "<title>60&#45;&gt;44</title>\r\n",
       "<path fill=\"none\" stroke=\"black\" d=\"M115.79,-119.77C131.36,-133.42 155.41,-154.49 173.31,-170.18\"/>\r\n",
       "<polygon fill=\"black\" stroke=\"black\" points=\"171.23,-173.01 181.05,-176.96 175.84,-167.74 171.23,-173.01\"/>\r\n",
       "<text text-anchor=\"middle\" x=\"184.57\" y=\"-144.8\" font-family=\"Times New Roman,serif\" font-size=\"14.00\">bottom_of</text>\r\n",
       "</g>\r\n",
       "<!-- 60&#45;&gt;52 -->\r\n",
       "<g id=\"edge4\" class=\"edge\">\r\n",
       "<title>60&#45;&gt;52</title>\r\n",
       "<path fill=\"none\" stroke=\"black\" d=\"M92.38,-87.4C88.7,-76.73 86.53,-63.2 94.07,-54 111.16,-33.16 185.82,-24.48 231.93,-21.06\"/>\r\n",
       "<polygon fill=\"black\" stroke=\"black\" points=\"232.41,-24.53 242.14,-20.35 231.92,-17.55 232.41,-24.53\"/>\r\n",
       "<text text-anchor=\"middle\" x=\"124.57\" y=\"-57.8\" font-family=\"Times New Roman,serif\" font-size=\"14.00\">bottom_of</text>\r\n",
       "</g>\r\n",
       "<!-- 52&#45;&gt;44 -->\r\n",
       "<g id=\"edge9\" class=\"edge\">\r\n",
       "<title>52&#45;&gt;44</title>\r\n",
       "<path fill=\"none\" stroke=\"black\" d=\"M289.57,-30.01C321.11,-48.43 375.57,-87.03 352.07,-123 325.92,-163.03 270.4,-179.64 233.41,-186.44\"/>\r\n",
       "<polygon fill=\"black\" stroke=\"black\" points=\"232.78,-182.99 223.5,-188.1 233.95,-189.9 232.78,-182.99\"/>\r\n",
       "<text text-anchor=\"middle\" x=\"364.57\" y=\"-101.3\" font-family=\"Times New Roman,serif\" font-size=\"14.00\">on</text>\r\n",
       "</g>\r\n",
       "<!-- 52&#45;&gt;44 -->\r\n",
       "<g id=\"edge10\" class=\"edge\">\r\n",
       "<title>52&#45;&gt;44</title>\r\n",
       "<path fill=\"none\" stroke=\"black\" d=\"M292.63,-26.85C308.6,-32.83 329.69,-42.06 346.07,-54 373.1,-73.7 389.54,-92.39 376.07,-123 352.97,-175.51 279.68,-188.13 234.36,-190.77\"/>\r\n",
       "<polygon fill=\"black\" stroke=\"black\" points=\"234.15,-187.28 224.32,-191.22 234.46,-194.27 234.15,-187.28\"/>\r\n",
       "<text text-anchor=\"middle\" x=\"399.57\" y=\"-101.3\" font-family=\"Times New Roman,serif\" font-size=\"14.00\">top_of</text>\r\n",
       "</g>\r\n",
       "<!-- 52&#45;&gt;60 -->\r\n",
       "<g id=\"edge1\" class=\"edge\">\r\n",
       "<title>52&#45;&gt;60</title>\r\n",
       "<path fill=\"none\" stroke=\"black\" d=\"M245.62,-27.02C227.79,-33.45 202.86,-43.17 182.07,-54 171.25,-59.64 169.43,-62.55 159.07,-69 149.26,-75.1 138.42,-81.61 128.73,-87.33\"/>\r\n",
       "<polygon fill=\"black\" stroke=\"black\" points=\"126.71,-84.46 119.86,-92.54 130.26,-90.49 126.71,-84.46\"/>\r\n",
       "<text text-anchor=\"middle\" x=\"201.57\" y=\"-57.8\" font-family=\"Times New Roman,serif\" font-size=\"14.00\">top_of</text>\r\n",
       "</g>\r\n",
       "</g>\r\n",
       "</svg>\r\n"
      ],
      "text/plain": [
       "<graphviz.dot.Digraph at 0x2c86af7da48>"
      ]
     },
     "metadata": {},
     "output_type": "display_data"
    },
    {
     "name": "stderr",
     "output_type": "stream",
     "text": [
      "Clipping input data to the valid range for imshow with RGB data ([0..1] for floats or [0..255] for integers).\n"
     ]
    },
    {
     "name": "stdout",
     "output_type": "stream",
     "text": [
      "-------------------------------\n"
     ]
    },
    {
     "data": {
      "image/png": "[encoded data removed]",
      "text/plain": [
       "<Figure size 432x288 with 1 Axes>"
      ]
     },
     "metadata": {
      "needs_background": "light"
     },
     "output_type": "display_data"
    },
    {
     "data": {
      "image/svg+xml": [
       "<?xml version=\"1.0\" encoding=\"UTF-8\" standalone=\"no\"?>\r\n",
       "<!DOCTYPE svg PUBLIC \"-//W3C//DTD SVG 1.1//EN\"\r\n",
       " \"http://www.w3.org/Graphics/SVG/1.1/DTD/svg11.dtd\">\r\n",
       "<!-- Generated by graphviz version 2.46.1 (20210213.1702)\r\n",
       " -->\r\n",
       "<!-- Pages: 1 -->\r\n",
       "<svg width=\"427pt\" height=\"218pt\"\r\n",
       " viewBox=\"0.00 0.00 427.07 218.00\" xmlns=\"http://www.w3.org/2000/svg\" xmlns:xlink=\"http://www.w3.org/1999/xlink\">\r\n",
       "<g id=\"graph0\" class=\"graph\" transform=\"scale(1 1) rotate(0) translate(4 214)\">\r\n",
       "<polygon fill=\"white\" stroke=\"transparent\" points=\"-4,4 -4,-214 423.07,-214 423.07,4 -4,4\"/>\r\n",
       "<!-- 44 -->\r\n",
       "<g id=\"node1\" class=\"node\">\r\n",
       "<title>44</title>\r\n",
       "<ellipse fill=\"none\" stroke=\"black\" cx=\"197.07\" cy=\"-192\" rx=\"27\" ry=\"18\"/>\r\n",
       "<text text-anchor=\"middle\" x=\"197.07\" y=\"-188.3\" font-family=\"Times New Roman,serif\" font-size=\"14.00\">44</text>\r\n",
       "</g>\r\n",
       "<!-- 60 -->\r\n",
       "<g id=\"node2\" class=\"node\">\r\n",
       "<title>60</title>\r\n",
       "<ellipse fill=\"none\" stroke=\"black\" cx=\"100.07\" cy=\"-105\" rx=\"27\" ry=\"18\"/>\r\n",
       "<text text-anchor=\"middle\" x=\"100.07\" y=\"-101.3\" font-family=\"Times New Roman,serif\" font-size=\"14.00\">60</text>\r\n",
       "</g>\r\n",
       "<!-- 44&#45;&gt;60 -->\r\n",
       "<g id=\"edge2\" class=\"edge\">\r\n",
       "<title>44&#45;&gt;60</title>\r\n",
       "<path fill=\"none\" stroke=\"black\" d=\"M169.86,-190.17C121.97,-188.06 25.74,-180.78 5.07,-156 -14.43,-132.62 29.65,-118.72 64.1,-111.72\"/>\r\n",
       "<polygon fill=\"black\" stroke=\"black\" points=\"64.78,-115.15 73.95,-109.84 63.47,-108.27 64.78,-115.15\"/>\r\n",
       "<text text-anchor=\"middle\" x=\"12.57\" y=\"-144.8\" font-family=\"Times New Roman,serif\" font-size=\"14.00\">on</text>\r\n",
       "</g>\r\n",
       "<!-- 44&#45;&gt;60 -->\r\n",
       "<g id=\"edge3\" class=\"edge\">\r\n",
       "<title>44&#45;&gt;60</title>\r\n",
       "<path fill=\"none\" stroke=\"black\" d=\"M170.46,-188.87C130.69,-185.07 58.72,-175.61 43.07,-156 31.71,-141.77 49.28,-128.31 67.83,-118.95\"/>\r\n",
       "<polygon fill=\"black\" stroke=\"black\" points=\"69.32,-122.12 76.89,-114.7 66.35,-115.78 69.32,-122.12\"/>\r\n",
       "<text text-anchor=\"middle\" x=\"62.57\" y=\"-144.8\" font-family=\"Times New Roman,serif\" font-size=\"14.00\">top_of</text>\r\n",
       "</g>\r\n",
       "<!-- 52 -->\r\n",
       "<g id=\"node3\" class=\"node\">\r\n",
       "<title>52</title>\r\n",
       "<ellipse fill=\"none\" stroke=\"black\" cx=\"269.07\" cy=\"-18\" rx=\"27\" ry=\"18\"/>\r\n",
       "<text text-anchor=\"middle\" x=\"269.07\" y=\"-14.3\" font-family=\"Times New Roman,serif\" font-size=\"14.00\">52</text>\r\n",
       "</g>\r\n",
       "<!-- 44&#45;&gt;52 -->\r\n",
       "<g id=\"edge5\" class=\"edge\">\r\n",
       "<title>44&#45;&gt;52</title>\r\n",
       "<path fill=\"none\" stroke=\"black\" d=\"M207.88,-175.38C211.7,-169.47 215.85,-162.57 219.07,-156 237.15,-119.1 252.4,-73.94 261.14,-45.81\"/>\r\n",
       "<polygon fill=\"black\" stroke=\"black\" points=\"264.59,-46.5 264.17,-35.92 257.89,-44.46 264.59,-46.5\"/>\r\n",
       "<text text-anchor=\"middle\" x=\"262.07\" y=\"-101.3\" font-family=\"Times New Roman,serif\" font-size=\"14.00\">under</text>\r\n",
       "</g>\r\n",
       "<!-- 44&#45;&gt;52 -->\r\n",
       "<g id=\"edge6\" class=\"edge\">\r\n",
       "<title>44&#45;&gt;52</title>\r\n",
       "<path fill=\"none\" stroke=\"black\" d=\"M218.58,-180.71C238.93,-169.64 268.23,-149.93 281.07,-123 292.83,-98.36 286.66,-66.83 279.55,-44.98\"/>\r\n",
       "<polygon fill=\"black\" stroke=\"black\" points=\"282.79,-43.66 276.17,-35.39 276.19,-45.98 282.79,-43.66\"/>\r\n",
       "<text text-anchor=\"middle\" x=\"317.57\" y=\"-101.3\" font-family=\"Times New Roman,serif\" font-size=\"14.00\">bottom_of</text>\r\n",
       "</g>\r\n",
       "<!-- 60&#45;&gt;44 -->\r\n",
       "<g id=\"edge7\" class=\"edge\">\r\n",
       "<title>60&#45;&gt;44</title>\r\n",
       "<path fill=\"none\" stroke=\"black\" d=\"M97.53,-123.39C96.96,-133.85 98.07,-146.86 105.07,-156 118.25,-173.22 140.97,-181.96 160.53,-186.41\"/>\r\n",
       "<polygon fill=\"black\" stroke=\"black\" points=\"159.91,-189.86 170.4,-188.36 161.27,-182.99 159.91,-189.86\"/>\r\n",
       "<text text-anchor=\"middle\" x=\"121.07\" y=\"-144.8\" font-family=\"Times New Roman,serif\" font-size=\"14.00\">under</text>\r\n",
       "</g>\r\n",
       "<!-- 60&#45;&gt;44 -->\r\n",
       "<g id=\"edge8\" class=\"edge\">\r\n",
       "<title>60&#45;&gt;44</title>\r\n",
       "<path fill=\"none\" stroke=\"black\" d=\"M115.79,-119.77C131.36,-133.42 155.41,-154.49 173.31,-170.18\"/>\r\n",
       "<polygon fill=\"black\" stroke=\"black\" points=\"171.23,-173.01 181.05,-176.96 175.84,-167.74 171.23,-173.01\"/>\r\n",
       "<text text-anchor=\"middle\" x=\"184.57\" y=\"-144.8\" font-family=\"Times New Roman,serif\" font-size=\"14.00\">bottom_of</text>\r\n",
       "</g>\r\n",
       "<!-- 60&#45;&gt;52 -->\r\n",
       "<g id=\"edge4\" class=\"edge\">\r\n",
       "<title>60&#45;&gt;52</title>\r\n",
       "<path fill=\"none\" stroke=\"black\" d=\"M92.38,-87.4C88.7,-76.73 86.53,-63.2 94.07,-54 111.16,-33.16 185.82,-24.48 231.93,-21.06\"/>\r\n",
       "<polygon fill=\"black\" stroke=\"black\" points=\"232.41,-24.53 242.14,-20.35 231.92,-17.55 232.41,-24.53\"/>\r\n",
       "<text text-anchor=\"middle\" x=\"124.57\" y=\"-57.8\" font-family=\"Times New Roman,serif\" font-size=\"14.00\">bottom_of</text>\r\n",
       "</g>\r\n",
       "<!-- 52&#45;&gt;44 -->\r\n",
       "<g id=\"edge9\" class=\"edge\">\r\n",
       "<title>52&#45;&gt;44</title>\r\n",
       "<path fill=\"none\" stroke=\"black\" d=\"M289.57,-30.01C321.11,-48.43 375.57,-87.03 352.07,-123 325.92,-163.03 270.4,-179.64 233.41,-186.44\"/>\r\n",
       "<polygon fill=\"black\" stroke=\"black\" points=\"232.78,-182.99 223.5,-188.1 233.95,-189.9 232.78,-182.99\"/>\r\n",
       "<text text-anchor=\"middle\" x=\"364.57\" y=\"-101.3\" font-family=\"Times New Roman,serif\" font-size=\"14.00\">on</text>\r\n",
       "</g>\r\n",
       "<!-- 52&#45;&gt;44 -->\r\n",
       "<g id=\"edge10\" class=\"edge\">\r\n",
       "<title>52&#45;&gt;44</title>\r\n",
       "<path fill=\"none\" stroke=\"black\" d=\"M292.63,-26.85C308.6,-32.83 329.69,-42.06 346.07,-54 373.1,-73.7 389.54,-92.39 376.07,-123 352.97,-175.51 279.68,-188.13 234.36,-190.77\"/>\r\n",
       "<polygon fill=\"black\" stroke=\"black\" points=\"234.15,-187.28 224.32,-191.22 234.46,-194.27 234.15,-187.28\"/>\r\n",
       "<text text-anchor=\"middle\" x=\"399.57\" y=\"-101.3\" font-family=\"Times New Roman,serif\" font-size=\"14.00\">top_of</text>\r\n",
       "</g>\r\n",
       "<!-- 52&#45;&gt;60 -->\r\n",
       "<g id=\"edge1\" class=\"edge\">\r\n",
       "<title>52&#45;&gt;60</title>\r\n",
       "<path fill=\"none\" stroke=\"black\" d=\"M245.62,-27.02C227.79,-33.45 202.86,-43.17 182.07,-54 171.25,-59.64 169.43,-62.55 159.07,-69 149.26,-75.1 138.42,-81.61 128.73,-87.33\"/>\r\n",
       "<polygon fill=\"black\" stroke=\"black\" points=\"126.71,-84.46 119.86,-92.54 130.26,-90.49 126.71,-84.46\"/>\r\n",
       "<text text-anchor=\"middle\" x=\"201.57\" y=\"-57.8\" font-family=\"Times New Roman,serif\" font-size=\"14.00\">top_of</text>\r\n",
       "</g>\r\n",
       "</g>\r\n",
       "</svg>\r\n"
      ],
      "text/plain": [
       "<graphviz.dot.Digraph at 0x2c86c0ed888>"
      ]
     },
     "metadata": {},
     "output_type": "display_data"
    },
    {
     "name": "stderr",
     "output_type": "stream",
     "text": [
      "Clipping input data to the valid range for imshow with RGB data ([0..1] for floats or [0..255] for integers).\n"
     ]
    },
    {
     "name": "stdout",
     "output_type": "stream",
     "text": [
      "-------------------------------\n"
     ]
    },
    {
     "data": {
      "image/png": "[encoded data removed]",
      "text/plain": [
       "<Figure size 432x288 with 1 Axes>"
      ]
     },
     "metadata": {
      "needs_background": "light"
     },
     "output_type": "display_data"
    },
    {
     "data": {
      "image/svg+xml": [
       "<?xml version=\"1.0\" encoding=\"UTF-8\" standalone=\"no\"?>\r\n",
       "<!DOCTYPE svg PUBLIC \"-//W3C//DTD SVG 1.1//EN\"\r\n",
       " \"http://www.w3.org/Graphics/SVG/1.1/DTD/svg11.dtd\">\r\n",
       "<!-- Generated by graphviz version 2.46.1 (20210213.1702)\r\n",
       " -->\r\n",
       "<!-- Pages: 1 -->\r\n",
       "<svg width=\"427pt\" height=\"218pt\"\r\n",
       " viewBox=\"0.00 0.00 427.07 218.00\" xmlns=\"http://www.w3.org/2000/svg\" xmlns:xlink=\"http://www.w3.org/1999/xlink\">\r\n",
       "<g id=\"graph0\" class=\"graph\" transform=\"scale(1 1) rotate(0) translate(4 214)\">\r\n",
       "<polygon fill=\"white\" stroke=\"transparent\" points=\"-4,4 -4,-214 423.07,-214 423.07,4 -4,4\"/>\r\n",
       "<!-- 44 -->\r\n",
       "<g id=\"node1\" class=\"node\">\r\n",
       "<title>44</title>\r\n",
       "<ellipse fill=\"none\" stroke=\"black\" cx=\"197.07\" cy=\"-192\" rx=\"27\" ry=\"18\"/>\r\n",
       "<text text-anchor=\"middle\" x=\"197.07\" y=\"-188.3\" font-family=\"Times New Roman,serif\" font-size=\"14.00\">44</text>\r\n",
       "</g>\r\n",
       "<!-- 60 -->\r\n",
       "<g id=\"node2\" class=\"node\">\r\n",
       "<title>60</title>\r\n",
       "<ellipse fill=\"none\" stroke=\"black\" cx=\"100.07\" cy=\"-105\" rx=\"27\" ry=\"18\"/>\r\n",
       "<text text-anchor=\"middle\" x=\"100.07\" y=\"-101.3\" font-family=\"Times New Roman,serif\" font-size=\"14.00\">60</text>\r\n",
       "</g>\r\n",
       "<!-- 44&#45;&gt;60 -->\r\n",
       "<g id=\"edge2\" class=\"edge\">\r\n",
       "<title>44&#45;&gt;60</title>\r\n",
       "<path fill=\"none\" stroke=\"black\" d=\"M169.86,-190.17C121.97,-188.06 25.74,-180.78 5.07,-156 -14.43,-132.62 29.65,-118.72 64.1,-111.72\"/>\r\n",
       "<polygon fill=\"black\" stroke=\"black\" points=\"64.78,-115.15 73.95,-109.84 63.47,-108.27 64.78,-115.15\"/>\r\n",
       "<text text-anchor=\"middle\" x=\"12.57\" y=\"-144.8\" font-family=\"Times New Roman,serif\" font-size=\"14.00\">on</text>\r\n",
       "</g>\r\n",
       "<!-- 44&#45;&gt;60 -->\r\n",
       "<g id=\"edge3\" class=\"edge\">\r\n",
       "<title>44&#45;&gt;60</title>\r\n",
       "<path fill=\"none\" stroke=\"black\" d=\"M170.46,-188.87C130.69,-185.07 58.72,-175.61 43.07,-156 31.71,-141.77 49.28,-128.31 67.83,-118.95\"/>\r\n",
       "<polygon fill=\"black\" stroke=\"black\" points=\"69.32,-122.12 76.89,-114.7 66.35,-115.78 69.32,-122.12\"/>\r\n",
       "<text text-anchor=\"middle\" x=\"62.57\" y=\"-144.8\" font-family=\"Times New Roman,serif\" font-size=\"14.00\">top_of</text>\r\n",
       "</g>\r\n",
       "<!-- 52 -->\r\n",
       "<g id=\"node3\" class=\"node\">\r\n",
       "<title>52</title>\r\n",
       "<ellipse fill=\"none\" stroke=\"black\" cx=\"269.07\" cy=\"-18\" rx=\"27\" ry=\"18\"/>\r\n",
       "<text text-anchor=\"middle\" x=\"269.07\" y=\"-14.3\" font-family=\"Times New Roman,serif\" font-size=\"14.00\">52</text>\r\n",
       "</g>\r\n",
       "<!-- 44&#45;&gt;52 -->\r\n",
       "<g id=\"edge5\" class=\"edge\">\r\n",
       "<title>44&#45;&gt;52</title>\r\n",
       "<path fill=\"none\" stroke=\"black\" d=\"M207.88,-175.38C211.7,-169.47 215.85,-162.57 219.07,-156 237.15,-119.1 252.4,-73.94 261.14,-45.81\"/>\r\n",
       "<polygon fill=\"black\" stroke=\"black\" points=\"264.59,-46.5 264.17,-35.92 257.89,-44.46 264.59,-46.5\"/>\r\n",
       "<text text-anchor=\"middle\" x=\"262.07\" y=\"-101.3\" font-family=\"Times New Roman,serif\" font-size=\"14.00\">under</text>\r\n",
       "</g>\r\n",
       "<!-- 44&#45;&gt;52 -->\r\n",
       "<g id=\"edge6\" class=\"edge\">\r\n",
       "<title>44&#45;&gt;52</title>\r\n",
       "<path fill=\"none\" stroke=\"black\" d=\"M218.58,-180.71C238.93,-169.64 268.23,-149.93 281.07,-123 292.83,-98.36 286.66,-66.83 279.55,-44.98\"/>\r\n",
       "<polygon fill=\"black\" stroke=\"black\" points=\"282.79,-43.66 276.17,-35.39 276.19,-45.98 282.79,-43.66\"/>\r\n",
       "<text text-anchor=\"middle\" x=\"317.57\" y=\"-101.3\" font-family=\"Times New Roman,serif\" font-size=\"14.00\">bottom_of</text>\r\n",
       "</g>\r\n",
       "<!-- 60&#45;&gt;44 -->\r\n",
       "<g id=\"edge7\" class=\"edge\">\r\n",
       "<title>60&#45;&gt;44</title>\r\n",
       "<path fill=\"none\" stroke=\"black\" d=\"M97.53,-123.39C96.96,-133.85 98.07,-146.86 105.07,-156 118.25,-173.22 140.97,-181.96 160.53,-186.41\"/>\r\n",
       "<polygon fill=\"black\" stroke=\"black\" points=\"159.91,-189.86 170.4,-188.36 161.27,-182.99 159.91,-189.86\"/>\r\n",
       "<text text-anchor=\"middle\" x=\"121.07\" y=\"-144.8\" font-family=\"Times New Roman,serif\" font-size=\"14.00\">under</text>\r\n",
       "</g>\r\n",
       "<!-- 60&#45;&gt;44 -->\r\n",
       "<g id=\"edge8\" class=\"edge\">\r\n",
       "<title>60&#45;&gt;44</title>\r\n",
       "<path fill=\"none\" stroke=\"black\" d=\"M115.79,-119.77C131.36,-133.42 155.41,-154.49 173.31,-170.18\"/>\r\n",
       "<polygon fill=\"black\" stroke=\"black\" points=\"171.23,-173.01 181.05,-176.96 175.84,-167.74 171.23,-173.01\"/>\r\n",
       "<text text-anchor=\"middle\" x=\"184.57\" y=\"-144.8\" font-family=\"Times New Roman,serif\" font-size=\"14.00\">bottom_of</text>\r\n",
       "</g>\r\n",
       "<!-- 60&#45;&gt;52 -->\r\n",
       "<g id=\"edge4\" class=\"edge\">\r\n",
       "<title>60&#45;&gt;52</title>\r\n",
       "<path fill=\"none\" stroke=\"black\" d=\"M92.38,-87.4C88.7,-76.73 86.53,-63.2 94.07,-54 111.16,-33.16 185.82,-24.48 231.93,-21.06\"/>\r\n",
       "<polygon fill=\"black\" stroke=\"black\" points=\"232.41,-24.53 242.14,-20.35 231.92,-17.55 232.41,-24.53\"/>\r\n",
       "<text text-anchor=\"middle\" x=\"124.57\" y=\"-57.8\" font-family=\"Times New Roman,serif\" font-size=\"14.00\">bottom_of</text>\r\n",
       "</g>\r\n",
       "<!-- 52&#45;&gt;44 -->\r\n",
       "<g id=\"edge9\" class=\"edge\">\r\n",
       "<title>52&#45;&gt;44</title>\r\n",
       "<path fill=\"none\" stroke=\"black\" d=\"M289.57,-30.01C321.11,-48.43 375.57,-87.03 352.07,-123 325.92,-163.03 270.4,-179.64 233.41,-186.44\"/>\r\n",
       "<polygon fill=\"black\" stroke=\"black\" points=\"232.78,-182.99 223.5,-188.1 233.95,-189.9 232.78,-182.99\"/>\r\n",
       "<text text-anchor=\"middle\" x=\"364.57\" y=\"-101.3\" font-family=\"Times New Roman,serif\" font-size=\"14.00\">on</text>\r\n",
       "</g>\r\n",
       "<!-- 52&#45;&gt;44 -->\r\n",
       "<g id=\"edge10\" class=\"edge\">\r\n",
       "<title>52&#45;&gt;44</title>\r\n",
       "<path fill=\"none\" stroke=\"black\" d=\"M292.63,-26.85C308.6,-32.83 329.69,-42.06 346.07,-54 373.1,-73.7 389.54,-92.39 376.07,-123 352.97,-175.51 279.68,-188.13 234.36,-190.77\"/>\r\n",
       "<polygon fill=\"black\" stroke=\"black\" points=\"234.15,-187.28 224.32,-191.22 234.46,-194.27 234.15,-187.28\"/>\r\n",
       "<text text-anchor=\"middle\" x=\"399.57\" y=\"-101.3\" font-family=\"Times New Roman,serif\" font-size=\"14.00\">top_of</text>\r\n",
       "</g>\r\n",
       "<!-- 52&#45;&gt;60 -->\r\n",
       "<g id=\"edge1\" class=\"edge\">\r\n",
       "<title>52&#45;&gt;60</title>\r\n",
       "<path fill=\"none\" stroke=\"black\" d=\"M245.62,-27.02C227.79,-33.45 202.86,-43.17 182.07,-54 171.25,-59.64 169.43,-62.55 159.07,-69 149.26,-75.1 138.42,-81.61 128.73,-87.33\"/>\r\n",
       "<polygon fill=\"black\" stroke=\"black\" points=\"126.71,-84.46 119.86,-92.54 130.26,-90.49 126.71,-84.46\"/>\r\n",
       "<text text-anchor=\"middle\" x=\"201.57\" y=\"-57.8\" font-family=\"Times New Roman,serif\" font-size=\"14.00\">top_of</text>\r\n",
       "</g>\r\n",
       "</g>\r\n",
       "</svg>\r\n"
      ],
      "text/plain": [
       "<graphviz.dot.Digraph at 0x2c86c06e4c8>"
      ]
     },
     "metadata": {},
     "output_type": "display_data"
    },
    {
     "name": "stdout",
     "output_type": "stream",
     "text": [
      "-------------------------------\n"
     ]
    }
   ],
   "source": [
    "for ex in perturbed_dataset:\n",
    "    if ex.positive:\n",
    "        plt.imshow(ex.labeled_image)\n",
    "        plt.show()\n",
    "        display(ex.graph)\n",
    "        print(\"-------------------------------\")"
   ]
  },
  {
   "cell_type": "markdown",
   "metadata": {},
   "source": [
    "Und nun alle negativen Instanzen, für die die Klasse Turm nicht mehr gilt:"
   ]
  },
  {
   "cell_type": "code",
   "execution_count": 15,
   "metadata": {
    "scrolled": false
   },
   "outputs": [
    {
     "name": "stderr",
     "output_type": "stream",
     "text": [
      "Clipping input data to the valid range for imshow with RGB data ([0..1] for floats or [0..255] for integers).\n"
     ]
    },
    {
     "data": {
      "image/png": "[encoded data removed]",
      "text/plain": [
       "<Figure size 432x288 with 1 Axes>"
      ]
     },
     "metadata": {
      "needs_background": "light"
     },
     "output_type": "display_data"
    },
    {
     "data": {
      "image/svg+xml": [
       "<?xml version=\"1.0\" encoding=\"UTF-8\" standalone=\"no\"?>\r\n",
       "<!DOCTYPE svg PUBLIC \"-//W3C//DTD SVG 1.1//EN\"\r\n",
       " \"http://www.w3.org/Graphics/SVG/1.1/DTD/svg11.dtd\">\r\n",
       "<!-- Generated by graphviz version 2.46.1 (20210213.1702)\r\n",
       " -->\r\n",
       "<!-- Pages: 1 -->\r\n",
       "<svg width=\"443pt\" height=\"218pt\"\r\n",
       " viewBox=\"0.00 0.00 443.13 218.00\" xmlns=\"http://www.w3.org/2000/svg\" xmlns:xlink=\"http://www.w3.org/1999/xlink\">\r\n",
       "<g id=\"graph0\" class=\"graph\" transform=\"scale(1 1) rotate(0) translate(4 214)\">\r\n",
       "<polygon fill=\"white\" stroke=\"transparent\" points=\"-4,4 -4,-214 439.13,-214 439.13,4 -4,4\"/>\r\n",
       "<!-- 44 -->\r\n",
       "<g id=\"node1\" class=\"node\">\r\n",
       "<title>44</title>\r\n",
       "<ellipse fill=\"none\" stroke=\"black\" cx=\"269.13\" cy=\"-192\" rx=\"27\" ry=\"18\"/>\r\n",
       "<text text-anchor=\"middle\" x=\"269.13\" y=\"-188.3\" font-family=\"Times New Roman,serif\" font-size=\"14.00\">44</text>\r\n",
       "</g>\r\n",
       "<!-- 60 -->\r\n",
       "<g id=\"node2\" class=\"node\">\r\n",
       "<title>60</title>\r\n",
       "<ellipse fill=\"none\" stroke=\"black\" cx=\"101.13\" cy=\"-105\" rx=\"27\" ry=\"18\"/>\r\n",
       "<text text-anchor=\"middle\" x=\"101.13\" y=\"-101.3\" font-family=\"Times New Roman,serif\" font-size=\"14.00\">60</text>\r\n",
       "</g>\r\n",
       "<!-- 44&#45;&gt;60 -->\r\n",
       "<g id=\"edge4\" class=\"edge\">\r\n",
       "<title>44&#45;&gt;60</title>\r\n",
       "<path fill=\"none\" stroke=\"black\" d=\"M242.2,-189.65C197.86,-186.8 112.55,-178.46 94.13,-156 88.76,-149.45 88.44,-140.71 90.13,-132.38\"/>\r\n",
       "<polygon fill=\"black\" stroke=\"black\" points=\"93.55,-133.16 92.98,-122.58 86.83,-131.21 93.55,-133.16\"/>\r\n",
       "<text text-anchor=\"middle\" x=\"124.63\" y=\"-144.8\" font-family=\"Times New Roman,serif\" font-size=\"14.00\">bottom_of</text>\r\n",
       "</g>\r\n",
       "<!-- 52 -->\r\n",
       "<g id=\"node3\" class=\"node\">\r\n",
       "<title>52</title>\r\n",
       "<ellipse fill=\"none\" stroke=\"black\" cx=\"197.13\" cy=\"-18\" rx=\"27\" ry=\"18\"/>\r\n",
       "<text text-anchor=\"middle\" x=\"197.13\" y=\"-14.3\" font-family=\"Times New Roman,serif\" font-size=\"14.00\">52</text>\r\n",
       "</g>\r\n",
       "<!-- 44&#45;&gt;52 -->\r\n",
       "<g id=\"edge7\" class=\"edge\">\r\n",
       "<title>44&#45;&gt;52</title>\r\n",
       "<path fill=\"none\" stroke=\"black\" d=\"M264.23,-174.08C256.31,-147.74 239.52,-95.61 219.13,-54 217.37,-50.4 215.33,-46.71 213.22,-43.14\"/>\r\n",
       "<polygon fill=\"black\" stroke=\"black\" points=\"216.18,-41.28 207.94,-34.62 210.23,-44.97 216.18,-41.28\"/>\r\n",
       "<text text-anchor=\"middle\" x=\"262.13\" y=\"-101.3\" font-family=\"Times New Roman,serif\" font-size=\"14.00\">under</text>\r\n",
       "</g>\r\n",
       "<!-- 44&#45;&gt;52 -->\r\n",
       "<g id=\"edge8\" class=\"edge\">\r\n",
       "<title>44&#45;&gt;52</title>\r\n",
       "<path fill=\"none\" stroke=\"black\" d=\"M276.23,-174.61C284.31,-153.33 294.75,-115.54 281.13,-87 270.04,-63.76 246.7,-45.89 227.42,-34.31\"/>\r\n",
       "<polygon fill=\"black\" stroke=\"black\" points=\"229.06,-31.22 218.64,-29.29 225.58,-37.29 229.06,-31.22\"/>\r\n",
       "<text text-anchor=\"middle\" x=\"317.63\" y=\"-101.3\" font-family=\"Times New Roman,serif\" font-size=\"14.00\">bottom_of</text>\r\n",
       "</g>\r\n",
       "<!-- 60&#45;&gt;44 -->\r\n",
       "<g id=\"edge1\" class=\"edge\">\r\n",
       "<title>60&#45;&gt;44</title>\r\n",
       "<path fill=\"none\" stroke=\"black\" d=\"M120.57,-117.5C131.88,-124.25 146.38,-133 159.13,-141 169.47,-147.49 171.31,-150.36 182.13,-156 199.35,-164.97 219.41,-173.18 235.92,-179.39\"/>\r\n",
       "<polygon fill=\"black\" stroke=\"black\" points=\"235.09,-182.81 245.68,-182.98 237.51,-176.24 235.09,-182.81\"/>\r\n",
       "<text text-anchor=\"middle\" x=\"201.63\" y=\"-144.8\" font-family=\"Times New Roman,serif\" font-size=\"14.00\">top_of</text>\r\n",
       "</g>\r\n",
       "<!-- 60&#45;&gt;52 -->\r\n",
       "<g id=\"edge9\" class=\"edge\">\r\n",
       "<title>60&#45;&gt;52</title>\r\n",
       "<path fill=\"none\" stroke=\"black\" d=\"M75.04,-100.26C39.73,-94.14 -16.54,-79.97 5.13,-54 24.43,-30.86 109.58,-22.98 159.77,-20.33\"/>\r\n",
       "<polygon fill=\"black\" stroke=\"black\" points=\"160.1,-23.81 169.92,-19.83 159.76,-16.82 160.1,-23.81\"/>\r\n",
       "<text text-anchor=\"middle\" x=\"12.63\" y=\"-57.8\" font-family=\"Times New Roman,serif\" font-size=\"14.00\">on</text>\r\n",
       "</g>\r\n",
       "<!-- 60&#45;&gt;52 -->\r\n",
       "<g id=\"edge10\" class=\"edge\">\r\n",
       "<title>60&#45;&gt;52</title>\r\n",
       "<path fill=\"none\" stroke=\"black\" d=\"M80.12,-93.26C63.59,-83.38 45.05,-68.17 56.13,-54 68.88,-37.7 123.21,-27.92 160.58,-22.99\"/>\r\n",
       "<polygon fill=\"black\" stroke=\"black\" points=\"161.13,-26.45 170.62,-21.73 160.26,-19.51 161.13,-26.45\"/>\r\n",
       "<text text-anchor=\"middle\" x=\"75.63\" y=\"-57.8\" font-family=\"Times New Roman,serif\" font-size=\"14.00\">top_of</text>\r\n",
       "</g>\r\n",
       "<!-- 52&#45;&gt;44 -->\r\n",
       "<g id=\"edge2\" class=\"edge\">\r\n",
       "<title>52&#45;&gt;44</title>\r\n",
       "<path fill=\"none\" stroke=\"black\" d=\"M224.1,-19.91C264.82,-22.96 340.19,-35.64 368.13,-87 375.78,-101.05 375.58,-108.84 368.13,-123 354.22,-149.43 324.87,-167.58 301.73,-178.43\"/>\r\n",
       "<polygon fill=\"black\" stroke=\"black\" points=\"300.28,-175.24 292.57,-182.51 303.13,-181.64 300.28,-175.24\"/>\r\n",
       "<text text-anchor=\"middle\" x=\"380.63\" y=\"-101.3\" font-family=\"Times New Roman,serif\" font-size=\"14.00\">on</text>\r\n",
       "</g>\r\n",
       "<!-- 52&#45;&gt;44 -->\r\n",
       "<g id=\"edge3\" class=\"edge\">\r\n",
       "<title>52&#45;&gt;44</title>\r\n",
       "<path fill=\"none\" stroke=\"black\" d=\"M224.2,-20.04C257.98,-22.36 316.59,-29.86 360.13,-54 378,-63.9 384.46,-68.07 392.13,-87 404.76,-118.16 389.07,-137.29 361.13,-156 343.64,-167.71 321.68,-176.26 303.6,-181.97\"/>\r\n",
       "<polygon fill=\"black\" stroke=\"black\" points=\"302.58,-178.62 294.01,-184.86 304.59,-185.33 302.58,-178.62\"/>\r\n",
       "<text text-anchor=\"middle\" x=\"415.63\" y=\"-101.3\" font-family=\"Times New Roman,serif\" font-size=\"14.00\">top_of</text>\r\n",
       "</g>\r\n",
       "<!-- 52&#45;&gt;60 -->\r\n",
       "<g id=\"edge5\" class=\"edge\">\r\n",
       "<title>52&#45;&gt;60</title>\r\n",
       "<path fill=\"none\" stroke=\"black\" d=\"M170.36,-21.56C149.07,-25.12 120.41,-33.63 105.13,-54 100.34,-60.39 98.46,-68.63 98.04,-76.57\"/>\r\n",
       "<polygon fill=\"black\" stroke=\"black\" points=\"94.54,-76.7 98.18,-86.64 101.54,-76.59 94.54,-76.7\"/>\r\n",
       "<text text-anchor=\"middle\" x=\"121.13\" y=\"-57.8\" font-family=\"Times New Roman,serif\" font-size=\"14.00\">under</text>\r\n",
       "</g>\r\n",
       "<!-- 52&#45;&gt;60 -->\r\n",
       "<g id=\"edge6\" class=\"edge\">\r\n",
       "<title>52&#45;&gt;60</title>\r\n",
       "<path fill=\"none\" stroke=\"black\" d=\"M181.57,-32.77C166.16,-46.42 142.36,-67.49 124.65,-83.18\"/>\r\n",
       "<polygon fill=\"black\" stroke=\"black\" points=\"122.15,-80.71 116.98,-89.96 126.79,-85.96 122.15,-80.71\"/>\r\n",
       "<text text-anchor=\"middle\" x=\"184.63\" y=\"-57.8\" font-family=\"Times New Roman,serif\" font-size=\"14.00\">bottom_of</text>\r\n",
       "</g>\r\n",
       "</g>\r\n",
       "</svg>\r\n"
      ],
      "text/plain": [
       "<graphviz.dot.Digraph at 0x2c86bfd8588>"
      ]
     },
     "metadata": {},
     "output_type": "display_data"
    },
    {
     "name": "stderr",
     "output_type": "stream",
     "text": [
      "Clipping input data to the valid range for imshow with RGB data ([0..1] for floats or [0..255] for integers).\n"
     ]
    },
    {
     "name": "stdout",
     "output_type": "stream",
     "text": [
      "-------------------------------\n"
     ]
    },
    {
     "data": {
      "image/png": "[encoded data removed]",
      "text/plain": [
       "<Figure size 432x288 with 1 Axes>"
      ]
     },
     "metadata": {
      "needs_background": "light"
     },
     "output_type": "display_data"
    },
    {
     "data": {
      "image/svg+xml": [
       "<?xml version=\"1.0\" encoding=\"UTF-8\" standalone=\"no\"?>\r\n",
       "<!DOCTYPE svg PUBLIC \"-//W3C//DTD SVG 1.1//EN\"\r\n",
       " \"http://www.w3.org/Graphics/SVG/1.1/DTD/svg11.dtd\">\r\n",
       "<!-- Generated by graphviz version 2.46.1 (20210213.1702)\r\n",
       " -->\r\n",
       "<!-- Pages: 1 -->\r\n",
       "<svg width=\"339pt\" height=\"218pt\"\r\n",
       " viewBox=\"0.00 0.00 339.17 218.00\" xmlns=\"http://www.w3.org/2000/svg\" xmlns:xlink=\"http://www.w3.org/1999/xlink\">\r\n",
       "<g id=\"graph0\" class=\"graph\" transform=\"scale(1 1) rotate(0) translate(4 214)\">\r\n",
       "<polygon fill=\"white\" stroke=\"transparent\" points=\"-4,4 -4,-214 335.17,-214 335.17,4 -4,4\"/>\r\n",
       "<!-- 44 -->\r\n",
       "<g id=\"node1\" class=\"node\">\r\n",
       "<title>44</title>\r\n",
       "<ellipse fill=\"none\" stroke=\"black\" cx=\"130.17\" cy=\"-192\" rx=\"27\" ry=\"18\"/>\r\n",
       "<text text-anchor=\"middle\" x=\"130.17\" y=\"-188.3\" font-family=\"Times New Roman,serif\" font-size=\"14.00\">44</text>\r\n",
       "</g>\r\n",
       "<!-- 60 -->\r\n",
       "<g id=\"node2\" class=\"node\">\r\n",
       "<title>60</title>\r\n",
       "<ellipse fill=\"none\" stroke=\"black\" cx=\"72.17\" cy=\"-105\" rx=\"27\" ry=\"18\"/>\r\n",
       "<text text-anchor=\"middle\" x=\"72.17\" y=\"-101.3\" font-family=\"Times New Roman,serif\" font-size=\"14.00\">60</text>\r\n",
       "</g>\r\n",
       "<!-- 44&#45;&gt;60 -->\r\n",
       "<g id=\"edge9\" class=\"edge\">\r\n",
       "<title>44&#45;&gt;60</title>\r\n",
       "<path fill=\"none\" stroke=\"black\" d=\"M103.92,-187.46C70.66,-182.36 16.19,-171.82 4.17,-156 -8.79,-138.95 15.2,-125.08 38.18,-116.3\"/>\r\n",
       "<polygon fill=\"black\" stroke=\"black\" points=\"39.61,-119.51 47.86,-112.86 37.26,-112.92 39.61,-119.51\"/>\r\n",
       "<text text-anchor=\"middle\" x=\"11.67\" y=\"-144.8\" font-family=\"Times New Roman,serif\" font-size=\"14.00\">on</text>\r\n",
       "</g>\r\n",
       "<!-- 44&#45;&gt;60 -->\r\n",
       "<g id=\"edge10\" class=\"edge\">\r\n",
       "<title>44&#45;&gt;60</title>\r\n",
       "<path fill=\"none\" stroke=\"black\" d=\"M104.04,-186.98C85.82,-182.67 62.79,-173.85 51.17,-156 45.83,-147.8 48.29,-138.02 53.09,-129.29\"/>\r\n",
       "<polygon fill=\"black\" stroke=\"black\" points=\"56.17,-130.97 58.71,-120.69 50.31,-127.14 56.17,-130.97\"/>\r\n",
       "<text text-anchor=\"middle\" x=\"70.67\" y=\"-144.8\" font-family=\"Times New Roman,serif\" font-size=\"14.00\">top_of</text>\r\n",
       "</g>\r\n",
       "<!-- 52 -->\r\n",
       "<g id=\"node3\" class=\"node\">\r\n",
       "<title>52</title>\r\n",
       "<ellipse fill=\"none\" stroke=\"black\" cx=\"130.17\" cy=\"-18\" rx=\"27\" ry=\"18\"/>\r\n",
       "<text text-anchor=\"middle\" x=\"130.17\" y=\"-14.3\" font-family=\"Times New Roman,serif\" font-size=\"14.00\">52</text>\r\n",
       "</g>\r\n",
       "<!-- 44&#45;&gt;52 -->\r\n",
       "<g id=\"edge1\" class=\"edge\">\r\n",
       "<title>44&#45;&gt;52</title>\r\n",
       "<path fill=\"none\" stroke=\"black\" d=\"M155.79,-186.21C172.69,-181.57 193.6,-172.69 204.17,-156 228.42,-117.7 228.42,-92.3 204.17,-54 195.58,-40.44 180.17,-32.03 165.63,-26.87\"/>\r\n",
       "<polygon fill=\"black\" stroke=\"black\" points=\"166.38,-23.44 155.79,-23.79 164.29,-30.12 166.38,-23.44\"/>\r\n",
       "<text text-anchor=\"middle\" x=\"241.67\" y=\"-101.3\" font-family=\"Times New Roman,serif\" font-size=\"14.00\">top_of</text>\r\n",
       "</g>\r\n",
       "<!-- 60&#45;&gt;44 -->\r\n",
       "<g id=\"edge5\" class=\"edge\">\r\n",
       "<title>60&#45;&gt;44</title>\r\n",
       "<path fill=\"none\" stroke=\"black\" d=\"M81.98,-121.95C88.18,-131.86 96.44,-144.8 104.17,-156 106.68,-159.64 109.41,-163.45 112.11,-167.16\"/>\r\n",
       "<polygon fill=\"black\" stroke=\"black\" points=\"109.52,-169.54 118.29,-175.49 115.15,-165.37 109.52,-169.54\"/>\r\n",
       "<text text-anchor=\"middle\" x=\"120.17\" y=\"-144.8\" font-family=\"Times New Roman,serif\" font-size=\"14.00\">under</text>\r\n",
       "</g>\r\n",
       "<!-- 60&#45;&gt;44 -->\r\n",
       "<g id=\"edge6\" class=\"edge\">\r\n",
       "<title>60&#45;&gt;44</title>\r\n",
       "<path fill=\"none\" stroke=\"black\" d=\"M96.99,-112.68C111.15,-117.9 127.71,-126.73 136.17,-141 140.26,-147.9 140.65,-156.28 139.46,-164.19\"/>\r\n",
       "<polygon fill=\"black\" stroke=\"black\" points=\"136,-163.63 137.17,-174.16 142.82,-165.2 136,-163.63\"/>\r\n",
       "<text text-anchor=\"middle\" x=\"169.67\" y=\"-144.8\" font-family=\"Times New Roman,serif\" font-size=\"14.00\">bottom_of</text>\r\n",
       "</g>\r\n",
       "<!-- 60&#45;&gt;52 -->\r\n",
       "<g id=\"edge2\" class=\"edge\">\r\n",
       "<title>60&#45;&gt;52</title>\r\n",
       "<path fill=\"none\" stroke=\"black\" d=\"M47.86,-97.14C22.81,-88.82 -10.64,-73.48 4.17,-54 15.02,-39.73 60.42,-29.75 93.63,-24.19\"/>\r\n",
       "<polygon fill=\"black\" stroke=\"black\" points=\"94.6,-27.58 103.92,-22.54 93.49,-20.67 94.6,-27.58\"/>\r\n",
       "<text text-anchor=\"middle\" x=\"11.67\" y=\"-57.8\" font-family=\"Times New Roman,serif\" font-size=\"14.00\">on</text>\r\n",
       "</g>\r\n",
       "<!-- 60&#45;&gt;52 -->\r\n",
       "<g id=\"edge3\" class=\"edge\">\r\n",
       "<title>60&#45;&gt;52</title>\r\n",
       "<path fill=\"none\" stroke=\"black\" d=\"M55.27,-90.59C44.5,-80.38 33.99,-66.06 42.17,-54 53.75,-36.93 75.11,-28.19 93.89,-23.71\"/>\r\n",
       "<polygon fill=\"black\" stroke=\"black\" points=\"94.61,-27.13 103.69,-21.68 93.19,-20.28 94.61,-27.13\"/>\r\n",
       "<text text-anchor=\"middle\" x=\"61.67\" y=\"-57.8\" font-family=\"Times New Roman,serif\" font-size=\"14.00\">top_of</text>\r\n",
       "</g>\r\n",
       "<!-- 52&#45;&gt;44 -->\r\n",
       "<g id=\"edge4\" class=\"edge\">\r\n",
       "<title>52&#45;&gt;44</title>\r\n",
       "<path fill=\"none\" stroke=\"black\" d=\"M156.35,-22.8C189.55,-29.25 244.92,-45.93 265.17,-87 272.25,-101.35 272.25,-108.65 265.17,-123 246.82,-160.22 199.62,-177.41 166.22,-185.1\"/>\r\n",
       "<polygon fill=\"black\" stroke=\"black\" points=\"165.4,-181.7 156.35,-187.2 166.86,-188.55 165.4,-181.7\"/>\r\n",
       "<text text-anchor=\"middle\" x=\"300.67\" y=\"-101.3\" font-family=\"Times New Roman,serif\" font-size=\"14.00\">bottom_of</text>\r\n",
       "</g>\r\n",
       "<!-- 52&#45;&gt;60 -->\r\n",
       "<g id=\"edge7\" class=\"edge\">\r\n",
       "<title>52&#45;&gt;60</title>\r\n",
       "<path fill=\"none\" stroke=\"black\" d=\"M118.29,-34.51C113.77,-40.53 108.64,-47.52 104.17,-54 98.55,-62.13 92.66,-71.19 87.47,-79.34\"/>\r\n",
       "<polygon fill=\"black\" stroke=\"black\" points=\"84.35,-77.73 81.98,-88.05 90.27,-81.46 84.35,-77.73\"/>\r\n",
       "<text text-anchor=\"middle\" x=\"120.17\" y=\"-57.8\" font-family=\"Times New Roman,serif\" font-size=\"14.00\">under</text>\r\n",
       "</g>\r\n",
       "<!-- 52&#45;&gt;60 -->\r\n",
       "<g id=\"edge8\" class=\"edge\">\r\n",
       "<title>52&#45;&gt;60</title>\r\n",
       "<path fill=\"none\" stroke=\"black\" d=\"M137.17,-35.84C140.28,-46.09 142.05,-59.07 136.17,-69 129.56,-80.15 118.01,-87.98 106.52,-93.36\"/>\r\n",
       "<polygon fill=\"black\" stroke=\"black\" points=\"104.88,-90.25 96.99,-97.32 107.57,-96.71 104.88,-90.25\"/>\r\n",
       "<text text-anchor=\"middle\" x=\"169.67\" y=\"-57.8\" font-family=\"Times New Roman,serif\" font-size=\"14.00\">bottom_of</text>\r\n",
       "</g>\r\n",
       "</g>\r\n",
       "</svg>\r\n"
      ],
      "text/plain": [
       "<graphviz.dot.Digraph at 0x2c86c00e088>"
      ]
     },
     "metadata": {},
     "output_type": "display_data"
    },
    {
     "name": "stderr",
     "output_type": "stream",
     "text": [
      "Clipping input data to the valid range for imshow with RGB data ([0..1] for floats or [0..255] for integers).\n"
     ]
    },
    {
     "name": "stdout",
     "output_type": "stream",
     "text": [
      "-------------------------------\n"
     ]
    },
    {
     "data": {
      "image/png": "[encoded data removed]",
      "text/plain": [
       "<Figure size 432x288 with 1 Axes>"
      ]
     },
     "metadata": {
      "needs_background": "light"
     },
     "output_type": "display_data"
    },
    {
     "data": {
      "image/svg+xml": [
       "<?xml version=\"1.0\" encoding=\"UTF-8\" standalone=\"no\"?>\r\n",
       "<!DOCTYPE svg PUBLIC \"-//W3C//DTD SVG 1.1//EN\"\r\n",
       " \"http://www.w3.org/Graphics/SVG/1.1/DTD/svg11.dtd\">\r\n",
       "<!-- Generated by graphviz version 2.46.1 (20210213.1702)\r\n",
       " -->\r\n",
       "<!-- Pages: 1 -->\r\n",
       "<svg width=\"339pt\" height=\"218pt\"\r\n",
       " viewBox=\"0.00 0.00 339.17 218.00\" xmlns=\"http://www.w3.org/2000/svg\" xmlns:xlink=\"http://www.w3.org/1999/xlink\">\r\n",
       "<g id=\"graph0\" class=\"graph\" transform=\"scale(1 1) rotate(0) translate(4 214)\">\r\n",
       "<polygon fill=\"white\" stroke=\"transparent\" points=\"-4,4 -4,-214 335.17,-214 335.17,4 -4,4\"/>\r\n",
       "<!-- 44 -->\r\n",
       "<g id=\"node1\" class=\"node\">\r\n",
       "<title>44</title>\r\n",
       "<ellipse fill=\"none\" stroke=\"black\" cx=\"130.17\" cy=\"-192\" rx=\"27\" ry=\"18\"/>\r\n",
       "<text text-anchor=\"middle\" x=\"130.17\" y=\"-188.3\" font-family=\"Times New Roman,serif\" font-size=\"14.00\">44</text>\r\n",
       "</g>\r\n",
       "<!-- 60 -->\r\n",
       "<g id=\"node2\" class=\"node\">\r\n",
       "<title>60</title>\r\n",
       "<ellipse fill=\"none\" stroke=\"black\" cx=\"72.17\" cy=\"-105\" rx=\"27\" ry=\"18\"/>\r\n",
       "<text text-anchor=\"middle\" x=\"72.17\" y=\"-101.3\" font-family=\"Times New Roman,serif\" font-size=\"14.00\">60</text>\r\n",
       "</g>\r\n",
       "<!-- 44&#45;&gt;60 -->\r\n",
       "<g id=\"edge9\" class=\"edge\">\r\n",
       "<title>44&#45;&gt;60</title>\r\n",
       "<path fill=\"none\" stroke=\"black\" d=\"M103.92,-187.46C70.66,-182.36 16.19,-171.82 4.17,-156 -8.79,-138.95 15.2,-125.08 38.18,-116.3\"/>\r\n",
       "<polygon fill=\"black\" stroke=\"black\" points=\"39.61,-119.51 47.86,-112.86 37.26,-112.92 39.61,-119.51\"/>\r\n",
       "<text text-anchor=\"middle\" x=\"11.67\" y=\"-144.8\" font-family=\"Times New Roman,serif\" font-size=\"14.00\">on</text>\r\n",
       "</g>\r\n",
       "<!-- 44&#45;&gt;60 -->\r\n",
       "<g id=\"edge10\" class=\"edge\">\r\n",
       "<title>44&#45;&gt;60</title>\r\n",
       "<path fill=\"none\" stroke=\"black\" d=\"M104.04,-186.98C85.82,-182.67 62.79,-173.85 51.17,-156 45.83,-147.8 48.29,-138.02 53.09,-129.29\"/>\r\n",
       "<polygon fill=\"black\" stroke=\"black\" points=\"56.17,-130.97 58.71,-120.69 50.31,-127.14 56.17,-130.97\"/>\r\n",
       "<text text-anchor=\"middle\" x=\"70.67\" y=\"-144.8\" font-family=\"Times New Roman,serif\" font-size=\"14.00\">top_of</text>\r\n",
       "</g>\r\n",
       "<!-- 52 -->\r\n",
       "<g id=\"node3\" class=\"node\">\r\n",
       "<title>52</title>\r\n",
       "<ellipse fill=\"none\" stroke=\"black\" cx=\"130.17\" cy=\"-18\" rx=\"27\" ry=\"18\"/>\r\n",
       "<text text-anchor=\"middle\" x=\"130.17\" y=\"-14.3\" font-family=\"Times New Roman,serif\" font-size=\"14.00\">52</text>\r\n",
       "</g>\r\n",
       "<!-- 44&#45;&gt;52 -->\r\n",
       "<g id=\"edge1\" class=\"edge\">\r\n",
       "<title>44&#45;&gt;52</title>\r\n",
       "<path fill=\"none\" stroke=\"black\" d=\"M155.79,-186.21C172.69,-181.57 193.6,-172.69 204.17,-156 228.42,-117.7 228.42,-92.3 204.17,-54 195.58,-40.44 180.17,-32.03 165.63,-26.87\"/>\r\n",
       "<polygon fill=\"black\" stroke=\"black\" points=\"166.38,-23.44 155.79,-23.79 164.29,-30.12 166.38,-23.44\"/>\r\n",
       "<text text-anchor=\"middle\" x=\"241.67\" y=\"-101.3\" font-family=\"Times New Roman,serif\" font-size=\"14.00\">top_of</text>\r\n",
       "</g>\r\n",
       "<!-- 60&#45;&gt;44 -->\r\n",
       "<g id=\"edge5\" class=\"edge\">\r\n",
       "<title>60&#45;&gt;44</title>\r\n",
       "<path fill=\"none\" stroke=\"black\" d=\"M81.98,-121.95C88.18,-131.86 96.44,-144.8 104.17,-156 106.68,-159.64 109.41,-163.45 112.11,-167.16\"/>\r\n",
       "<polygon fill=\"black\" stroke=\"black\" points=\"109.52,-169.54 118.29,-175.49 115.15,-165.37 109.52,-169.54\"/>\r\n",
       "<text text-anchor=\"middle\" x=\"120.17\" y=\"-144.8\" font-family=\"Times New Roman,serif\" font-size=\"14.00\">under</text>\r\n",
       "</g>\r\n",
       "<!-- 60&#45;&gt;44 -->\r\n",
       "<g id=\"edge6\" class=\"edge\">\r\n",
       "<title>60&#45;&gt;44</title>\r\n",
       "<path fill=\"none\" stroke=\"black\" d=\"M96.99,-112.68C111.15,-117.9 127.71,-126.73 136.17,-141 140.26,-147.9 140.65,-156.28 139.46,-164.19\"/>\r\n",
       "<polygon fill=\"black\" stroke=\"black\" points=\"136,-163.63 137.17,-174.16 142.82,-165.2 136,-163.63\"/>\r\n",
       "<text text-anchor=\"middle\" x=\"169.67\" y=\"-144.8\" font-family=\"Times New Roman,serif\" font-size=\"14.00\">bottom_of</text>\r\n",
       "</g>\r\n",
       "<!-- 60&#45;&gt;52 -->\r\n",
       "<g id=\"edge2\" class=\"edge\">\r\n",
       "<title>60&#45;&gt;52</title>\r\n",
       "<path fill=\"none\" stroke=\"black\" d=\"M47.86,-97.14C22.81,-88.82 -10.64,-73.48 4.17,-54 15.02,-39.73 60.42,-29.75 93.63,-24.19\"/>\r\n",
       "<polygon fill=\"black\" stroke=\"black\" points=\"94.6,-27.58 103.92,-22.54 93.49,-20.67 94.6,-27.58\"/>\r\n",
       "<text text-anchor=\"middle\" x=\"11.67\" y=\"-57.8\" font-family=\"Times New Roman,serif\" font-size=\"14.00\">on</text>\r\n",
       "</g>\r\n",
       "<!-- 60&#45;&gt;52 -->\r\n",
       "<g id=\"edge3\" class=\"edge\">\r\n",
       "<title>60&#45;&gt;52</title>\r\n",
       "<path fill=\"none\" stroke=\"black\" d=\"M55.27,-90.59C44.5,-80.38 33.99,-66.06 42.17,-54 53.75,-36.93 75.11,-28.19 93.89,-23.71\"/>\r\n",
       "<polygon fill=\"black\" stroke=\"black\" points=\"94.61,-27.13 103.69,-21.68 93.19,-20.28 94.61,-27.13\"/>\r\n",
       "<text text-anchor=\"middle\" x=\"61.67\" y=\"-57.8\" font-family=\"Times New Roman,serif\" font-size=\"14.00\">top_of</text>\r\n",
       "</g>\r\n",
       "<!-- 52&#45;&gt;44 -->\r\n",
       "<g id=\"edge4\" class=\"edge\">\r\n",
       "<title>52&#45;&gt;44</title>\r\n",
       "<path fill=\"none\" stroke=\"black\" d=\"M156.35,-22.8C189.55,-29.25 244.92,-45.93 265.17,-87 272.25,-101.35 272.25,-108.65 265.17,-123 246.82,-160.22 199.62,-177.41 166.22,-185.1\"/>\r\n",
       "<polygon fill=\"black\" stroke=\"black\" points=\"165.4,-181.7 156.35,-187.2 166.86,-188.55 165.4,-181.7\"/>\r\n",
       "<text text-anchor=\"middle\" x=\"300.67\" y=\"-101.3\" font-family=\"Times New Roman,serif\" font-size=\"14.00\">bottom_of</text>\r\n",
       "</g>\r\n",
       "<!-- 52&#45;&gt;60 -->\r\n",
       "<g id=\"edge7\" class=\"edge\">\r\n",
       "<title>52&#45;&gt;60</title>\r\n",
       "<path fill=\"none\" stroke=\"black\" d=\"M118.29,-34.51C113.77,-40.53 108.64,-47.52 104.17,-54 98.55,-62.13 92.66,-71.19 87.47,-79.34\"/>\r\n",
       "<polygon fill=\"black\" stroke=\"black\" points=\"84.35,-77.73 81.98,-88.05 90.27,-81.46 84.35,-77.73\"/>\r\n",
       "<text text-anchor=\"middle\" x=\"120.17\" y=\"-57.8\" font-family=\"Times New Roman,serif\" font-size=\"14.00\">under</text>\r\n",
       "</g>\r\n",
       "<!-- 52&#45;&gt;60 -->\r\n",
       "<g id=\"edge8\" class=\"edge\">\r\n",
       "<title>52&#45;&gt;60</title>\r\n",
       "<path fill=\"none\" stroke=\"black\" d=\"M137.17,-35.84C140.28,-46.09 142.05,-59.07 136.17,-69 129.56,-80.15 118.01,-87.98 106.52,-93.36\"/>\r\n",
       "<polygon fill=\"black\" stroke=\"black\" points=\"104.88,-90.25 96.99,-97.32 107.57,-96.71 104.88,-90.25\"/>\r\n",
       "<text text-anchor=\"middle\" x=\"169.67\" y=\"-57.8\" font-family=\"Times New Roman,serif\" font-size=\"14.00\">bottom_of</text>\r\n",
       "</g>\r\n",
       "</g>\r\n",
       "</svg>\r\n"
      ],
      "text/plain": [
       "<graphviz.dot.Digraph at 0x2c86c0a5948>"
      ]
     },
     "metadata": {},
     "output_type": "display_data"
    },
    {
     "name": "stderr",
     "output_type": "stream",
     "text": [
      "Clipping input data to the valid range for imshow with RGB data ([0..1] for floats or [0..255] for integers).\n"
     ]
    },
    {
     "name": "stdout",
     "output_type": "stream",
     "text": [
      "-------------------------------\n"
     ]
    },
    {
     "data": {
      "image/png": "[encoded data removed]",
      "text/plain": [
       "<Figure size 432x288 with 1 Axes>"
      ]
     },
     "metadata": {
      "needs_background": "light"
     },
     "output_type": "display_data"
    },
    {
     "data": {
      "image/svg+xml": [
       "<?xml version=\"1.0\" encoding=\"UTF-8\" standalone=\"no\"?>\r\n",
       "<!DOCTYPE svg PUBLIC \"-//W3C//DTD SVG 1.1//EN\"\r\n",
       " \"http://www.w3.org/Graphics/SVG/1.1/DTD/svg11.dtd\">\r\n",
       "<!-- Generated by graphviz version 2.46.1 (20210213.1702)\r\n",
       " -->\r\n",
       "<!-- Pages: 1 -->\r\n",
       "<svg width=\"443pt\" height=\"218pt\"\r\n",
       " viewBox=\"0.00 0.00 443.13 218.00\" xmlns=\"http://www.w3.org/2000/svg\" xmlns:xlink=\"http://www.w3.org/1999/xlink\">\r\n",
       "<g id=\"graph0\" class=\"graph\" transform=\"scale(1 1) rotate(0) translate(4 214)\">\r\n",
       "<polygon fill=\"white\" stroke=\"transparent\" points=\"-4,4 -4,-214 439.13,-214 439.13,4 -4,4\"/>\r\n",
       "<!-- 44 -->\r\n",
       "<g id=\"node1\" class=\"node\">\r\n",
       "<title>44</title>\r\n",
       "<ellipse fill=\"none\" stroke=\"black\" cx=\"269.13\" cy=\"-192\" rx=\"27\" ry=\"18\"/>\r\n",
       "<text text-anchor=\"middle\" x=\"269.13\" y=\"-188.3\" font-family=\"Times New Roman,serif\" font-size=\"14.00\">44</text>\r\n",
       "</g>\r\n",
       "<!-- 60 -->\r\n",
       "<g id=\"node2\" class=\"node\">\r\n",
       "<title>60</title>\r\n",
       "<ellipse fill=\"none\" stroke=\"black\" cx=\"101.13\" cy=\"-105\" rx=\"27\" ry=\"18\"/>\r\n",
       "<text text-anchor=\"middle\" x=\"101.13\" y=\"-101.3\" font-family=\"Times New Roman,serif\" font-size=\"14.00\">60</text>\r\n",
       "</g>\r\n",
       "<!-- 44&#45;&gt;60 -->\r\n",
       "<g id=\"edge4\" class=\"edge\">\r\n",
       "<title>44&#45;&gt;60</title>\r\n",
       "<path fill=\"none\" stroke=\"black\" d=\"M242.2,-189.65C197.86,-186.8 112.55,-178.46 94.13,-156 88.76,-149.45 88.44,-140.71 90.13,-132.38\"/>\r\n",
       "<polygon fill=\"black\" stroke=\"black\" points=\"93.55,-133.16 92.98,-122.58 86.83,-131.21 93.55,-133.16\"/>\r\n",
       "<text text-anchor=\"middle\" x=\"124.63\" y=\"-144.8\" font-family=\"Times New Roman,serif\" font-size=\"14.00\">bottom_of</text>\r\n",
       "</g>\r\n",
       "<!-- 52 -->\r\n",
       "<g id=\"node3\" class=\"node\">\r\n",
       "<title>52</title>\r\n",
       "<ellipse fill=\"none\" stroke=\"black\" cx=\"197.13\" cy=\"-18\" rx=\"27\" ry=\"18\"/>\r\n",
       "<text text-anchor=\"middle\" x=\"197.13\" y=\"-14.3\" font-family=\"Times New Roman,serif\" font-size=\"14.00\">52</text>\r\n",
       "</g>\r\n",
       "<!-- 44&#45;&gt;52 -->\r\n",
       "<g id=\"edge7\" class=\"edge\">\r\n",
       "<title>44&#45;&gt;52</title>\r\n",
       "<path fill=\"none\" stroke=\"black\" d=\"M264.23,-174.08C256.31,-147.74 239.52,-95.61 219.13,-54 217.37,-50.4 215.33,-46.71 213.22,-43.14\"/>\r\n",
       "<polygon fill=\"black\" stroke=\"black\" points=\"216.18,-41.28 207.94,-34.62 210.23,-44.97 216.18,-41.28\"/>\r\n",
       "<text text-anchor=\"middle\" x=\"262.13\" y=\"-101.3\" font-family=\"Times New Roman,serif\" font-size=\"14.00\">under</text>\r\n",
       "</g>\r\n",
       "<!-- 44&#45;&gt;52 -->\r\n",
       "<g id=\"edge8\" class=\"edge\">\r\n",
       "<title>44&#45;&gt;52</title>\r\n",
       "<path fill=\"none\" stroke=\"black\" d=\"M276.23,-174.61C284.31,-153.33 294.75,-115.54 281.13,-87 270.04,-63.76 246.7,-45.89 227.42,-34.31\"/>\r\n",
       "<polygon fill=\"black\" stroke=\"black\" points=\"229.06,-31.22 218.64,-29.29 225.58,-37.29 229.06,-31.22\"/>\r\n",
       "<text text-anchor=\"middle\" x=\"317.63\" y=\"-101.3\" font-family=\"Times New Roman,serif\" font-size=\"14.00\">bottom_of</text>\r\n",
       "</g>\r\n",
       "<!-- 60&#45;&gt;44 -->\r\n",
       "<g id=\"edge1\" class=\"edge\">\r\n",
       "<title>60&#45;&gt;44</title>\r\n",
       "<path fill=\"none\" stroke=\"black\" d=\"M120.57,-117.5C131.88,-124.25 146.38,-133 159.13,-141 169.47,-147.49 171.31,-150.36 182.13,-156 199.35,-164.97 219.41,-173.18 235.92,-179.39\"/>\r\n",
       "<polygon fill=\"black\" stroke=\"black\" points=\"235.09,-182.81 245.68,-182.98 237.51,-176.24 235.09,-182.81\"/>\r\n",
       "<text text-anchor=\"middle\" x=\"201.63\" y=\"-144.8\" font-family=\"Times New Roman,serif\" font-size=\"14.00\">top_of</text>\r\n",
       "</g>\r\n",
       "<!-- 60&#45;&gt;52 -->\r\n",
       "<g id=\"edge9\" class=\"edge\">\r\n",
       "<title>60&#45;&gt;52</title>\r\n",
       "<path fill=\"none\" stroke=\"black\" d=\"M75.04,-100.26C39.73,-94.14 -16.54,-79.97 5.13,-54 24.43,-30.86 109.58,-22.98 159.77,-20.33\"/>\r\n",
       "<polygon fill=\"black\" stroke=\"black\" points=\"160.1,-23.81 169.92,-19.83 159.76,-16.82 160.1,-23.81\"/>\r\n",
       "<text text-anchor=\"middle\" x=\"12.63\" y=\"-57.8\" font-family=\"Times New Roman,serif\" font-size=\"14.00\">on</text>\r\n",
       "</g>\r\n",
       "<!-- 60&#45;&gt;52 -->\r\n",
       "<g id=\"edge10\" class=\"edge\">\r\n",
       "<title>60&#45;&gt;52</title>\r\n",
       "<path fill=\"none\" stroke=\"black\" d=\"M80.12,-93.26C63.59,-83.38 45.05,-68.17 56.13,-54 68.88,-37.7 123.21,-27.92 160.58,-22.99\"/>\r\n",
       "<polygon fill=\"black\" stroke=\"black\" points=\"161.13,-26.45 170.62,-21.73 160.26,-19.51 161.13,-26.45\"/>\r\n",
       "<text text-anchor=\"middle\" x=\"75.63\" y=\"-57.8\" font-family=\"Times New Roman,serif\" font-size=\"14.00\">top_of</text>\r\n",
       "</g>\r\n",
       "<!-- 52&#45;&gt;44 -->\r\n",
       "<g id=\"edge2\" class=\"edge\">\r\n",
       "<title>52&#45;&gt;44</title>\r\n",
       "<path fill=\"none\" stroke=\"black\" d=\"M224.1,-19.91C264.82,-22.96 340.19,-35.64 368.13,-87 375.78,-101.05 375.58,-108.84 368.13,-123 354.22,-149.43 324.87,-167.58 301.73,-178.43\"/>\r\n",
       "<polygon fill=\"black\" stroke=\"black\" points=\"300.28,-175.24 292.57,-182.51 303.13,-181.64 300.28,-175.24\"/>\r\n",
       "<text text-anchor=\"middle\" x=\"380.63\" y=\"-101.3\" font-family=\"Times New Roman,serif\" font-size=\"14.00\">on</text>\r\n",
       "</g>\r\n",
       "<!-- 52&#45;&gt;44 -->\r\n",
       "<g id=\"edge3\" class=\"edge\">\r\n",
       "<title>52&#45;&gt;44</title>\r\n",
       "<path fill=\"none\" stroke=\"black\" d=\"M224.2,-20.04C257.98,-22.36 316.59,-29.86 360.13,-54 378,-63.9 384.46,-68.07 392.13,-87 404.76,-118.16 389.07,-137.29 361.13,-156 343.64,-167.71 321.68,-176.26 303.6,-181.97\"/>\r\n",
       "<polygon fill=\"black\" stroke=\"black\" points=\"302.58,-178.62 294.01,-184.86 304.59,-185.33 302.58,-178.62\"/>\r\n",
       "<text text-anchor=\"middle\" x=\"415.63\" y=\"-101.3\" font-family=\"Times New Roman,serif\" font-size=\"14.00\">top_of</text>\r\n",
       "</g>\r\n",
       "<!-- 52&#45;&gt;60 -->\r\n",
       "<g id=\"edge5\" class=\"edge\">\r\n",
       "<title>52&#45;&gt;60</title>\r\n",
       "<path fill=\"none\" stroke=\"black\" d=\"M170.36,-21.56C149.07,-25.12 120.41,-33.63 105.13,-54 100.34,-60.39 98.46,-68.63 98.04,-76.57\"/>\r\n",
       "<polygon fill=\"black\" stroke=\"black\" points=\"94.54,-76.7 98.18,-86.64 101.54,-76.59 94.54,-76.7\"/>\r\n",
       "<text text-anchor=\"middle\" x=\"121.13\" y=\"-57.8\" font-family=\"Times New Roman,serif\" font-size=\"14.00\">under</text>\r\n",
       "</g>\r\n",
       "<!-- 52&#45;&gt;60 -->\r\n",
       "<g id=\"edge6\" class=\"edge\">\r\n",
       "<title>52&#45;&gt;60</title>\r\n",
       "<path fill=\"none\" stroke=\"black\" d=\"M181.57,-32.77C166.16,-46.42 142.36,-67.49 124.65,-83.18\"/>\r\n",
       "<polygon fill=\"black\" stroke=\"black\" points=\"122.15,-80.71 116.98,-89.96 126.79,-85.96 122.15,-80.71\"/>\r\n",
       "<text text-anchor=\"middle\" x=\"184.63\" y=\"-57.8\" font-family=\"Times New Roman,serif\" font-size=\"14.00\">bottom_of</text>\r\n",
       "</g>\r\n",
       "</g>\r\n",
       "</svg>\r\n"
      ],
      "text/plain": [
       "<graphviz.dot.Digraph at 0x2c86c0ab448>"
      ]
     },
     "metadata": {},
     "output_type": "display_data"
    },
    {
     "name": "stderr",
     "output_type": "stream",
     "text": [
      "Clipping input data to the valid range for imshow with RGB data ([0..1] for floats or [0..255] for integers).\n"
     ]
    },
    {
     "name": "stdout",
     "output_type": "stream",
     "text": [
      "-------------------------------\n"
     ]
    },
    {
     "data": {
      "image/png": "[encoded data removed]",
      "text/plain": [
       "<Figure size 432x288 with 1 Axes>"
      ]
     },
     "metadata": {
      "needs_background": "light"
     },
     "output_type": "display_data"
    },
    {
     "data": {
      "image/svg+xml": [
       "<?xml version=\"1.0\" encoding=\"UTF-8\" standalone=\"no\"?>\r\n",
       "<!DOCTYPE svg PUBLIC \"-//W3C//DTD SVG 1.1//EN\"\r\n",
       " \"http://www.w3.org/Graphics/SVG/1.1/DTD/svg11.dtd\">\r\n",
       "<!-- Generated by graphviz version 2.46.1 (20210213.1702)\r\n",
       " -->\r\n",
       "<!-- Pages: 1 -->\r\n",
       "<svg width=\"339pt\" height=\"218pt\"\r\n",
       " viewBox=\"0.00 0.00 339.17 218.00\" xmlns=\"http://www.w3.org/2000/svg\" xmlns:xlink=\"http://www.w3.org/1999/xlink\">\r\n",
       "<g id=\"graph0\" class=\"graph\" transform=\"scale(1 1) rotate(0) translate(4 214)\">\r\n",
       "<polygon fill=\"white\" stroke=\"transparent\" points=\"-4,4 -4,-214 335.17,-214 335.17,4 -4,4\"/>\r\n",
       "<!-- 44 -->\r\n",
       "<g id=\"node1\" class=\"node\">\r\n",
       "<title>44</title>\r\n",
       "<ellipse fill=\"none\" stroke=\"black\" cx=\"130.17\" cy=\"-192\" rx=\"27\" ry=\"18\"/>\r\n",
       "<text text-anchor=\"middle\" x=\"130.17\" y=\"-188.3\" font-family=\"Times New Roman,serif\" font-size=\"14.00\">44</text>\r\n",
       "</g>\r\n",
       "<!-- 60 -->\r\n",
       "<g id=\"node2\" class=\"node\">\r\n",
       "<title>60</title>\r\n",
       "<ellipse fill=\"none\" stroke=\"black\" cx=\"72.17\" cy=\"-105\" rx=\"27\" ry=\"18\"/>\r\n",
       "<text text-anchor=\"middle\" x=\"72.17\" y=\"-101.3\" font-family=\"Times New Roman,serif\" font-size=\"14.00\">60</text>\r\n",
       "</g>\r\n",
       "<!-- 44&#45;&gt;60 -->\r\n",
       "<g id=\"edge9\" class=\"edge\">\r\n",
       "<title>44&#45;&gt;60</title>\r\n",
       "<path fill=\"none\" stroke=\"black\" d=\"M103.92,-187.46C70.66,-182.36 16.19,-171.82 4.17,-156 -8.79,-138.95 15.2,-125.08 38.18,-116.3\"/>\r\n",
       "<polygon fill=\"black\" stroke=\"black\" points=\"39.61,-119.51 47.86,-112.86 37.26,-112.92 39.61,-119.51\"/>\r\n",
       "<text text-anchor=\"middle\" x=\"11.67\" y=\"-144.8\" font-family=\"Times New Roman,serif\" font-size=\"14.00\">on</text>\r\n",
       "</g>\r\n",
       "<!-- 44&#45;&gt;60 -->\r\n",
       "<g id=\"edge10\" class=\"edge\">\r\n",
       "<title>44&#45;&gt;60</title>\r\n",
       "<path fill=\"none\" stroke=\"black\" d=\"M104.04,-186.98C85.82,-182.67 62.79,-173.85 51.17,-156 45.83,-147.8 48.29,-138.02 53.09,-129.29\"/>\r\n",
       "<polygon fill=\"black\" stroke=\"black\" points=\"56.17,-130.97 58.71,-120.69 50.31,-127.14 56.17,-130.97\"/>\r\n",
       "<text text-anchor=\"middle\" x=\"70.67\" y=\"-144.8\" font-family=\"Times New Roman,serif\" font-size=\"14.00\">top_of</text>\r\n",
       "</g>\r\n",
       "<!-- 52 -->\r\n",
       "<g id=\"node3\" class=\"node\">\r\n",
       "<title>52</title>\r\n",
       "<ellipse fill=\"none\" stroke=\"black\" cx=\"130.17\" cy=\"-18\" rx=\"27\" ry=\"18\"/>\r\n",
       "<text text-anchor=\"middle\" x=\"130.17\" y=\"-14.3\" font-family=\"Times New Roman,serif\" font-size=\"14.00\">52</text>\r\n",
       "</g>\r\n",
       "<!-- 44&#45;&gt;52 -->\r\n",
       "<g id=\"edge1\" class=\"edge\">\r\n",
       "<title>44&#45;&gt;52</title>\r\n",
       "<path fill=\"none\" stroke=\"black\" d=\"M155.79,-186.21C172.69,-181.57 193.6,-172.69 204.17,-156 228.42,-117.7 228.42,-92.3 204.17,-54 195.58,-40.44 180.17,-32.03 165.63,-26.87\"/>\r\n",
       "<polygon fill=\"black\" stroke=\"black\" points=\"166.38,-23.44 155.79,-23.79 164.29,-30.12 166.38,-23.44\"/>\r\n",
       "<text text-anchor=\"middle\" x=\"241.67\" y=\"-101.3\" font-family=\"Times New Roman,serif\" font-size=\"14.00\">top_of</text>\r\n",
       "</g>\r\n",
       "<!-- 60&#45;&gt;44 -->\r\n",
       "<g id=\"edge5\" class=\"edge\">\r\n",
       "<title>60&#45;&gt;44</title>\r\n",
       "<path fill=\"none\" stroke=\"black\" d=\"M81.98,-121.95C88.18,-131.86 96.44,-144.8 104.17,-156 106.68,-159.64 109.41,-163.45 112.11,-167.16\"/>\r\n",
       "<polygon fill=\"black\" stroke=\"black\" points=\"109.52,-169.54 118.29,-175.49 115.15,-165.37 109.52,-169.54\"/>\r\n",
       "<text text-anchor=\"middle\" x=\"120.17\" y=\"-144.8\" font-family=\"Times New Roman,serif\" font-size=\"14.00\">under</text>\r\n",
       "</g>\r\n",
       "<!-- 60&#45;&gt;44 -->\r\n",
       "<g id=\"edge6\" class=\"edge\">\r\n",
       "<title>60&#45;&gt;44</title>\r\n",
       "<path fill=\"none\" stroke=\"black\" d=\"M96.99,-112.68C111.15,-117.9 127.71,-126.73 136.17,-141 140.26,-147.9 140.65,-156.28 139.46,-164.19\"/>\r\n",
       "<polygon fill=\"black\" stroke=\"black\" points=\"136,-163.63 137.17,-174.16 142.82,-165.2 136,-163.63\"/>\r\n",
       "<text text-anchor=\"middle\" x=\"169.67\" y=\"-144.8\" font-family=\"Times New Roman,serif\" font-size=\"14.00\">bottom_of</text>\r\n",
       "</g>\r\n",
       "<!-- 60&#45;&gt;52 -->\r\n",
       "<g id=\"edge2\" class=\"edge\">\r\n",
       "<title>60&#45;&gt;52</title>\r\n",
       "<path fill=\"none\" stroke=\"black\" d=\"M47.86,-97.14C22.81,-88.82 -10.64,-73.48 4.17,-54 15.02,-39.73 60.42,-29.75 93.63,-24.19\"/>\r\n",
       "<polygon fill=\"black\" stroke=\"black\" points=\"94.6,-27.58 103.92,-22.54 93.49,-20.67 94.6,-27.58\"/>\r\n",
       "<text text-anchor=\"middle\" x=\"11.67\" y=\"-57.8\" font-family=\"Times New Roman,serif\" font-size=\"14.00\">on</text>\r\n",
       "</g>\r\n",
       "<!-- 60&#45;&gt;52 -->\r\n",
       "<g id=\"edge3\" class=\"edge\">\r\n",
       "<title>60&#45;&gt;52</title>\r\n",
       "<path fill=\"none\" stroke=\"black\" d=\"M55.27,-90.59C44.5,-80.38 33.99,-66.06 42.17,-54 53.75,-36.93 75.11,-28.19 93.89,-23.71\"/>\r\n",
       "<polygon fill=\"black\" stroke=\"black\" points=\"94.61,-27.13 103.69,-21.68 93.19,-20.28 94.61,-27.13\"/>\r\n",
       "<text text-anchor=\"middle\" x=\"61.67\" y=\"-57.8\" font-family=\"Times New Roman,serif\" font-size=\"14.00\">top_of</text>\r\n",
       "</g>\r\n",
       "<!-- 52&#45;&gt;44 -->\r\n",
       "<g id=\"edge4\" class=\"edge\">\r\n",
       "<title>52&#45;&gt;44</title>\r\n",
       "<path fill=\"none\" stroke=\"black\" d=\"M156.35,-22.8C189.55,-29.25 244.92,-45.93 265.17,-87 272.25,-101.35 272.25,-108.65 265.17,-123 246.82,-160.22 199.62,-177.41 166.22,-185.1\"/>\r\n",
       "<polygon fill=\"black\" stroke=\"black\" points=\"165.4,-181.7 156.35,-187.2 166.86,-188.55 165.4,-181.7\"/>\r\n",
       "<text text-anchor=\"middle\" x=\"300.67\" y=\"-101.3\" font-family=\"Times New Roman,serif\" font-size=\"14.00\">bottom_of</text>\r\n",
       "</g>\r\n",
       "<!-- 52&#45;&gt;60 -->\r\n",
       "<g id=\"edge7\" class=\"edge\">\r\n",
       "<title>52&#45;&gt;60</title>\r\n",
       "<path fill=\"none\" stroke=\"black\" d=\"M118.29,-34.51C113.77,-40.53 108.64,-47.52 104.17,-54 98.55,-62.13 92.66,-71.19 87.47,-79.34\"/>\r\n",
       "<polygon fill=\"black\" stroke=\"black\" points=\"84.35,-77.73 81.98,-88.05 90.27,-81.46 84.35,-77.73\"/>\r\n",
       "<text text-anchor=\"middle\" x=\"120.17\" y=\"-57.8\" font-family=\"Times New Roman,serif\" font-size=\"14.00\">under</text>\r\n",
       "</g>\r\n",
       "<!-- 52&#45;&gt;60 -->\r\n",
       "<g id=\"edge8\" class=\"edge\">\r\n",
       "<title>52&#45;&gt;60</title>\r\n",
       "<path fill=\"none\" stroke=\"black\" d=\"M137.17,-35.84C140.28,-46.09 142.05,-59.07 136.17,-69 129.56,-80.15 118.01,-87.98 106.52,-93.36\"/>\r\n",
       "<polygon fill=\"black\" stroke=\"black\" points=\"104.88,-90.25 96.99,-97.32 107.57,-96.71 104.88,-90.25\"/>\r\n",
       "<text text-anchor=\"middle\" x=\"169.67\" y=\"-57.8\" font-family=\"Times New Roman,serif\" font-size=\"14.00\">bottom_of</text>\r\n",
       "</g>\r\n",
       "</g>\r\n",
       "</svg>\r\n"
      ],
      "text/plain": [
       "<graphviz.dot.Digraph at 0x2c86c064a08>"
      ]
     },
     "metadata": {},
     "output_type": "display_data"
    },
    {
     "name": "stderr",
     "output_type": "stream",
     "text": [
      "Clipping input data to the valid range for imshow with RGB data ([0..1] for floats or [0..255] for integers).\n"
     ]
    },
    {
     "name": "stdout",
     "output_type": "stream",
     "text": [
      "-------------------------------\n"
     ]
    },
    {
     "data": {
      "image/png": "[encoded data removed]",
      "text/plain": [
       "<Figure size 432x288 with 1 Axes>"
      ]
     },
     "metadata": {
      "needs_background": "light"
     },
     "output_type": "display_data"
    },
    {
     "data": {
      "image/svg+xml": [
       "<?xml version=\"1.0\" encoding=\"UTF-8\" standalone=\"no\"?>\r\n",
       "<!DOCTYPE svg PUBLIC \"-//W3C//DTD SVG 1.1//EN\"\r\n",
       " \"http://www.w3.org/Graphics/SVG/1.1/DTD/svg11.dtd\">\r\n",
       "<!-- Generated by graphviz version 2.46.1 (20210213.1702)\r\n",
       " -->\r\n",
       "<!-- Pages: 1 -->\r\n",
       "<svg width=\"339pt\" height=\"218pt\"\r\n",
       " viewBox=\"0.00 0.00 339.17 218.00\" xmlns=\"http://www.w3.org/2000/svg\" xmlns:xlink=\"http://www.w3.org/1999/xlink\">\r\n",
       "<g id=\"graph0\" class=\"graph\" transform=\"scale(1 1) rotate(0) translate(4 214)\">\r\n",
       "<polygon fill=\"white\" stroke=\"transparent\" points=\"-4,4 -4,-214 335.17,-214 335.17,4 -4,4\"/>\r\n",
       "<!-- 44 -->\r\n",
       "<g id=\"node1\" class=\"node\">\r\n",
       "<title>44</title>\r\n",
       "<ellipse fill=\"none\" stroke=\"black\" cx=\"130.17\" cy=\"-192\" rx=\"27\" ry=\"18\"/>\r\n",
       "<text text-anchor=\"middle\" x=\"130.17\" y=\"-188.3\" font-family=\"Times New Roman,serif\" font-size=\"14.00\">44</text>\r\n",
       "</g>\r\n",
       "<!-- 60 -->\r\n",
       "<g id=\"node2\" class=\"node\">\r\n",
       "<title>60</title>\r\n",
       "<ellipse fill=\"none\" stroke=\"black\" cx=\"72.17\" cy=\"-105\" rx=\"27\" ry=\"18\"/>\r\n",
       "<text text-anchor=\"middle\" x=\"72.17\" y=\"-101.3\" font-family=\"Times New Roman,serif\" font-size=\"14.00\">60</text>\r\n",
       "</g>\r\n",
       "<!-- 44&#45;&gt;60 -->\r\n",
       "<g id=\"edge9\" class=\"edge\">\r\n",
       "<title>44&#45;&gt;60</title>\r\n",
       "<path fill=\"none\" stroke=\"black\" d=\"M103.92,-187.46C70.66,-182.36 16.19,-171.82 4.17,-156 -8.79,-138.95 15.2,-125.08 38.18,-116.3\"/>\r\n",
       "<polygon fill=\"black\" stroke=\"black\" points=\"39.61,-119.51 47.86,-112.86 37.26,-112.92 39.61,-119.51\"/>\r\n",
       "<text text-anchor=\"middle\" x=\"11.67\" y=\"-144.8\" font-family=\"Times New Roman,serif\" font-size=\"14.00\">on</text>\r\n",
       "</g>\r\n",
       "<!-- 44&#45;&gt;60 -->\r\n",
       "<g id=\"edge10\" class=\"edge\">\r\n",
       "<title>44&#45;&gt;60</title>\r\n",
       "<path fill=\"none\" stroke=\"black\" d=\"M104.04,-186.98C85.82,-182.67 62.79,-173.85 51.17,-156 45.83,-147.8 48.29,-138.02 53.09,-129.29\"/>\r\n",
       "<polygon fill=\"black\" stroke=\"black\" points=\"56.17,-130.97 58.71,-120.69 50.31,-127.14 56.17,-130.97\"/>\r\n",
       "<text text-anchor=\"middle\" x=\"70.67\" y=\"-144.8\" font-family=\"Times New Roman,serif\" font-size=\"14.00\">top_of</text>\r\n",
       "</g>\r\n",
       "<!-- 52 -->\r\n",
       "<g id=\"node3\" class=\"node\">\r\n",
       "<title>52</title>\r\n",
       "<ellipse fill=\"none\" stroke=\"black\" cx=\"130.17\" cy=\"-18\" rx=\"27\" ry=\"18\"/>\r\n",
       "<text text-anchor=\"middle\" x=\"130.17\" y=\"-14.3\" font-family=\"Times New Roman,serif\" font-size=\"14.00\">52</text>\r\n",
       "</g>\r\n",
       "<!-- 44&#45;&gt;52 -->\r\n",
       "<g id=\"edge1\" class=\"edge\">\r\n",
       "<title>44&#45;&gt;52</title>\r\n",
       "<path fill=\"none\" stroke=\"black\" d=\"M155.79,-186.21C172.69,-181.57 193.6,-172.69 204.17,-156 228.42,-117.7 228.42,-92.3 204.17,-54 195.58,-40.44 180.17,-32.03 165.63,-26.87\"/>\r\n",
       "<polygon fill=\"black\" stroke=\"black\" points=\"166.38,-23.44 155.79,-23.79 164.29,-30.12 166.38,-23.44\"/>\r\n",
       "<text text-anchor=\"middle\" x=\"241.67\" y=\"-101.3\" font-family=\"Times New Roman,serif\" font-size=\"14.00\">top_of</text>\r\n",
       "</g>\r\n",
       "<!-- 60&#45;&gt;44 -->\r\n",
       "<g id=\"edge5\" class=\"edge\">\r\n",
       "<title>60&#45;&gt;44</title>\r\n",
       "<path fill=\"none\" stroke=\"black\" d=\"M81.98,-121.95C88.18,-131.86 96.44,-144.8 104.17,-156 106.68,-159.64 109.41,-163.45 112.11,-167.16\"/>\r\n",
       "<polygon fill=\"black\" stroke=\"black\" points=\"109.52,-169.54 118.29,-175.49 115.15,-165.37 109.52,-169.54\"/>\r\n",
       "<text text-anchor=\"middle\" x=\"120.17\" y=\"-144.8\" font-family=\"Times New Roman,serif\" font-size=\"14.00\">under</text>\r\n",
       "</g>\r\n",
       "<!-- 60&#45;&gt;44 -->\r\n",
       "<g id=\"edge6\" class=\"edge\">\r\n",
       "<title>60&#45;&gt;44</title>\r\n",
       "<path fill=\"none\" stroke=\"black\" d=\"M96.99,-112.68C111.15,-117.9 127.71,-126.73 136.17,-141 140.26,-147.9 140.65,-156.28 139.46,-164.19\"/>\r\n",
       "<polygon fill=\"black\" stroke=\"black\" points=\"136,-163.63 137.17,-174.16 142.82,-165.2 136,-163.63\"/>\r\n",
       "<text text-anchor=\"middle\" x=\"169.67\" y=\"-144.8\" font-family=\"Times New Roman,serif\" font-size=\"14.00\">bottom_of</text>\r\n",
       "</g>\r\n",
       "<!-- 60&#45;&gt;52 -->\r\n",
       "<g id=\"edge2\" class=\"edge\">\r\n",
       "<title>60&#45;&gt;52</title>\r\n",
       "<path fill=\"none\" stroke=\"black\" d=\"M47.86,-97.14C22.81,-88.82 -10.64,-73.48 4.17,-54 15.02,-39.73 60.42,-29.75 93.63,-24.19\"/>\r\n",
       "<polygon fill=\"black\" stroke=\"black\" points=\"94.6,-27.58 103.92,-22.54 93.49,-20.67 94.6,-27.58\"/>\r\n",
       "<text text-anchor=\"middle\" x=\"11.67\" y=\"-57.8\" font-family=\"Times New Roman,serif\" font-size=\"14.00\">on</text>\r\n",
       "</g>\r\n",
       "<!-- 60&#45;&gt;52 -->\r\n",
       "<g id=\"edge3\" class=\"edge\">\r\n",
       "<title>60&#45;&gt;52</title>\r\n",
       "<path fill=\"none\" stroke=\"black\" d=\"M55.27,-90.59C44.5,-80.38 33.99,-66.06 42.17,-54 53.75,-36.93 75.11,-28.19 93.89,-23.71\"/>\r\n",
       "<polygon fill=\"black\" stroke=\"black\" points=\"94.61,-27.13 103.69,-21.68 93.19,-20.28 94.61,-27.13\"/>\r\n",
       "<text text-anchor=\"middle\" x=\"61.67\" y=\"-57.8\" font-family=\"Times New Roman,serif\" font-size=\"14.00\">top_of</text>\r\n",
       "</g>\r\n",
       "<!-- 52&#45;&gt;44 -->\r\n",
       "<g id=\"edge4\" class=\"edge\">\r\n",
       "<title>52&#45;&gt;44</title>\r\n",
       "<path fill=\"none\" stroke=\"black\" d=\"M156.35,-22.8C189.55,-29.25 244.92,-45.93 265.17,-87 272.25,-101.35 272.25,-108.65 265.17,-123 246.82,-160.22 199.62,-177.41 166.22,-185.1\"/>\r\n",
       "<polygon fill=\"black\" stroke=\"black\" points=\"165.4,-181.7 156.35,-187.2 166.86,-188.55 165.4,-181.7\"/>\r\n",
       "<text text-anchor=\"middle\" x=\"300.67\" y=\"-101.3\" font-family=\"Times New Roman,serif\" font-size=\"14.00\">bottom_of</text>\r\n",
       "</g>\r\n",
       "<!-- 52&#45;&gt;60 -->\r\n",
       "<g id=\"edge7\" class=\"edge\">\r\n",
       "<title>52&#45;&gt;60</title>\r\n",
       "<path fill=\"none\" stroke=\"black\" d=\"M118.29,-34.51C113.77,-40.53 108.64,-47.52 104.17,-54 98.55,-62.13 92.66,-71.19 87.47,-79.34\"/>\r\n",
       "<polygon fill=\"black\" stroke=\"black\" points=\"84.35,-77.73 81.98,-88.05 90.27,-81.46 84.35,-77.73\"/>\r\n",
       "<text text-anchor=\"middle\" x=\"120.17\" y=\"-57.8\" font-family=\"Times New Roman,serif\" font-size=\"14.00\">under</text>\r\n",
       "</g>\r\n",
       "<!-- 52&#45;&gt;60 -->\r\n",
       "<g id=\"edge8\" class=\"edge\">\r\n",
       "<title>52&#45;&gt;60</title>\r\n",
       "<path fill=\"none\" stroke=\"black\" d=\"M137.17,-35.84C140.28,-46.09 142.05,-59.07 136.17,-69 129.56,-80.15 118.01,-87.98 106.52,-93.36\"/>\r\n",
       "<polygon fill=\"black\" stroke=\"black\" points=\"104.88,-90.25 96.99,-97.32 107.57,-96.71 104.88,-90.25\"/>\r\n",
       "<text text-anchor=\"middle\" x=\"169.67\" y=\"-57.8\" font-family=\"Times New Roman,serif\" font-size=\"14.00\">bottom_of</text>\r\n",
       "</g>\r\n",
       "</g>\r\n",
       "</svg>\r\n"
      ],
      "text/plain": [
       "<graphviz.dot.Digraph at 0x2c86c1122c8>"
      ]
     },
     "metadata": {},
     "output_type": "display_data"
    },
    {
     "name": "stdout",
     "output_type": "stream",
     "text": [
      "-------------------------------\n"
     ]
    }
   ],
   "source": [
    "for ex in perturbed_dataset:\n",
    "    if not ex.positive:\n",
    "        plt.imshow(ex.labeled_image)\n",
    "        plt.show()\n",
    "        display(ex.graph)\n",
    "        print(\"-------------------------------\")"
   ]
  },
  {
   "cell_type": "markdown",
   "metadata": {},
   "source": [
    "Das ILP-Framework Aleph benötigt mehrere Hilfsdateien, die mit der Funktion __write_aleph_files__ erzeugt werden. \n",
    "Es sollen alle räumlichen Relationen verwendet werden! Zur Verfügung stehen folgende Relationen: *left_of*, *right_of*, *top_of*, *bottom_of*, *on*, *under*"
   ]
  },
  {
   "cell_type": "code",
   "execution_count": 16,
   "metadata": {},
   "outputs": [
    {
     "name": "stdout",
     "output_type": "stream",
     "text": [
      "Writing the input files for Aleph...\n",
      "../output/\n",
      "Done.\n"
     ]
    }
   ],
   "source": [
    "used_relations = None # 'None' if you want to allow all relations, otherwise list with following possibilities: [\"left_of\", \"right_of\", \"top_of\", \"bottom_of\", \"on\", \"under\"]\n",
    "la.write_aleph_files(annotated_image, perturbed_dataset, used_relations, OUTPUT_DIR, NOISE)"
   ]
  },
  {
   "cell_type": "markdown",
   "metadata": {},
   "source": [
    "Schlussendlich muss nun der Induktionsprozess von Aleph angestoßen werden. Dieser Schritt (mit der Funktion __run_aleph__) gibt auch die gefundene Erklärung zurück:"
   ]
  },
  {
   "cell_type": "code",
   "execution_count": 17,
   "metadata": {
    "scrolled": true
   },
   "outputs": [
    {
     "name": "stdout",
     "output_type": "stream",
     "text": [
      "[{}]\n",
      "[{}]\n",
      "[{}]\n",
      "[{}]\n",
      "[{}]\n",
      "The explanation was saved to '../output/explanation.txt'\n"
     ]
    }
   ],
   "source": [
    "la.run_aleph(OUTPUT_DIR)"
   ]
  },
  {
   "cell_type": "markdown",
   "metadata": {},
   "source": [
    "Die Erklärung in Form von Regeln findet sich nun im angegebenen Ordner in der Datei *explanation.txt*. \n",
    "Wir lesen diese Datei aus und stellen die Regel in Form einer Prolog-Regel dar."
   ]
  },
  {
   "cell_type": "code",
   "execution_count": 18,
   "metadata": {
    "scrolled": true
   },
   "outputs": [
    {
     "name": "stdout",
     "output_type": "stream",
     "text": [
      "true_class(A) :-\n",
      "   contains(B,A), contains(C,A), has_color(C,lime), on_in_ex(C,B,A).\n",
      "\n"
     ]
    }
   ],
   "source": [
    "with open(OUTPUT_DIR + \"explanation.txt\", 'r') as f:\n",
    "    print(f.read())"
   ]
  },
  {
   "cell_type": "markdown",
   "metadata": {},
   "source": [
    "## Interpretation\n",
    "Die Interpretation der Regel wollen wir im Folgenden an einem Beispiel darstellen. \n",
    "\n",
    "true_class(A) :-\n",
    "   contains(B,A), has_color(B,mediumblue), contains(C,A), has_color(C,lime), \n",
    "   top_of_in_ex(C,B,A).\n",
    "\n",
    "Die Lesart der Regel ist wie folgt. Das Prädikat __true_class(A)__ entspricht der Aussage _\"A ist ein Turm\"_ und gilt wenn folgende Aussagen logisch wahr sind:\n",
    "* der Turm A enthällt einen Bauklotz B, \n",
    "* Bauklotz B hat die Farbe Blau (__mediumblue__),\n",
    "* der Turm A enthält auch einen Bauklotz C,\n",
    "* der Bauklotz C hat die Farbe Grün (__lime__), und \n",
    "* C befindet sich in Relation __top_of__ zu B, d.h. C steht räumlich auf B.\n"
   ]
  }
 ],
 "metadata": {
  "kernelspec": {
   "display_name": "Python 3",
   "language": "python",
   "name": "python3"
  },
  "language_info": {
   "codemirror_mode": {
    "name": "ipython",
    "version": 3
   },
   "file_extension": ".py",
   "mimetype": "text/x-python",
   "name": "python",
   "nbconvert_exporter": "python",
   "pygments_lexer": "ipython3",
   "version": "3.7.9"
  }
 },
 "nbformat": 4,
 "nbformat_minor": 4
}
