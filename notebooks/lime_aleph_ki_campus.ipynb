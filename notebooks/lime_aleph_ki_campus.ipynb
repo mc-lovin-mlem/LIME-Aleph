{
 "cells": [
  {
   "cell_type": "markdown",
   "metadata": {},
   "source": [
    "# LIME-Aleph\n",
    "\n",
    "### KI-Campus Aufgabe\n",
    "\n",
    "Willkommen zum Arbeitsauftrag für das Modul __LIME-Aleph__ im KI-Campus. Hier werden Sie den typischen Ablauf zum Finden einer symbolischen Erklärung für Black-Box Netzwerke mithilfe der LIME-Aleph Bibliothek Stück für Stück erarbeiten."
   ]
  },
  {
   "cell_type": "code",
   "execution_count": 1,
   "metadata": {},
   "outputs": [
    {
     "name": "stdout",
     "output_type": "stream",
     "text": [
      "3.7.9\n"
     ]
    }
   ],
   "source": [
    "from platform import python_version\n",
    "\n",
    "print(python_version())"
   ]
  },
  {
   "cell_type": "code",
   "execution_count": 2,
   "metadata": {},
   "outputs": [
    {
     "name": "stdout",
     "output_type": "stream",
     "text": [
      "absl-py @ file:///C:/ci/absl-py_1603893176799/work\n",
      "aiohttp @ file:///C:/ci/aiohttp_1602530358780/work\n",
      "appdirs @ file:///home/conda/feedstock_root/build_artifacts/appdirs_1603108395799/work\n",
      "argon2-cffi @ file:///C:/ci/argon2-cffi_1596828549974/work\n",
      "astor==0.8.1\n",
      "async-generator==1.10\n",
      "async-timeout==3.0.1\n",
      "attrs @ file:///tmp/build/80754af9/attrs_1604765588209/work\n",
      "backcall==0.2.0\n",
      "bleach @ file:///tmp/build/80754af9/bleach_1600439572647/work\n",
      "blinker==1.4\n",
      "brotlipy==0.7.0\n",
      "cachetools @ file:///tmp/build/80754af9/cachetools_1596822027882/work\n",
      "certifi==2020.12.5\n",
      "cffi @ file:///C:/ci/cffi_1605538148575/work\n",
      "chardet @ file:///C:/ci/chardet_1605303259695/work\n",
      "click==7.1.2\n",
      "cloudpickle @ file:///tmp/build/80754af9/cloudpickle_1598884132938/work\n",
      "colorama @ file:///tmp/build/80754af9/colorama_1603211150991/work\n",
      "cryptography @ file:///C:/ci/cryptography_1605544557248/work\n",
      "cycler==0.10.0\n",
      "cytoolz==0.11.0\n",
      "dask @ file:///tmp/build/80754af9/dask-core_1602083700509/work\n",
      "decorator==4.4.2\n",
      "defusedxml==0.6.0\n",
      "entrypoints==0.3\n",
      "gast==0.2.2\n",
      "google-auth @ file:///tmp/build/80754af9/google-auth_1604100403705/work\n",
      "google-auth-oauthlib @ file:///tmp/build/80754af9/google-auth-oauthlib_1603929124518/work\n",
      "google-pasta==0.2.0\n",
      "grpcio @ file:///C:/ci/grpcio_1597406403308/work\n",
      "h5py==2.10.0\n",
      "idna @ file:///tmp/build/80754af9/idna_1593446292537/work\n",
      "imageio @ file:///tmp/build/80754af9/imageio_1594161405741/work\n",
      "importlib-metadata @ file:///tmp/build/80754af9/importlib-metadata_1602276842396/work\n",
      "ipykernel @ file:///C:/ci/ipykernel_1596208728219/work/dist/ipykernel-5.3.4-py3-none-any.whl\n",
      "ipython @ file:///C:/ci/ipython_1604101327119/work\n",
      "ipython-genutils==0.2.0\n",
      "ipywidgets==7.5.1\n",
      "jedi @ file:///C:/ci/jedi_1596472767194/work\n",
      "Jinja2==2.11.2\n",
      "joblib @ file:///tmp/build/80754af9/joblib_1601912903842/work\n",
      "jsonschema @ file:///tmp/build/80754af9/jsonschema_1602607155483/work\n",
      "jupyter-client @ file:///tmp/build/80754af9/jupyter_client_1601311786391/work\n",
      "jupyter-core==4.6.3\n",
      "jupyterlab-pygments @ file:///tmp/build/80754af9/jupyterlab_pygments_1601490720602/work\n",
      "Keras==2.3.1\n",
      "Keras-Applications @ file:///tmp/build/80754af9/keras-applications_1594366238411/work\n",
      "Keras-Preprocessing==1.1.0\n",
      "kiwisolver @ file:///C:/ci/kiwisolver_1603996595157/work\n",
      "lime==0.2.0.1\n",
      "Markdown @ file:///C:/ci/markdown_1605111187600/work\n",
      "MarkupSafe @ file:///C:/ci/markupsafe_1594405949945/work\n",
      "matplotlib @ file:///C:/ci/matplotlib-base_1603356257853/work\n",
      "mistune @ file:///C:/ci/mistune_1594373272338/work\n",
      "mkl-fft==1.2.0\n",
      "mkl-random==1.1.1\n",
      "mkl-service==2.3.0\n",
      "multidict @ file:///C:/ci/multidict_1600456486794/work\n",
      "nbclient @ file:///tmp/build/80754af9/nbclient_1602783176460/work\n",
      "nbconvert @ file:///C:/ci/nbconvert_1601914921407/work\n",
      "nbformat @ file:///tmp/build/80754af9/nbformat_1602783287752/work\n",
      "nest-asyncio @ file:///tmp/build/80754af9/nest-asyncio_1605115881283/work\n",
      "networkx @ file:///tmp/build/80754af9/networkx_1598376031484/work\n",
      "notebook @ file:///C:/ci/notebook_1601494955742/work\n",
      "numpy @ file:///C:/ci/numpy_and_numpy_base_1603468620949/work\n",
      "oauthlib==3.1.0\n",
      "olefile==0.46\n",
      "opencv-python==4.5.1.48\n",
      "opt-einsum==3.1.0\n",
      "packaging==20.4\n",
      "pandocfilters @ file:///C:/ci/pandocfilters_1605102427207/work\n",
      "parso==0.7.0\n",
      "pickleshare @ file:///C:/ci/pickleshare_1594374056827/work\n",
      "Pillow @ file:///C:/ci/pillow_1603821929285/work\n",
      "pooch @ file:///home/conda/feedstock_root/build_artifacts/pooch_1606467285986/work\n",
      "prometheus-client==0.8.0\n",
      "prompt-toolkit @ file:///tmp/build/80754af9/prompt-toolkit_1602688806899/work\n",
      "protobuf==3.13.0\n",
      "pyasn1==0.4.8\n",
      "pyasn1-modules==0.2.8\n",
      "pycparser @ file:///tmp/build/80754af9/pycparser_1594388511720/work\n",
      "Pygments @ file:///tmp/build/80754af9/pygments_1604103097372/work\n",
      "PyJWT==1.7.1\n",
      "pyOpenSSL @ file:///tmp/build/80754af9/pyopenssl_1605545627475/work\n",
      "pyparsing==2.4.7\n",
      "pyreadline==2.1\n",
      "pyrsistent @ file:///C:/ci/pyrsistent_1600123688363/work\n",
      "PySocks @ file:///C:/ci/pysocks_1594394709107/work\n",
      "pyswip==0.2.10\n",
      "python-dateutil==2.8.1\n",
      "PyWavelets @ file:///C:/ci/pywavelets_1601658407053/work\n",
      "pywin32==227\n",
      "pywinpty==0.5.7\n",
      "PyYAML==5.3.1\n",
      "pyzmq==19.0.2\n",
      "requests @ file:///tmp/build/80754af9/requests_1592841827918/work\n",
      "requests-oauthlib==1.3.0\n",
      "rsa @ file:///tmp/build/80754af9/rsa_1596998415516/work\n",
      "scikit-image==0.18.1\n",
      "scikit-learn @ file:///C:/ci/scikit-learn_1598376983131/work\n",
      "scipy @ file:///C:/ci/scipy_1597686737426/work\n",
      "Send2Trash==1.5.0\n",
      "six @ file:///C:/ci/six_1605205426665/work\n",
      "tensorboard @ file:///home/builder/ktietz/conda/conda-bld/tensorboard_1604313476433/work/tmp_pip_dir\n",
      "tensorboard-plugin-wit==1.6.0\n",
      "tensorflow==2.1.0\n",
      "tensorflow-estimator==2.1.0\n",
      "termcolor==1.1.0\n",
      "terminado==0.9.1\n",
      "testpath==0.4.4\n",
      "threadpoolctl @ file:///tmp/tmp9twdgx9k/threadpoolctl-2.1.0-py3-none-any.whl\n",
      "tifffile==2020.10.1\n",
      "toolz @ file:///tmp/build/80754af9/toolz_1601054250827/work\n",
      "tornado==6.0.4\n",
      "tqdm==4.52.0\n",
      "traitlets @ file:///tmp/build/80754af9/traitlets_1602787416690/work\n",
      "urllib3 @ file:///tmp/build/80754af9/urllib3_1603305693037/work\n",
      "wcwidth @ file:///tmp/build/80754af9/wcwidth_1593447189090/work\n",
      "webcolors==1.11.1\n",
      "webencodings==0.5.1\n",
      "Werkzeug==0.16.1\n",
      "widgetsnbextension==3.5.1\n",
      "win-inet-pton @ file:///C:/ci/win_inet_pton_1605306165655/work\n",
      "wincertstore==0.2\n",
      "wrapt==1.12.1\n",
      "yarl @ file:///C:/ci/yarl_1602679793616/work\n",
      "zipp @ file:///tmp/build/80754af9/zipp_1604001098328/work\n",
      "Note: you may need to restart the kernel to use updated packages.\n"
     ]
    }
   ],
   "source": [
    "pip freeze"
   ]
  },
  {
   "cell_type": "markdown",
   "metadata": {},
   "source": [
    "Wir wollen zunächst mal die nötigen Bibliotheken importieren und einige nutzerdefinierbare Parameter erzeugen. Eine zu klassifizierende Bilddatei sowie ein vortrainiertes Modell sind schon vorhanden."
   ]
  },
  {
   "cell_type": "code",
   "execution_count": 3,
   "metadata": {},
   "outputs": [],
   "source": [
    "from ipywidgets import IntProgress"
   ]
  },
  {
   "cell_type": "code",
   "execution_count": 4,
   "metadata": {},
   "outputs": [],
   "source": [
    "import os, sys, inspect\n",
    "current_dir = os.path.dirname(os.path.abspath(inspect.getfile(inspect.currentframe())))\n",
    "parent_dir = os.path.dirname(current_dir)\n",
    "sys.path.insert(0, parent_dir)\n",
    "from skimage.util import img_as_float32\n",
    "from skimage.transform import resize\n",
    "from scripts.train_model import own_rel\n",
    "from skimage import io\n",
    "from skimage.io import imshow, show, imsave\n",
    "import shutil\n",
    "\n",
    "import lime_aleph.lime_aleph as la\n",
    "\n",
    "#NOTEBOOK_PATH = \"notebooks/\" #\n",
    "IMAGE_FILE = \"pos9000.png\" # The path to the image file to be classified by the black-box\n",
    "MODEL = \"../models_to_explain/model_tower.h5\" # The path to the pre-trained model\n",
    "K = 3 # The number of important superpixels to be used for perturbation\n",
    "N = 1000 # The sample size for LIME\n",
    "OUTPUT_DIR = \"../output/\" # A path for a directory to save intermediate and output data\n",
    "T = 0.8 # The threshold for the binary classifier for when an example is classified as 'positive'\n",
    "NOISE = 10 # The allowed false-positive rate for Aleph in percent.b"
   ]
  },
  {
   "cell_type": "markdown",
   "metadata": {},
   "source": [
    "Sollte es noch temporäre Daten aus früheren Durchläufen geben, sollen diese nun gelöscht werden:"
   ]
  },
  {
   "cell_type": "code",
   "execution_count": 5,
   "metadata": {},
   "outputs": [],
   "source": [
    "shutil.rmtree(OUTPUT_DIR, ignore_errors=True)\n",
    "os.makedirs(OUTPUT_DIR)"
   ]
  },
  {
   "cell_type": "markdown",
   "metadata": {},
   "source": [
    "Nun wollen wir das Bild und das vortrainierte Modell in den Speicher laden:"
   ]
  },
  {
   "cell_type": "code",
   "execution_count": 6,
   "metadata": {},
   "outputs": [
    {
     "data": {
      "image/png": "[encoded data removed]",
      "text/plain": [
       "<Figure size 432x288 with 1 Axes>"
      ]
     },
     "metadata": {
      "needs_background": "light"
     },
     "output_type": "display_data"
    }
   ],
   "source": [
    "image = img_as_float32(io.imread(IMAGE_FILE))\n",
    "image = resize(image, (own_rel.IMAGE_SIZE, own_rel.IMAGE_SIZE), anti_aliasing=True)\n",
    "\n",
    "model = own_rel.own_rel()\n",
    "model.load_weights(MODEL)\n",
    "\n",
    "io.imshow(image)\n",
    "io.show()"
   ]
  },
  {
   "cell_type": "markdown",
   "metadata": {},
   "source": [
    "Der nächste Schritt soll nun sein, die im Bild vorhandenen Elemente automatisch zu annotieren. Benutzen Sie hierfür die Funktion __annotate_image_parts__ aus dem bereits importierten __lime_aleph__ package mit den benötigten Parametern:"
   ]
  },
  {
   "cell_type": "code",
   "execution_count": 7,
   "metadata": {},
   "outputs": [
    {
     "name": "stdout",
     "output_type": "stream",
     "text": [
      "Running LIME...\n",
      "True class of the image is:  1\n",
      "Starting the explanation generation process. This may take a while.\n"
     ]
    },
    {
     "data": {
      "application/vnd.jupyter.widget-view+json": {
       "model_id": "4d8eb236e6224c61a8efab65dd6c76e3",
       "version_major": 2,
       "version_minor": 0
      },
      "text/plain": [
       "HBox(children=(HTML(value=''), FloatProgress(value=0.0, max=1000.0), HTML(value='')))"
      ]
     },
     "metadata": {},
     "output_type": "display_data"
    },
    {
     "name": "stderr",
     "output_type": "stream",
     "text": [
      "Lossy conversion from float64 to uint8. Range [0, 1]. Convert image to uint8 prior to saving to suppress this warning.\n",
      "Lossy conversion from float64 to uint8. Range [0, 1]. Convert image to uint8 prior to saving to suppress this warning.\n"
     ]
    },
    {
     "name": "stdout",
     "output_type": "stream",
     "text": [
      "\n",
      "Intercept -0.15828873356506978\n",
      "Prediction_local [0.26266126]\n",
      "Right: 0.023822423\n",
      "Intercept 1.1582887386165368\n",
      "Prediction_local [0.73733874]\n",
      "Right: 0.9761776\n",
      "Number of superpixels: 64\n",
      "Annotating the superpixels...\n",
      "Weight of sp:  52 is:  0.10579369121942299\n",
      "Weight of sp:  44 is:  0.10356909686558469\n",
      "Weight of sp:  60 is:  0.10076069912361062\n",
      "Weight of sp:  21 is:  -0.044907893471481275\n",
      "Weight of sp:  58 is:  -0.04318624307283063\n",
      "Weight of sp:  28 is:  -0.03976570206776833\n",
      "Weight of sp:  26 is:  -0.03318699139770062\n",
      "Weight of sp:  8 is:  -0.03092985454735343\n",
      "Weight of sp:  53 is:  -0.029520982356985973\n",
      "Weight of sp:  61 is:  -0.028745232786424643\n",
      "Weight of sp:  45 is:  -0.02686456721817619\n",
      "Weight of sp:  24 is:  0.026761513545965055\n",
      "Weight of sp:  17 is:  -0.02569892414424742\n",
      "Weight of sp:  33 is:  -0.02510924639947093\n",
      "Weight of sp:  51 is:  -0.024824347746291556\n",
      "Weight of sp:  13 is:  -0.024618440395164327\n",
      "Weight of sp:  23 is:  -0.0230372302689836\n",
      "Weight of sp:  47 is:  -0.02264732138387403\n",
      "Weight of sp:  36 is:  -0.02200561395743265\n",
      "Weight of sp:  55 is:  0.021001541267225875\n",
      "Weight of sp:  62 is:  -0.020507148396508124\n",
      "Weight of sp:  19 is:  -0.020080081277127553\n",
      "Weight of sp:  4 is:  -0.01897302219995816\n",
      "Weight of sp:  14 is:  0.018912217234711978\n",
      "Weight of sp:  63 is:  0.018358829550123225\n",
      "Weight of sp:  41 is:  -0.018221075094113078\n",
      "Weight of sp:  54 is:  -0.01806062572919741\n",
      "Weight of sp:  15 is:  -0.01753097776161937\n",
      "Weight of sp:  57 is:  -0.01622752310481526\n",
      "Weight of sp:  16 is:  -0.015305261768317837\n",
      "Weight of sp:  18 is:  -0.01527203829764011\n",
      "Weight of sp:  46 is:  -0.015025328675362175\n",
      "Weight of sp:  5 is:  -0.014701864809865406\n",
      "Weight of sp:  9 is:  -0.014550531410279009\n",
      "Weight of sp:  2 is:  -0.014205735765769079\n",
      "Weight of sp:  32 is:  -0.014155392787283753\n",
      "Weight of sp:  20 is:  -0.014006700943556948\n",
      "Weight of sp:  22 is:  -0.01369299924882866\n",
      "Weight of sp:  49 is:  -0.011048090011020617\n",
      "Weight of sp:  39 is:  -0.010635241348940281\n",
      "Weight of sp:  29 is:  -0.010519787393118612\n",
      "Weight of sp:  40 is:  -0.009958094027110901\n",
      "Weight of sp:  11 is:  -0.009762329051062599\n",
      "Weight of sp:  30 is:  -0.009292874613908753\n",
      "Weight of sp:  25 is:  -0.008815691397302825\n",
      "Weight of sp:  38 is:  -0.008792662534255483\n",
      "Weight of sp:  34 is:  -0.008424044542519259\n",
      "Weight of sp:  1 is:  0.008293417718668586\n",
      "Weight of sp:  42 is:  -0.007750050691727097\n",
      "Weight of sp:  12 is:  -0.006854660551869693\n",
      "Weight of sp:  27 is:  -0.006195423954023329\n",
      "Weight of sp:  35 is:  0.005711681974471163\n",
      "Weight of sp:  10 is:  -0.00471196720028719\n",
      "Weight of sp:  59 is:  -0.004361168519252054\n",
      "Weight of sp:  7 is:  -0.0039650526002977474\n",
      "Weight of sp:  37 is:  -0.003848213654061203\n",
      "Weight of sp:  3 is:  0.0036641078414552464\n",
      "Weight of sp:  56 is:  -0.0028914728038051175\n",
      "Weight of sp:  6 is:  0.00271062019402978\n",
      "Weight of sp:  50 is:  -0.0020232044883151034\n",
      "Weight of sp:  31 is:  -0.001323650832102034\n",
      "Weight of sp:  43 is:  0.0004021921322552631\n",
      "Weight of sp:  48 is:  -0.000363020964854555\n",
      "Weight of sp:  0 is:  0.00021199462177797233\n"
     ]
    }
   ],
   "source": [
    "#[SOLUTION]\n",
    "\n",
    "annotated_image = la.annotate_image_parts(image, model, OUTPUT_DIR, N)"
   ]
  },
  {
   "cell_type": "code",
   "execution_count": 8,
   "metadata": {},
   "outputs": [
    {
     "data": {
      "text/plain": [
       "<matplotlib.image.AxesImage at 0x191176e0688>"
      ]
     },
     "execution_count": 8,
     "metadata": {},
     "output_type": "execute_result"
    },
    {
     "data": {
      "image/png": "[encoded data removed]",
      "text/plain": [
       "<Figure size 432x288 with 1 Axes>"
      ]
     },
     "metadata": {
      "needs_background": "light"
     },
     "output_type": "display_data"
    }
   ],
   "source": [
    "import matplotlib.pyplot as plt\n",
    "from skimage.segmentation import mark_boundaries\n",
    "\n",
    "true_class = 1\n",
    "\n",
    "temp, mask = annotated_image.explanation.get_image_and_mask(true_class, positive_only=True, num_features=4, hide_rest=True)\n",
    "plt.imshow(mark_boundaries(temp, mask))"
   ]
  },
  {
   "cell_type": "code",
   "execution_count": 9,
   "metadata": {},
   "outputs": [
    {
     "data": {
      "text/plain": [
       "<matplotlib.image.AxesImage at 0x1911737fd48>"
      ]
     },
     "execution_count": 9,
     "metadata": {},
     "output_type": "execute_result"
    },
    {
     "data": {
      "image/png": "[encoded data removed]",
      "text/plain": [
       "<Figure size 432x288 with 1 Axes>"
      ]
     },
     "metadata": {
      "needs_background": "light"
     },
     "output_type": "display_data"
    }
   ],
   "source": [
    "negative_class = 0\n",
    "\n",
    "temp, mask = annotated_image.explanation.get_image_and_mask(negative_class, positive_only=True, num_features=4, hide_rest=True)\n",
    "plt.imshow(mark_boundaries(temp, mask))"
   ]
  },
  {
   "cell_type": "markdown",
   "metadata": {},
   "source": [
    "Nachdem das Bild nun annotiert ist (als Annotation wurden auch die Gewichte von LIME für die einzelnen Elemente gefunden), können wir nun die wichtigsten __K__ Bildelemente mit der Funktion __find_important_parts__ finden. Anschließend können Sie auch die Relationen zwischen den Bildteilen mit der Funktion __find_spatial_relations__ finden lassen:"
   ]
  },
  {
   "cell_type": "code",
   "execution_count": 10,
   "metadata": {
    "scrolled": false
   },
   "outputs": [
    {
     "name": "stderr",
     "output_type": "stream",
     "text": [
      "Clipping input data to the valid range for imshow with RGB data ([0..1] for floats or [0..255] for integers).\n"
     ]
    },
    {
     "data": {
      "text/plain": [
       "<matplotlib.image.AxesImage at 0x19117732288>"
      ]
     },
     "execution_count": 10,
     "metadata": {},
     "output_type": "execute_result"
    },
    {
     "data": {
      "image/png": "[encoded data removed]",
      "text/plain": [
       "<Figure size 432x288 with 1 Axes>"
      ]
     },
     "metadata": {
      "needs_background": "light"
     },
     "output_type": "display_data"
    }
   ],
   "source": [
    "#[SOLUTION]\n",
    "\n",
    "important_superpixels, labeled_image = la.find_important_parts(annotated_image, 4)\n",
    "\n",
    "plt.imshow(labeled_image)"
   ]
  },
  {
   "cell_type": "code",
   "execution_count": 11,
   "metadata": {},
   "outputs": [
    {
     "name": "stdout",
     "output_type": "stream",
     "text": [
      "Currently at superpixel 52\n",
      "Currently at superpixel 44\n",
      "Currently at superpixel 60\n",
      "Currently at superpixel 21\n"
     ]
    }
   ],
   "source": [
    "relations = la.find_spatial_relations(important_superpixels)"
   ]
  },
  {
   "cell_type": "markdown",
   "metadata": {},
   "source": [
    "Die Liste, welche von der Funktion zum Finden von Relationen zurückgegeben wurde, beinhaltet Objekte vom Typ __Relation__. Hier geben wir nun beispielhaft die Informationen der ersten Relation aus. Natürlich müssen Sie den Namen der Liste an Ihre Implementation anpassen."
   ]
  },
  {
   "cell_type": "code",
   "execution_count": 12,
   "metadata": {},
   "outputs": [
    {
     "name": "stdout",
     "output_type": "stream",
     "text": [
      "Relation: 44 -- on --> 52\n",
      "Relation: 44 -- top_of --> 52\n",
      "Relation: 60 -- under --> 52\n",
      "Relation: 60 -- bottom_of --> 52\n",
      "Relation: 21 -- top_of --> 52\n",
      "Relation: 52 -- under --> 44\n",
      "Relation: 52 -- bottom_of --> 44\n",
      "Relation: 60 -- bottom_of --> 44\n",
      "Relation: 21 -- top_of --> 44\n",
      "Relation: 52 -- on --> 60\n",
      "Relation: 52 -- top_of --> 60\n",
      "Relation: 44 -- top_of --> 60\n",
      "Relation: 21 -- top_of --> 60\n",
      "Relation: 52 -- bottom_of --> 21\n",
      "Relation: 44 -- bottom_of --> 21\n",
      "Relation: 60 -- bottom_of --> 21\n"
     ]
    }
   ],
   "source": [
    "for r in relations:\n",
    "    print(r) "
   ]
  },
  {
   "cell_type": "markdown",
   "metadata": {},
   "source": [
    "Der Name beschreibt das Prädikat der räumlichen Relation. Die weiteren Informationen beschreiben die Indices der Start- und Zielelemente der Relation innerhalb des Bildes."
   ]
  },
  {
   "cell_type": "markdown",
   "metadata": {},
   "source": [
    "Nun wollen wir das perturbierte Datenset für LIME-Aleph generieren lassen. Benutzen Sie hierzu die Funktion __perturb_instance__ mit den erforderlichen Parametern. Lassen Sie sich auch ausgeben, wie viele Instanzen im neuen Datenset sind (Es wird eine Liste mit Instanzen zurückgegeben)."
   ]
  },
  {
   "cell_type": "code",
   "execution_count": null,
   "metadata": {},
   "outputs": [],
   "source": [
    "#[SOLUTION]\n",
    "perturbed_dataset = la.perturb_instance(annotated_image, relations, model, T)\n",
    "print(\"Number of perturbed instances:\", len(perturbed_dataset))"
   ]
  },
  {
   "cell_type": "code",
   "execution_count": null,
   "metadata": {},
   "outputs": [],
   "source": [
    "for idx in annotated_image.superpixels:\n",
    "    print(vars(idx))"
   ]
  },
  {
   "cell_type": "markdown",
   "metadata": {},
   "source": [
    "Das ILP-Framework Aleph benötigt mehrere Hilfsdateien, die mit der Funktion __write_aleph_files__ erzeugt werden. Rufen Sie diese Funktion auf. Es sollen alle räumlichen Relationen verwendet werden! Zur Verfügung stehen folgende Relationen: *left_of*, *right_of*, *top_of*, *bottom_of*, *on*, *under*"
   ]
  },
  {
   "cell_type": "code",
   "execution_count": null,
   "metadata": {},
   "outputs": [],
   "source": [
    "#[SOLUTION]\n",
    "used_relations = None # 'None' if you want to allow all relations, otherwise list with following possibilities: [\"left_of\", \"right_of\", \"top_of\", \"bottom_of\", \"on\", \"under\"]\n",
    "la.write_aleph_files(annotated_image, perturbed_dataset, used_relations, OUTPUT_DIR, NOISE)"
   ]
  },
  {
   "cell_type": "markdown",
   "metadata": {},
   "source": [
    "Schlussendlich muss nun der Induktionsprozess von Aleph angestoßen werden. Dieser Schritt (mit der Funktion __run_aleph__) gibt auch die gefundene Erklärung aus:"
   ]
  },
  {
   "cell_type": "code",
   "execution_count": null,
   "metadata": {
    "scrolled": true
   },
   "outputs": [],
   "source": [
    "#[SOLUTION]\n",
    "la.run_aleph(OUTPUT_DIR)"
   ]
  },
  {
   "cell_type": "markdown",
   "metadata": {},
   "source": [
    "Die Erklärung in Form von Regeln kann nun im angegebenen Ordner in der Datei *explanation.txt* gefunden und interpretiert werden. Wir lesen nun diese Datei aus:"
   ]
  },
  {
   "cell_type": "code",
   "execution_count": null,
   "metadata": {},
   "outputs": [],
   "source": [
    "with open(OUTPUT_DIR + \"explanation.txt\", 'r') as f:\n",
    "    print(f.read())"
   ]
  },
  {
   "cell_type": "markdown",
   "metadata": {},
   "source": [
    "# Interpretation \n",
    "...\n",
    "\n",
    "\n",
    "true_class(A) :-\n",
    "   contains(B,A), has_color(B,mediumblue), contains(C,A), has_color(C,lime), \n",
    "   top_of_in_ex(C,B,A).\n",
    "\n",
    "## Interpretierte Regel\n",
    "\n",
    "true_class(Turm) :-\n",
    "   contains(Blau,Turm), has_color(Blau,mediumblue), contains(Grün,Turm), has_color(Grün,lime), \n",
    "   top_of_in_ex(Grün,Blau,Turm).\n",
    "\n",
    "übersetzt in Satz\n",
    "Turm ist wahr wenn gilt: Der blaue Klotz gehört zu einem Turm, ... \n",
    "\n",
    "[Bild]\n",
    "\n",
    "\n",
    "\n",
    "\n"
   ]
  }
 ],
 "metadata": {
  "kernelspec": {
   "display_name": "Python 3",
   "language": "python",
   "name": "python3"
  },
  "language_info": {
   "codemirror_mode": {
    "name": "ipython",
    "version": 3
   },
   "file_extension": ".py",
   "mimetype": "text/x-python",
   "name": "python",
   "nbconvert_exporter": "python",
   "pygments_lexer": "ipython3",
   "version": "3.7.9"
  }
 },
 "nbformat": 4,
 "nbformat_minor": 4
}
