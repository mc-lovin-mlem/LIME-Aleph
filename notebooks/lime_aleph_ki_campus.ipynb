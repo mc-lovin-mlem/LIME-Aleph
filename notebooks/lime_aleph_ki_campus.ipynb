{
 "cells": [
  {
   "cell_type": "markdown",
   "metadata": {},
   "source": [
    "# LIME-Aleph\n",
    "2021-02-15\n",
    "\n",
    "Johannes Rabold (Universität Bamberg) und Stephan Scheele (Fraunhofer IIS)\n",
    "\n",
    "Adaptiert für den KI-Campus Kurs XAI4Ing. \n"
   ]
  },
  {
   "cell_type": "markdown",
   "metadata": {},
   "source": [
    "## Kontakt\n",
    "Über das git Repository von LIME-Aleph oder https://www.uni-bamberg.de/en/cogsys/team/. "
   ]
  },
  {
   "cell_type": "markdown",
   "metadata": {},
   "source": [
    "## Lizenz\n",
    "Diese Arbeit ist lizenziert unter [BSD-2-Clause Lizenz](https://opensource.org/licenses/BSD-2-Clause)."
   ]
  },
  {
   "cell_type": "markdown",
   "metadata": {},
   "source": [
    "<hr>"
   ]
  },
  {
   "cell_type": "markdown",
   "metadata": {},
   "source": [
    "Willkommen zum Beispiel für das Modul __LIME-Aleph__ im KI-Campus. Hier werden Sie den typischen Ablauf zum Finden einer symbolischen Erklärung für Black-Box Netzwerke mithilfe der LIME-Aleph Bibliothek beschreiben."
   ]
  },
  {
   "cell_type": "markdown",
   "metadata": {},
   "source": [
    "_J. Rabold, H. Deininger, M. Siebers, U. Schmid:. (2019)._ [„Enriching Visual with Verbal Explanations for Relational Concepts – Combining LIME with Aleph“](https://doi.org/10.1007/978-3-030-43823-4_16)"
   ]
  },
  {
   "cell_type": "markdown",
   "metadata": {},
   "source": [
    "__Hinweis__: Bitte setzen Sie das Notebook zurück wenn sie dieses ein zweites mal ausführen möchten. \n",
    "    Im Menü über __(Kernel > Restart)__."
   ]
  },
  {
   "cell_type": "markdown",
   "metadata": {},
   "source": [
    "Zunächst importieren wir die benötigten Bibliotheken und definieren einige Parameter. \n",
    "Im Beispiel nutzen wir ein Bild zur Klassifikation und ein bereits bestehendes und vortrainiertes Modell. "
   ]
  },
  {
   "cell_type": "code",
   "execution_count": 1,
   "metadata": {},
   "outputs": [],
   "source": [
    "import os, sys, inspect\n",
    "current_dir = os.path.dirname(os.path.abspath(inspect.getfile(inspect.currentframe())))\n",
    "parent_dir = os.path.dirname(current_dir)\n",
    "sys.path.insert(0, parent_dir)\n",
    "from skimage.util import img_as_float32\n",
    "from skimage.transform import resize\n",
    "from scripts.train_model import own_rel\n",
    "from skimage import io\n",
    "from skimage.io import imshow, show, imsave\n",
    "import matplotlib.pyplot as plt\n",
    "%matplotlib inline\n",
    "from skimage.segmentation import mark_boundaries\n",
    "import shutil\n",
    "from graphviz import Digraph\n",
    "\n",
    "import lime_aleph.lime_aleph as la\n",
    "\n",
    "IMAGE_FILE = \"pos9000.png\" # The path to the image file to be classified by the black-box\n",
    "MODEL = \"../models_to_explain/model_tower.h5\" # The path to the pre-trained model\n",
    "N = 1000 # The sample size for LIME\n",
    "OUTPUT_DIR = \"../output/\" # A path for a directory to save intermediate and output data\n",
    "T = 0.8 # The threshold for the binary classifier for when an example is classified as 'positive'\n",
    "NOISE = 10 # The allowed false-positive rate for Aleph in percent.b"
   ]
  },
  {
   "cell_type": "markdown",
   "metadata": {},
   "source": [
    "Sollte es noch temporäre Daten aus früheren Durchläufen geben, sollen diese nun gelöscht werden:"
   ]
  },
  {
   "cell_type": "code",
   "execution_count": 2,
   "metadata": {},
   "outputs": [],
   "source": [
    "shutil.rmtree(OUTPUT_DIR, ignore_errors=True)\n",
    "os.makedirs(OUTPUT_DIR)"
   ]
  },
  {
   "cell_type": "markdown",
   "metadata": {},
   "source": [
    "Wir laden das Bild und das vortrainierte Modell in den Speicher. "
   ]
  },
  {
   "cell_type": "code",
   "execution_count": 3,
   "metadata": {},
   "outputs": [
    {
     "data": {
      "image/png": "[encoded data removed]",
      "text/plain": [
       "<Figure size 432x288 with 1 Axes>"
      ]
     },
     "metadata": {
      "needs_background": "light"
     },
     "output_type": "display_data"
    }
   ],
   "source": [
    "image = img_as_float32(io.imread(IMAGE_FILE))\n",
    "image = resize(image, (own_rel.IMAGE_SIZE, own_rel.IMAGE_SIZE), anti_aliasing=True)\n",
    "\n",
    "model = own_rel.own_rel()\n",
    "model.load_weights(MODEL)\n",
    "\n",
    "io.imshow(image)\n",
    "io.show()"
   ]
  },
  {
   "cell_type": "markdown",
   "metadata": {},
   "source": [
    "## Annotation des Bildes\n",
    "Im Folgenden werden die im Bild vorhandenen Elemente automatisch annotiert. \n",
    "Dazu verwenden wir die Funktion __annotate_image_parts__ aus dem Package __lime_aleph__."
   ]
  },
  {
   "cell_type": "code",
   "execution_count": 4,
   "metadata": {},
   "outputs": [
    {
     "name": "stdout",
     "output_type": "stream",
     "text": [
      "Running LIME...\n",
      "True class of the image is:  1\n",
      "Starting the explanation generation process. This may take a while.\n"
     ]
    },
    {
     "name": "stderr",
     "output_type": "stream",
     "text": [
      "/Users/sees/.virtualenvs/lime-aleph/lib/python3.8/site-packages/tensorflow/python/keras/engine/sequential.py:425: UserWarning: `model.predict_proba()` is deprecated and will be removed after 2021-01-01. Please use `model.predict()` instead.\n",
      "  warnings.warn('`model.predict_proba()` is deprecated and '\n"
     ]
    },
    {
     "data": {
      "application/vnd.jupyter.widget-view+json": {
       "model_id": "baf1cc66a4004b47a8ada01fbd6cbf48",
       "version_major": 2,
       "version_minor": 0
      },
      "text/plain": [
       "  0%|          | 0/1000 [00:00<?, ?it/s]"
      ]
     },
     "metadata": {},
     "output_type": "display_data"
    },
    {
     "name": "stderr",
     "output_type": "stream",
     "text": [
      "Lossy conversion from float64 to uint8. Range [0, 1]. Convert image to uint8 prior to saving to suppress this warning.\n",
      "Lossy conversion from float64 to uint8. Range [0, 1]. Convert image to uint8 prior to saving to suppress this warning.\n"
     ]
    },
    {
     "name": "stdout",
     "output_type": "stream",
     "text": [
      "Intercept -0.2732391540677846\n",
      "Prediction_local [0.38203157]\n",
      "Right: 0.023822423\n",
      "Intercept 1.273239142381944\n",
      "Prediction_local [0.61796844]\n",
      "Right: 0.9761776\n",
      "Number of superpixels: 64\n",
      "Annotating the superpixels...\n",
      "Weight of sp:  44 is:  0.12062918812409676\n",
      "Weight of sp:  60 is:  0.11624101583983652\n",
      "Weight of sp:  52 is:  0.0975976567592818\n",
      "Weight of sp:  20 is:  -0.048428895105360394\n",
      "Weight of sp:  48 is:  -0.042962881427867826\n",
      "Weight of sp:  45 is:  -0.03782965550743212\n",
      "Weight of sp:  50 is:  -0.03751485404230802\n",
      "Weight of sp:  25 is:  -0.03630956146221994\n",
      "Weight of sp:  6 is:  -0.03492942877352526\n",
      "Weight of sp:  35 is:  -0.03455549359439496\n",
      "Weight of sp:  46 is:  -0.033783705021351584\n",
      "Weight of sp:  19 is:  -0.032371403434896626\n",
      "Weight of sp:  53 is:  -0.03192674831277773\n",
      "Weight of sp:  62 is:  -0.031246963169838684\n",
      "Weight of sp:  8 is:  -0.031172173857148867\n",
      "Weight of sp:  30 is:  -0.029617373501363505\n",
      "Weight of sp:  54 is:  -0.02796596299281481\n",
      "Weight of sp:  58 is:  -0.027924779488283032\n",
      "Weight of sp:  38 is:  -0.027455568963252353\n",
      "Weight of sp:  41 is:  -0.025428569923107387\n",
      "Weight of sp:  32 is:  -0.024635208068304222\n",
      "Weight of sp:  59 is:  -0.024257455489728255\n",
      "Weight of sp:  9 is:  -0.024115001742074968\n",
      "Weight of sp:  2 is:  -0.023037273360690665\n",
      "Weight of sp:  37 is:  -0.022786671148777384\n",
      "Weight of sp:  61 is:  -0.02197880724632467\n",
      "Weight of sp:  12 is:  -0.021419193069590232\n",
      "Weight of sp:  21 is:  -0.021191811629176462\n",
      "Weight of sp:  31 is:  -0.019803432892232308\n",
      "Weight of sp:  22 is:  -0.019336716039723364\n",
      "Weight of sp:  63 is:  0.017222179067427918\n",
      "Weight of sp:  23 is:  -0.01644312063274254\n",
      "Weight of sp:  42 is:  -0.0163916093880211\n",
      "Weight of sp:  5 is:  -0.016296423544887785\n",
      "Weight of sp:  33 is:  -0.0160119300476056\n",
      "Weight of sp:  29 is:  -0.01563072716138471\n",
      "Weight of sp:  17 is:  -0.014631967378934982\n",
      "Weight of sp:  10 is:  -0.013788061043758256\n",
      "Weight of sp:  27 is:  -0.01284362002124664\n",
      "Weight of sp:  13 is:  -0.012791198902638825\n",
      "Weight of sp:  28 is:  -0.011614608640271853\n",
      "Weight of sp:  3 is:  -0.011262658230749126\n",
      "Weight of sp:  1 is:  -0.010990766810975997\n",
      "Weight of sp:  36 is:  0.008924814827186121\n",
      "Weight of sp:  56 is:  -0.008785286386473943\n",
      "Weight of sp:  16 is:  -0.008661249095984635\n",
      "Weight of sp:  55 is:  -0.008094159971506358\n",
      "Weight of sp:  14 is:  -0.007463170114798223\n",
      "Weight of sp:  49 is:  -0.00735241105977683\n",
      "Weight of sp:  57 is:  -0.005570751857480099\n",
      "Weight of sp:  34 is:  -0.005371245056921913\n",
      "Weight of sp:  39 is:  -0.005048678548988425\n",
      "Weight of sp:  43 is:  0.004979549216916313\n",
      "Weight of sp:  11 is:  -0.004882580971307672\n",
      "Weight of sp:  7 is:  0.004713609131484028\n",
      "Weight of sp:  0 is:  -0.004492225471114693\n",
      "Weight of sp:  40 is:  0.004470696112615683\n",
      "Weight of sp:  47 is:  -0.003767084895341603\n",
      "Weight of sp:  15 is:  0.0032161748068746383\n",
      "Weight of sp:  4 is:  0.002470856996029734\n",
      "Weight of sp:  18 is:  -0.002397346974858084\n",
      "Weight of sp:  51 is:  -0.0007469768075683687\n",
      "Weight of sp:  24 is:  -0.0002778146548146929\n",
      "Weight of sp:  26 is:  -0.00014317703271994546\n"
     ]
    }
   ],
   "source": [
    "annotated_image = la.annotate_image_parts(image, model, OUTPUT_DIR, N)"
   ]
  },
  {
   "cell_type": "markdown",
   "metadata": {},
   "source": [
    "Die Funktion findet auch die Bildteile, die laut LIME für die Klasse am wichtigsten sind. Wir können diese Teile sowohl für die positive als auch für die negative Klasse visualisieren.\n",
    "Das erste Bild zeigt die wichtigsten drei Features im Bild für die Klasse __Turm__, hier werden die drei Bauklötze erkannt.  "
   ]
  },
  {
   "cell_type": "code",
   "execution_count": 5,
   "metadata": {},
   "outputs": [
    {
     "data": {
      "text/plain": [
       "<matplotlib.image.AxesImage at 0x19da1aac0>"
      ]
     },
     "execution_count": 5,
     "metadata": {},
     "output_type": "execute_result"
    },
    {
     "data": {
      "image/png": "[encoded data removed]",
      "text/plain": [
       "<Figure size 432x288 with 1 Axes>"
      ]
     },
     "metadata": {
      "needs_background": "light"
     },
     "output_type": "display_data"
    }
   ],
   "source": [
    "true_class = 1\n",
    "\n",
    "temp, mask = annotated_image.explanation.get_image_and_mask(true_class, positive_only=True, num_features=3, hide_rest=True)\n",
    "plt.imshow(mark_boundaries(temp, mask))"
   ]
  },
  {
   "cell_type": "markdown",
   "metadata": {},
   "source": [
    "Das zweite Bild zeigt dazu konträr zur Klasse Turm drei Features, d.h. es werden drei Bereiche der Hintergrundfarbe identifiziert, die voneinander entfernt sind und nicht alle einander berühren wie die Bauklötze des Turms."
   ]
  },
  {
   "cell_type": "code",
   "execution_count": 6,
   "metadata": {},
   "outputs": [
    {
     "data": {
      "text/plain": [
       "<matplotlib.image.AxesImage at 0x19d9bcb80>"
      ]
     },
     "execution_count": 6,
     "metadata": {},
     "output_type": "execute_result"
    },
    {
     "data": {
      "image/png": "[encoded data removed]",
      "text/plain": [
       "<Figure size 432x288 with 1 Axes>"
      ]
     },
     "metadata": {
      "needs_background": "light"
     },
     "output_type": "display_data"
    }
   ],
   "source": [
    "negative_class = 0\n",
    "\n",
    "temp, mask = annotated_image.explanation.get_image_and_mask(negative_class, positive_only=True, num_features=3, hide_rest=True)\n",
    "plt.imshow(mark_boundaries(temp, mask))"
   ]
  },
  {
   "cell_type": "markdown",
   "metadata": {},
   "source": [
    "Nachdem das Bild nun annotiert ist, wollen wir nun die wichtigsten __3__ Bildelemente mit der Funktion __find_important_parts__ finden. "
   ]
  },
  {
   "cell_type": "code",
   "execution_count": 7,
   "metadata": {
    "scrolled": false
   },
   "outputs": [
    {
     "name": "stderr",
     "output_type": "stream",
     "text": [
      "Clipping input data to the valid range for imshow with RGB data ([0..1] for floats or [0..255] for integers).\n"
     ]
    },
    {
     "data": {
      "text/plain": [
       "<matplotlib.image.AxesImage at 0x19d9c8310>"
      ]
     },
     "execution_count": 7,
     "metadata": {},
     "output_type": "execute_result"
    },
    {
     "data": {
      "image/png": "[encoded data removed]",
      "text/plain": [
       "<Figure size 432x288 with 1 Axes>"
      ]
     },
     "metadata": {
      "needs_background": "light"
     },
     "output_type": "display_data"
    }
   ],
   "source": [
    "important_superpixels, labeled_image = la.find_important_parts(annotated_image, 3)\n",
    "\n",
    "plt.imshow(labeled_image)"
   ]
  },
  {
   "cell_type": "code",
   "execution_count": 22,
   "metadata": {},
   "outputs": [
    {
     "data": {
      "text/plain": [
       "[<lime_aleph.lime_aleph.Superpixel at 0x19d3583a0>,\n",
       " <lime_aleph.lime_aleph.Superpixel at 0x19d9e0df0>,\n",
       " <lime_aleph.lime_aleph.Superpixel at 0x19daaa610>]"
      ]
     },
     "execution_count": 22,
     "metadata": {},
     "output_type": "execute_result"
    }
   ],
   "source": [
    "important_superpixels"
   ]
  },
  {
   "cell_type": "markdown",
   "metadata": {},
   "source": [
    "Im Bild werden den Bereichen Zahlen d.h. Klassenidentifier zugeordnet. \n",
    "Anschließend können wir die Relationen zwischen diesen Bildteilen mit der Funktion __find_spatial_relations__ identifizieren und als Graph extrahieren. \n",
    "Dies geschieht über die Funktion __find_spatial_relations__, angewendet auf die wichtigen Bildteile (Objekt __important_superpixels__). "
   ]
  },
  {
   "cell_type": "code",
   "execution_count": 8,
   "metadata": {},
   "outputs": [],
   "source": [
    "relations, graph = la.find_spatial_relations(important_superpixels)"
   ]
  },
  {
   "cell_type": "markdown",
   "metadata": {},
   "source": [
    "Den Graph können wir nun mittels Graphviz visualisieren. \n",
    "Dieser beschreibt anhand binärer Relationen die topologischen Abhängigkeiten zwischen den einzelnen Objektklassen.\n",
    "Die Kanten und deren Label repräsentieren die räumlichen Relationen. "
   ]
  },
  {
   "cell_type": "code",
   "execution_count": 9,
   "metadata": {},
   "outputs": [
    {
     "data": {
      "image/svg+xml": [
       "<?xml version=\"1.0\" encoding=\"UTF-8\" standalone=\"no\"?>\n",
       "<!DOCTYPE svg PUBLIC \"-//W3C//DTD SVG 1.1//EN\"\n",
       " \"http://www.w3.org/Graphics/SVG/1.1/DTD/svg11.dtd\">\n",
       "<!-- Generated by graphviz version 2.46.0 (20210118.1747)\n",
       " -->\n",
       "<!-- Pages: 1 -->\n",
       "<svg width=\"427pt\" height=\"218pt\"\n",
       " viewBox=\"0.00 0.00 426.70 218.00\" xmlns=\"http://www.w3.org/2000/svg\" xmlns:xlink=\"http://www.w3.org/1999/xlink\">\n",
       "<g id=\"graph0\" class=\"graph\" transform=\"scale(1 1) rotate(0) translate(4 214)\">\n",
       "<polygon fill=\"white\" stroke=\"transparent\" points=\"-4,4 -4,-214 422.7,-214 422.7,4 -4,4\"/>\n",
       "<!-- 44 -->\n",
       "<g id=\"node1\" class=\"node\">\n",
       "<title>44</title>\n",
       "<ellipse fill=\"none\" stroke=\"darkturquoise\" cx=\"252.7\" cy=\"-192\" rx=\"27\" ry=\"18\"/>\n",
       "<text text-anchor=\"middle\" x=\"252.7\" y=\"-188.3\" font-family=\"Times,serif\" font-size=\"14.00\">44</text>\n",
       "</g>\n",
       "<!-- 60 -->\n",
       "<g id=\"node2\" class=\"node\">\n",
       "<title>60</title>\n",
       "<ellipse fill=\"none\" stroke=\"mediumblue\" cx=\"117.7\" cy=\"-105\" rx=\"27\" ry=\"18\"/>\n",
       "<text text-anchor=\"middle\" x=\"117.7\" y=\"-101.3\" font-family=\"Times,serif\" font-size=\"14.00\">60</text>\n",
       "</g>\n",
       "<!-- 44&#45;&gt;60 -->\n",
       "<g id=\"edge4\" class=\"edge\">\n",
       "<title>44&#45;&gt;60</title>\n",
       "<path fill=\"none\" stroke=\"black\" d=\"M226.11,-188.78C186.79,-184.89 116.09,-175.33 100.7,-156 94.77,-148.55 96.45,-138.91 100.55,-130.08\"/>\n",
       "<polygon fill=\"black\" stroke=\"black\" points=\"103.63,-131.74 105.47,-121.31 97.53,-128.32 103.63,-131.74\"/>\n",
       "<text text-anchor=\"middle\" x=\"118.7\" y=\"-144.8\" font-family=\"Times,serif\" font-size=\"14.00\">top_of</text>\n",
       "</g>\n",
       "<!-- 52 -->\n",
       "<g id=\"node3\" class=\"node\">\n",
       "<title>52</title>\n",
       "<ellipse fill=\"none\" stroke=\"lime\" cx=\"201.7\" cy=\"-18\" rx=\"27\" ry=\"18\"/>\n",
       "<text text-anchor=\"middle\" x=\"201.7\" y=\"-14.3\" font-family=\"Times,serif\" font-size=\"14.00\">52</text>\n",
       "</g>\n",
       "<!-- 44&#45;&gt;52 -->\n",
       "<g id=\"edge7\" class=\"edge\">\n",
       "<title>44&#45;&gt;52</title>\n",
       "<path fill=\"none\" stroke=\"black\" d=\"M247.72,-174.19C238.85,-144.27 220.24,-81.52 209.6,-45.65\"/>\n",
       "<polygon fill=\"black\" stroke=\"black\" points=\"212.9,-44.47 206.71,-35.87 206.19,-46.46 212.9,-44.47\"/>\n",
       "<text text-anchor=\"middle\" x=\"238.7\" y=\"-101.3\" font-family=\"Times,serif\" font-size=\"14.00\">on</text>\n",
       "</g>\n",
       "<!-- 44&#45;&gt;52 -->\n",
       "<g id=\"edge8\" class=\"edge\">\n",
       "<title>44&#45;&gt;52</title>\n",
       "<path fill=\"none\" stroke=\"black\" d=\"M255.25,-173.88C257.71,-152.8 259.74,-116.21 249.7,-87 243.94,-70.23 232.68,-53.92 222.51,-41.47\"/>\n",
       "<polygon fill=\"black\" stroke=\"black\" points=\"224.88,-38.86 215.72,-33.52 219.55,-43.4 224.88,-38.86\"/>\n",
       "<text text-anchor=\"middle\" x=\"273.7\" y=\"-101.3\" font-family=\"Times,serif\" font-size=\"14.00\">top_of</text>\n",
       "</g>\n",
       "<!-- 60&#45;&gt;44 -->\n",
       "<g id=\"edge1\" class=\"edge\">\n",
       "<title>60&#45;&gt;44</title>\n",
       "<path fill=\"none\" stroke=\"black\" d=\"M126.75,-122.4C133.48,-133.26 143.58,-147.09 155.7,-156 173.89,-169.36 197.68,-178.05 217.14,-183.43\"/>\n",
       "<polygon fill=\"black\" stroke=\"black\" points=\"216.32,-186.83 226.88,-185.94 218.07,-180.05 216.32,-186.83\"/>\n",
       "<text text-anchor=\"middle\" x=\"184.7\" y=\"-144.8\" font-family=\"Times,serif\" font-size=\"14.00\">bottom_of</text>\n",
       "</g>\n",
       "<!-- 60&#45;&gt;52 -->\n",
       "<g id=\"edge9\" class=\"edge\">\n",
       "<title>60&#45;&gt;52</title>\n",
       "<path fill=\"none\" stroke=\"black\" d=\"M91.13,-101.6C50.54,-96.93 -19.66,-84.29 5.7,-54 25.58,-30.26 113.63,-22.61 164.7,-20.15\"/>\n",
       "<polygon fill=\"black\" stroke=\"black\" points=\"164.85,-23.65 174.69,-19.71 164.55,-16.65 164.85,-23.65\"/>\n",
       "<text text-anchor=\"middle\" x=\"21.2\" y=\"-57.8\" font-family=\"Times,serif\" font-size=\"14.00\">under</text>\n",
       "</g>\n",
       "<!-- 60&#45;&gt;52 -->\n",
       "<g id=\"edge10\" class=\"edge\">\n",
       "<title>60&#45;&gt;52</title>\n",
       "<path fill=\"none\" stroke=\"black\" d=\"M95.77,-94.19C77.4,-84.6 55.92,-69.25 67.7,-54 79.57,-38.63 129.83,-28.72 165.29,-23.5\"/>\n",
       "<polygon fill=\"black\" stroke=\"black\" points=\"165.89,-26.95 175.31,-22.09 164.92,-20.02 165.89,-26.95\"/>\n",
       "<text text-anchor=\"middle\" x=\"96.7\" y=\"-57.8\" font-family=\"Times,serif\" font-size=\"14.00\">bottom_of</text>\n",
       "</g>\n",
       "<!-- 52&#45;&gt;44 -->\n",
       "<g id=\"edge2\" class=\"edge\">\n",
       "<title>52&#45;&gt;44</title>\n",
       "<path fill=\"none\" stroke=\"black\" d=\"M227.25,-24.04C257.26,-31.61 304.63,-49.28 317.7,-87 322.94,-102.12 322.94,-107.88 317.7,-123 310.71,-143.18 293.9,-160.49 279.12,-172.59\"/>\n",
       "<polygon fill=\"black\" stroke=\"black\" points=\"276.94,-169.86 271.2,-178.77 281.24,-175.38 276.94,-169.86\"/>\n",
       "<text text-anchor=\"middle\" x=\"336.2\" y=\"-101.3\" font-family=\"Times,serif\" font-size=\"14.00\">under</text>\n",
       "</g>\n",
       "<!-- 52&#45;&gt;44 -->\n",
       "<g id=\"edge3\" class=\"edge\">\n",
       "<title>52&#45;&gt;44</title>\n",
       "<path fill=\"none\" stroke=\"black\" d=\"M228.6,-20.95C266.28,-25.37 332.77,-39.82 355.7,-87 362.7,-101.39 362.43,-108.49 355.7,-123 342.57,-151.31 311.03,-169.42 286.29,-179.77\"/>\n",
       "<polygon fill=\"black\" stroke=\"black\" points=\"284.88,-176.57 276.86,-183.49 287.44,-183.08 284.88,-176.57\"/>\n",
       "<text text-anchor=\"middle\" x=\"389.7\" y=\"-101.3\" font-family=\"Times,serif\" font-size=\"14.00\">bottom_of</text>\n",
       "</g>\n",
       "<!-- 52&#45;&gt;60 -->\n",
       "<g id=\"edge5\" class=\"edge\">\n",
       "<title>52&#45;&gt;60</title>\n",
       "<path fill=\"none\" stroke=\"black\" d=\"M178.81,-27.99C166.26,-33.85 151.16,-42.55 140.7,-54 134.49,-60.79 129.7,-69.55 126.14,-77.84\"/>\n",
       "<polygon fill=\"black\" stroke=\"black\" points=\"122.86,-76.61 122.51,-87.2 129.39,-79.14 122.86,-76.61\"/>\n",
       "<text text-anchor=\"middle\" x=\"147.7\" y=\"-57.8\" font-family=\"Times,serif\" font-size=\"14.00\">on</text>\n",
       "</g>\n",
       "<!-- 52&#45;&gt;60 -->\n",
       "<g id=\"edge6\" class=\"edge\">\n",
       "<title>52&#45;&gt;60</title>\n",
       "<path fill=\"none\" stroke=\"black\" d=\"M188.35,-33.65C179.06,-43.74 166.31,-57.36 154.7,-69 150.11,-73.6 145.11,-78.45 140.31,-83.02\"/>\n",
       "<polygon fill=\"black\" stroke=\"black\" points=\"137.89,-80.49 133.02,-89.89 142.69,-85.58 137.89,-80.49\"/>\n",
       "<text text-anchor=\"middle\" x=\"186.7\" y=\"-57.8\" font-family=\"Times,serif\" font-size=\"14.00\">top_of</text>\n",
       "</g>\n",
       "</g>\n",
       "</svg>\n"
      ],
      "text/plain": [
       "<graphviz.dot.Digraph at 0x19dc054c0>"
      ]
     },
     "execution_count": 9,
     "metadata": {},
     "output_type": "execute_result"
    }
   ],
   "source": [
    "graph"
   ]
  },
  {
   "cell_type": "markdown",
   "metadata": {},
   "source": [
    "Diese Relationen können wir auch textuell ausgeben lassen: "
   ]
  },
  {
   "cell_type": "code",
   "execution_count": 10,
   "metadata": {
    "scrolled": true
   },
   "outputs": [
    {
     "name": "stdout",
     "output_type": "stream",
     "text": [
      "Relation: 60--bottom_of-->44\n",
      "Relation: 52--under-->44\n",
      "Relation: 52--bottom_of-->44\n",
      "Relation: 44--top_of-->60\n",
      "Relation: 52--on-->60\n",
      "Relation: 52--top_of-->60\n",
      "Relation: 44--on-->52\n",
      "Relation: 44--top_of-->52\n",
      "Relation: 60--under-->52\n",
      "Relation: 60--bottom_of-->52\n"
     ]
    }
   ],
   "source": [
    "for rel in relations:\n",
    "    print(rel)"
   ]
  },
  {
   "cell_type": "markdown",
   "metadata": {},
   "source": [
    "## Erzeugung perturbierter Instanzen\n",
    "Nun lassen wir uns das perturbierte Datenset für LIME-Aleph generieren. Hierzu nutzen wir die Funktion __perturb_instance__ mit den erforderlichen Parametern. Dabei geben wir im Anschluss auch aus, wie viele Instanzen im neuen Datenset enthalten sind (Liste der Instanzen)."
   ]
  },
  {
   "cell_type": "code",
   "execution_count": 11,
   "metadata": {},
   "outputs": [
    {
     "name": "stderr",
     "output_type": "stream",
     "text": [
      "/Users/sees/.virtualenvs/lime-aleph/lib/python3.8/site-packages/tensorflow/python/keras/engine/sequential.py:425: UserWarning: `model.predict_proba()` is deprecated and will be removed after 2021-01-01. Please use `model.predict()` instead.\n",
      "  warnings.warn('`model.predict_proba()` is deprecated and '\n"
     ]
    },
    {
     "name": "stdout",
     "output_type": "stream",
     "text": [
      "Number of perturbed instances: 11\n"
     ]
    }
   ],
   "source": [
    "perturbed_dataset = la.perturb_instance(annotated_image, relations, model, T)\n",
    "print(\"Number of perturbed instances:\", len(perturbed_dataset))"
   ]
  },
  {
   "cell_type": "markdown",
   "metadata": {},
   "source": [
    "Diese Instanzen können wir inspizieren und sehen dabei, dass positive und negative Beispiele generiert werden."
   ]
  },
  {
   "cell_type": "code",
   "execution_count": 23,
   "metadata": {},
   "outputs": [
    {
     "name": "stdout",
     "output_type": "stream",
     "text": [
      "Example: Positive: True,\n",
      "Superpixels:\n",
      "60, 44,\n",
      "52,\n",
      "\n",
      "Relations:\n",
      "Relation: 60--bottom_of-->44\n",
      ", Relation: 52--under-->44\n",
      ", Relation: 52--bottom_of-->44\n",
      ", Relation: 44--top_of-->60\n",
      ", Relation: 52--on-->60\n",
      ", Relation: 52--top_of-->60\n",
      ", Relation: 44--on-->52\n",
      ", Relation: 44--top_of-->52\n",
      ", Relation: 60--under-->52\n",
      ", Relation: 60--bottom_of-->52\n",
      "\n",
      "-------------------------------\n",
      "Example: Positive: False,\n",
      "Superpixels:\n",
      "60, 44,\n",
      "52,\n",
      "\n",
      "Relations:\n",
      "Relation: 44--bottom_of-->60\n",
      ", Relation: 52--under-->60\n",
      ", Relation: 52--bottom_of-->60\n",
      ", Relation: 60--top_of-->44\n",
      ", Relation: 52--on-->44\n",
      ", Relation: 52--top_of-->44\n",
      ", Relation: 60--on-->52\n",
      ", Relation: 60--top_of-->52\n",
      ", Relation: 44--under-->52\n",
      ", Relation: 44--bottom_of-->52\n",
      "\n",
      "-------------------------------\n",
      "Example: Positive: True,\n",
      "Superpixels:\n",
      "60, 44,\n",
      "52,\n",
      "\n",
      "Relations:\n",
      "Relation: 60--bottom_of-->52\n",
      ", Relation: 44--under-->52\n",
      ", Relation: 44--bottom_of-->52\n",
      ", Relation: 52--top_of-->60\n",
      ", Relation: 44--on-->60\n",
      ", Relation: 44--top_of-->60\n",
      ", Relation: 52--on-->44\n",
      ", Relation: 52--top_of-->44\n",
      ", Relation: 60--under-->44\n",
      ", Relation: 60--bottom_of-->44\n",
      "\n",
      "-------------------------------\n",
      "Example: Positive: True,\n",
      "Superpixels:\n",
      "60, 44,\n",
      "52,\n",
      "\n",
      "Relations:\n",
      "Relation: 60--bottom_of-->52\n",
      ", Relation: 44--under-->52\n",
      ", Relation: 44--bottom_of-->52\n",
      ", Relation: 52--top_of-->60\n",
      ", Relation: 44--on-->60\n",
      ", Relation: 44--top_of-->60\n",
      ", Relation: 52--on-->44\n",
      ", Relation: 52--top_of-->44\n",
      ", Relation: 60--under-->44\n",
      ", Relation: 60--bottom_of-->44\n",
      "\n",
      "-------------------------------\n",
      "Example: Positive: False,\n",
      "Superpixels:\n",
      "60, 44,\n",
      "52,\n",
      "\n",
      "Relations:\n",
      "Relation: 44--bottom_of-->60\n",
      ", Relation: 52--under-->60\n",
      ", Relation: 52--bottom_of-->60\n",
      ", Relation: 60--top_of-->44\n",
      ", Relation: 52--on-->44\n",
      ", Relation: 52--top_of-->44\n",
      ", Relation: 60--on-->52\n",
      ", Relation: 60--top_of-->52\n",
      ", Relation: 44--under-->52\n",
      ", Relation: 44--bottom_of-->52\n",
      "\n",
      "-------------------------------\n",
      "Example: Positive: False,\n",
      "Superpixels:\n",
      "60, 44,\n",
      "52,\n",
      "\n",
      "Relations:\n",
      "Relation: 52--bottom_of-->44\n",
      ", Relation: 60--under-->44\n",
      ", Relation: 60--bottom_of-->44\n",
      ", Relation: 44--top_of-->52\n",
      ", Relation: 60--on-->52\n",
      ", Relation: 60--top_of-->52\n",
      ", Relation: 44--on-->60\n",
      ", Relation: 44--top_of-->60\n",
      ", Relation: 52--under-->60\n",
      ", Relation: 52--bottom_of-->60\n",
      "\n",
      "-------------------------------\n",
      "Example: Positive: False,\n",
      "Superpixels:\n",
      "60, 44,\n",
      "52,\n",
      "\n",
      "Relations:\n",
      "Relation: 52--bottom_of-->44\n",
      ", Relation: 60--under-->44\n",
      ", Relation: 60--bottom_of-->44\n",
      ", Relation: 44--top_of-->52\n",
      ", Relation: 60--on-->52\n",
      ", Relation: 60--top_of-->52\n",
      ", Relation: 44--on-->60\n",
      ", Relation: 44--top_of-->60\n",
      ", Relation: 52--under-->60\n",
      ", Relation: 52--bottom_of-->60\n",
      "\n",
      "-------------------------------\n",
      "Example: Positive: True,\n",
      "Superpixels:\n",
      "60, 44,\n",
      "52,\n",
      "\n",
      "Relations:\n",
      "Relation: 60--bottom_of-->52\n",
      ", Relation: 44--under-->52\n",
      ", Relation: 44--bottom_of-->52\n",
      ", Relation: 52--top_of-->60\n",
      ", Relation: 44--on-->60\n",
      ", Relation: 44--top_of-->60\n",
      ", Relation: 52--on-->44\n",
      ", Relation: 52--top_of-->44\n",
      ", Relation: 60--under-->44\n",
      ", Relation: 60--bottom_of-->44\n",
      "\n",
      "-------------------------------\n",
      "Example: Positive: True,\n",
      "Superpixels:\n",
      "60, 44,\n",
      "52,\n",
      "\n",
      "Relations:\n",
      "Relation: 60--bottom_of-->52\n",
      ", Relation: 44--under-->52\n",
      ", Relation: 44--bottom_of-->52\n",
      ", Relation: 52--top_of-->60\n",
      ", Relation: 44--on-->60\n",
      ", Relation: 44--top_of-->60\n",
      ", Relation: 52--on-->44\n",
      ", Relation: 52--top_of-->44\n",
      ", Relation: 60--under-->44\n",
      ", Relation: 60--bottom_of-->44\n",
      "\n",
      "-------------------------------\n",
      "Example: Positive: False,\n",
      "Superpixels:\n",
      "60, 44,\n",
      "52,\n",
      "\n",
      "Relations:\n",
      "Relation: 52--bottom_of-->44\n",
      ", Relation: 60--under-->44\n",
      ", Relation: 60--bottom_of-->44\n",
      ", Relation: 44--top_of-->52\n",
      ", Relation: 60--on-->52\n",
      ", Relation: 60--top_of-->52\n",
      ", Relation: 44--on-->60\n",
      ", Relation: 44--top_of-->60\n",
      ", Relation: 52--under-->60\n",
      ", Relation: 52--bottom_of-->60\n",
      "\n",
      "-------------------------------\n",
      "Example: Positive: False,\n",
      "Superpixels:\n",
      "60, 44,\n",
      "52,\n",
      "\n",
      "Relations:\n",
      "Relation: 52--bottom_of-->44\n",
      ", Relation: 60--under-->44\n",
      ", Relation: 60--bottom_of-->44\n",
      ", Relation: 44--top_of-->52\n",
      ", Relation: 60--on-->52\n",
      ", Relation: 60--top_of-->52\n",
      ", Relation: 44--on-->60\n",
      ", Relation: 44--top_of-->60\n",
      ", Relation: 52--under-->60\n",
      ", Relation: 52--bottom_of-->60\n",
      "\n",
      "-------------------------------\n"
     ]
    }
   ],
   "source": [
    "for ex in perturbed_dataset:\n",
    "    print(ex)\n",
    "    print(\"-------------------------------\")"
   ]
  },
  {
   "cell_type": "code",
   "execution_count": 30,
   "metadata": {},
   "outputs": [],
   "source": [
    "ex1 = perturbed_dataset[1]\n",
    "ex1spxls = ex1.superpixels\n",
    "ex1rels = ex1.relations\n",
    "ex1spxls\n",
    "\n",
    "graph = la.draw_graphviz_from_relations(ex1.superpixels, ex1.relations)"
   ]
  },
  {
   "cell_type": "code",
   "execution_count": 31,
   "metadata": {},
   "outputs": [
    {
     "data": {
      "text/plain": [
       "44"
      ]
     },
     "execution_count": 31,
     "metadata": {},
     "output_type": "execute_result"
    }
   ],
   "source": [
    "ex1spxls[1]"
   ]
  },
  {
   "cell_type": "code",
   "execution_count": 32,
   "metadata": {},
   "outputs": [
    {
     "data": {
      "image/svg+xml": [
       "<?xml version=\"1.0\" encoding=\"UTF-8\" standalone=\"no\"?>\n",
       "<!DOCTYPE svg PUBLIC \"-//W3C//DTD SVG 1.1//EN\"\n",
       " \"http://www.w3.org/Graphics/SVG/1.1/DTD/svg11.dtd\">\n",
       "<!-- Generated by graphviz version 2.46.0 (20210118.1747)\n",
       " -->\n",
       "<!-- Pages: 1 -->\n",
       "<svg width=\"427pt\" height=\"218pt\"\n",
       " viewBox=\"0.00 0.00 426.70 218.00\" xmlns=\"http://www.w3.org/2000/svg\" xmlns:xlink=\"http://www.w3.org/1999/xlink\">\n",
       "<g id=\"graph0\" class=\"graph\" transform=\"scale(1 1) rotate(0) translate(4 214)\">\n",
       "<polygon fill=\"white\" stroke=\"transparent\" points=\"-4,4 -4,-214 422.7,-214 422.7,4 -4,4\"/>\n",
       "<!-- 60 -->\n",
       "<g id=\"node1\" class=\"node\">\n",
       "<title>60</title>\n",
       "<ellipse fill=\"none\" stroke=\"black\" cx=\"252.7\" cy=\"-192\" rx=\"27\" ry=\"18\"/>\n",
       "<text text-anchor=\"middle\" x=\"252.7\" y=\"-188.3\" font-family=\"Times,serif\" font-size=\"14.00\">60</text>\n",
       "</g>\n",
       "<!-- 44 -->\n",
       "<g id=\"node2\" class=\"node\">\n",
       "<title>44</title>\n",
       "<ellipse fill=\"none\" stroke=\"black\" cx=\"117.7\" cy=\"-105\" rx=\"27\" ry=\"18\"/>\n",
       "<text text-anchor=\"middle\" x=\"117.7\" y=\"-101.3\" font-family=\"Times,serif\" font-size=\"14.00\">44</text>\n",
       "</g>\n",
       "<!-- 60&#45;&gt;44 -->\n",
       "<g id=\"edge4\" class=\"edge\">\n",
       "<title>60&#45;&gt;44</title>\n",
       "<path fill=\"none\" stroke=\"black\" d=\"M226.11,-188.78C186.79,-184.89 116.09,-175.33 100.7,-156 94.77,-148.55 96.45,-138.91 100.55,-130.08\"/>\n",
       "<polygon fill=\"black\" stroke=\"black\" points=\"103.63,-131.74 105.47,-121.31 97.53,-128.32 103.63,-131.74\"/>\n",
       "<text text-anchor=\"middle\" x=\"118.7\" y=\"-144.8\" font-family=\"Times,serif\" font-size=\"14.00\">top_of</text>\n",
       "</g>\n",
       "<!-- 52 -->\n",
       "<g id=\"node3\" class=\"node\">\n",
       "<title>52</title>\n",
       "<ellipse fill=\"none\" stroke=\"black\" cx=\"201.7\" cy=\"-18\" rx=\"27\" ry=\"18\"/>\n",
       "<text text-anchor=\"middle\" x=\"201.7\" y=\"-14.3\" font-family=\"Times,serif\" font-size=\"14.00\">52</text>\n",
       "</g>\n",
       "<!-- 60&#45;&gt;52 -->\n",
       "<g id=\"edge7\" class=\"edge\">\n",
       "<title>60&#45;&gt;52</title>\n",
       "<path fill=\"none\" stroke=\"black\" d=\"M247.72,-174.19C238.85,-144.27 220.24,-81.52 209.6,-45.65\"/>\n",
       "<polygon fill=\"black\" stroke=\"black\" points=\"212.9,-44.47 206.71,-35.87 206.19,-46.46 212.9,-44.47\"/>\n",
       "<text text-anchor=\"middle\" x=\"238.7\" y=\"-101.3\" font-family=\"Times,serif\" font-size=\"14.00\">on</text>\n",
       "</g>\n",
       "<!-- 60&#45;&gt;52 -->\n",
       "<g id=\"edge8\" class=\"edge\">\n",
       "<title>60&#45;&gt;52</title>\n",
       "<path fill=\"none\" stroke=\"black\" d=\"M255.25,-173.88C257.71,-152.8 259.74,-116.21 249.7,-87 243.94,-70.23 232.68,-53.92 222.51,-41.47\"/>\n",
       "<polygon fill=\"black\" stroke=\"black\" points=\"224.88,-38.86 215.72,-33.52 219.55,-43.4 224.88,-38.86\"/>\n",
       "<text text-anchor=\"middle\" x=\"273.7\" y=\"-101.3\" font-family=\"Times,serif\" font-size=\"14.00\">top_of</text>\n",
       "</g>\n",
       "<!-- 44&#45;&gt;60 -->\n",
       "<g id=\"edge1\" class=\"edge\">\n",
       "<title>44&#45;&gt;60</title>\n",
       "<path fill=\"none\" stroke=\"black\" d=\"M126.75,-122.4C133.48,-133.26 143.58,-147.09 155.7,-156 173.89,-169.36 197.68,-178.05 217.14,-183.43\"/>\n",
       "<polygon fill=\"black\" stroke=\"black\" points=\"216.32,-186.83 226.88,-185.94 218.07,-180.05 216.32,-186.83\"/>\n",
       "<text text-anchor=\"middle\" x=\"184.7\" y=\"-144.8\" font-family=\"Times,serif\" font-size=\"14.00\">bottom_of</text>\n",
       "</g>\n",
       "<!-- 44&#45;&gt;52 -->\n",
       "<g id=\"edge9\" class=\"edge\">\n",
       "<title>44&#45;&gt;52</title>\n",
       "<path fill=\"none\" stroke=\"black\" d=\"M91.13,-101.6C50.54,-96.93 -19.66,-84.29 5.7,-54 25.58,-30.26 113.63,-22.61 164.7,-20.15\"/>\n",
       "<polygon fill=\"black\" stroke=\"black\" points=\"164.85,-23.65 174.69,-19.71 164.55,-16.65 164.85,-23.65\"/>\n",
       "<text text-anchor=\"middle\" x=\"21.2\" y=\"-57.8\" font-family=\"Times,serif\" font-size=\"14.00\">under</text>\n",
       "</g>\n",
       "<!-- 44&#45;&gt;52 -->\n",
       "<g id=\"edge10\" class=\"edge\">\n",
       "<title>44&#45;&gt;52</title>\n",
       "<path fill=\"none\" stroke=\"black\" d=\"M95.77,-94.19C77.4,-84.6 55.92,-69.25 67.7,-54 79.57,-38.63 129.83,-28.72 165.29,-23.5\"/>\n",
       "<polygon fill=\"black\" stroke=\"black\" points=\"165.89,-26.95 175.31,-22.09 164.92,-20.02 165.89,-26.95\"/>\n",
       "<text text-anchor=\"middle\" x=\"96.7\" y=\"-57.8\" font-family=\"Times,serif\" font-size=\"14.00\">bottom_of</text>\n",
       "</g>\n",
       "<!-- 52&#45;&gt;60 -->\n",
       "<g id=\"edge2\" class=\"edge\">\n",
       "<title>52&#45;&gt;60</title>\n",
       "<path fill=\"none\" stroke=\"black\" d=\"M227.25,-24.04C257.26,-31.61 304.63,-49.28 317.7,-87 322.94,-102.12 322.94,-107.88 317.7,-123 310.71,-143.18 293.9,-160.49 279.12,-172.59\"/>\n",
       "<polygon fill=\"black\" stroke=\"black\" points=\"276.94,-169.86 271.2,-178.77 281.24,-175.38 276.94,-169.86\"/>\n",
       "<text text-anchor=\"middle\" x=\"336.2\" y=\"-101.3\" font-family=\"Times,serif\" font-size=\"14.00\">under</text>\n",
       "</g>\n",
       "<!-- 52&#45;&gt;60 -->\n",
       "<g id=\"edge3\" class=\"edge\">\n",
       "<title>52&#45;&gt;60</title>\n",
       "<path fill=\"none\" stroke=\"black\" d=\"M228.6,-20.95C266.28,-25.37 332.77,-39.82 355.7,-87 362.7,-101.39 362.43,-108.49 355.7,-123 342.57,-151.31 311.03,-169.42 286.29,-179.77\"/>\n",
       "<polygon fill=\"black\" stroke=\"black\" points=\"284.88,-176.57 276.86,-183.49 287.44,-183.08 284.88,-176.57\"/>\n",
       "<text text-anchor=\"middle\" x=\"389.7\" y=\"-101.3\" font-family=\"Times,serif\" font-size=\"14.00\">bottom_of</text>\n",
       "</g>\n",
       "<!-- 52&#45;&gt;44 -->\n",
       "<g id=\"edge5\" class=\"edge\">\n",
       "<title>52&#45;&gt;44</title>\n",
       "<path fill=\"none\" stroke=\"black\" d=\"M178.81,-27.99C166.26,-33.85 151.16,-42.55 140.7,-54 134.49,-60.79 129.7,-69.55 126.14,-77.84\"/>\n",
       "<polygon fill=\"black\" stroke=\"black\" points=\"122.86,-76.61 122.51,-87.2 129.39,-79.14 122.86,-76.61\"/>\n",
       "<text text-anchor=\"middle\" x=\"147.7\" y=\"-57.8\" font-family=\"Times,serif\" font-size=\"14.00\">on</text>\n",
       "</g>\n",
       "<!-- 52&#45;&gt;44 -->\n",
       "<g id=\"edge6\" class=\"edge\">\n",
       "<title>52&#45;&gt;44</title>\n",
       "<path fill=\"none\" stroke=\"black\" d=\"M188.35,-33.65C179.06,-43.74 166.31,-57.36 154.7,-69 150.11,-73.6 145.11,-78.45 140.31,-83.02\"/>\n",
       "<polygon fill=\"black\" stroke=\"black\" points=\"137.89,-80.49 133.02,-89.89 142.69,-85.58 137.89,-80.49\"/>\n",
       "<text text-anchor=\"middle\" x=\"186.7\" y=\"-57.8\" font-family=\"Times,serif\" font-size=\"14.00\">top_of</text>\n",
       "</g>\n",
       "</g>\n",
       "</svg>\n"
      ],
      "text/plain": [
       "<graphviz.dot.Digraph at 0x19e1c5dc0>"
      ]
     },
     "execution_count": 32,
     "metadata": {},
     "output_type": "execute_result"
    }
   ],
   "source": [
    "graph"
   ]
  },
  {
   "cell_type": "code",
   "execution_count": 27,
   "metadata": {},
   "outputs": [
    {
     "name": "stderr",
     "output_type": "stream",
     "text": [
      "Clipping input data to the valid range for imshow with RGB data ([0..1] for floats or [0..255] for integers).\n"
     ]
    },
    {
     "data": {
      "image/png": "[encoded data removed]",
      "text/plain": [
       "<Figure size 432x288 with 1 Axes>"
      ]
     },
     "metadata": {
      "needs_background": "light"
     },
     "output_type": "display_data"
    },
    {
     "name": "stderr",
     "output_type": "stream",
     "text": [
      "Clipping input data to the valid range for imshow with RGB data ([0..1] for floats or [0..255] for integers).\n"
     ]
    },
    {
     "name": "stdout",
     "output_type": "stream",
     "text": [
      "Relations:\n",
      "Relation: 60--bottom_of-->44\n",
      "Relation: 52--under-->44\n",
      "Relation: 52--bottom_of-->44\n",
      "Relation: 44--top_of-->60\n",
      "Relation: 52--on-->60\n",
      "Relation: 52--top_of-->60\n",
      "Relation: 44--on-->52\n",
      "Relation: 44--top_of-->52\n",
      "Relation: 60--under-->52\n",
      "Relation: 60--bottom_of-->52\n",
      "-------------------------------\n"
     ]
    },
    {
     "data": {
      "image/png": "[encoded data removed]",
      "text/plain": [
       "<Figure size 432x288 with 1 Axes>"
      ]
     },
     "metadata": {
      "needs_background": "light"
     },
     "output_type": "display_data"
    },
    {
     "name": "stderr",
     "output_type": "stream",
     "text": [
      "Clipping input data to the valid range for imshow with RGB data ([0..1] for floats or [0..255] for integers).\n"
     ]
    },
    {
     "name": "stdout",
     "output_type": "stream",
     "text": [
      "Relations:\n",
      "Relation: 60--bottom_of-->52\n",
      "Relation: 44--under-->52\n",
      "Relation: 44--bottom_of-->52\n",
      "Relation: 52--top_of-->60\n",
      "Relation: 44--on-->60\n",
      "Relation: 44--top_of-->60\n",
      "Relation: 52--on-->44\n",
      "Relation: 52--top_of-->44\n",
      "Relation: 60--under-->44\n",
      "Relation: 60--bottom_of-->44\n",
      "-------------------------------\n"
     ]
    },
    {
     "data": {
      "image/png": "[encoded data removed]",
      "text/plain": [
       "<Figure size 432x288 with 1 Axes>"
      ]
     },
     "metadata": {
      "needs_background": "light"
     },
     "output_type": "display_data"
    },
    {
     "name": "stderr",
     "output_type": "stream",
     "text": [
      "Clipping input data to the valid range for imshow with RGB data ([0..1] for floats or [0..255] for integers).\n"
     ]
    },
    {
     "name": "stdout",
     "output_type": "stream",
     "text": [
      "Relations:\n",
      "Relation: 60--bottom_of-->52\n",
      "Relation: 44--under-->52\n",
      "Relation: 44--bottom_of-->52\n",
      "Relation: 52--top_of-->60\n",
      "Relation: 44--on-->60\n",
      "Relation: 44--top_of-->60\n",
      "Relation: 52--on-->44\n",
      "Relation: 52--top_of-->44\n",
      "Relation: 60--under-->44\n",
      "Relation: 60--bottom_of-->44\n",
      "-------------------------------\n"
     ]
    },
    {
     "data": {
      "image/png": "[encoded data removed]",
      "text/plain": [
       "<Figure size 432x288 with 1 Axes>"
      ]
     },
     "metadata": {
      "needs_background": "light"
     },
     "output_type": "display_data"
    },
    {
     "name": "stderr",
     "output_type": "stream",
     "text": [
      "Clipping input data to the valid range for imshow with RGB data ([0..1] for floats or [0..255] for integers).\n"
     ]
    },
    {
     "name": "stdout",
     "output_type": "stream",
     "text": [
      "Relations:\n",
      "Relation: 60--bottom_of-->52\n",
      "Relation: 44--under-->52\n",
      "Relation: 44--bottom_of-->52\n",
      "Relation: 52--top_of-->60\n",
      "Relation: 44--on-->60\n",
      "Relation: 44--top_of-->60\n",
      "Relation: 52--on-->44\n",
      "Relation: 52--top_of-->44\n",
      "Relation: 60--under-->44\n",
      "Relation: 60--bottom_of-->44\n",
      "-------------------------------\n"
     ]
    },
    {
     "data": {
      "image/png": "[encoded data removed]",
      "text/plain": [
       "<Figure size 432x288 with 1 Axes>"
      ]
     },
     "metadata": {
      "needs_background": "light"
     },
     "output_type": "display_data"
    },
    {
     "name": "stdout",
     "output_type": "stream",
     "text": [
      "Relations:\n",
      "Relation: 60--bottom_of-->52\n",
      "Relation: 44--under-->52\n",
      "Relation: 44--bottom_of-->52\n",
      "Relation: 52--top_of-->60\n",
      "Relation: 44--on-->60\n",
      "Relation: 44--top_of-->60\n",
      "Relation: 52--on-->44\n",
      "Relation: 52--top_of-->44\n",
      "Relation: 60--under-->44\n",
      "Relation: 60--bottom_of-->44\n",
      "-------------------------------\n"
     ]
    }
   ],
   "source": [
    "for ex in perturbed_dataset:\n",
    "    if ex.positive:\n",
    "        plt.imshow(ex.labeled_image)\n",
    "        plt.show()\n",
    "        print(\"Relations:\")\n",
    "        for r in ex.relations:\n",
    "            print(r)\n",
    "        print(\"-------------------------------\")"
   ]
  },
  {
   "cell_type": "markdown",
   "metadata": {},
   "source": [
    "Jetzt visualisieren wir noch alle Instanzen aus dem perturbierten Datenset. Erst die positiven Instanzen für die die Klasse Turm weiterhin gilt:"
   ]
  },
  {
   "cell_type": "code",
   "execution_count": 28,
   "metadata": {
    "scrolled": false
   },
   "outputs": [
    {
     "name": "stderr",
     "output_type": "stream",
     "text": [
      "Clipping input data to the valid range for imshow with RGB data ([0..1] for floats or [0..255] for integers).\n"
     ]
    },
    {
     "data": {
      "image/png": "[encoded data removed]",
      "text/plain": [
       "<Figure size 432x288 with 1 Axes>"
      ]
     },
     "metadata": {
      "needs_background": "light"
     },
     "output_type": "display_data"
    },
    {
     "name": "stderr",
     "output_type": "stream",
     "text": [
      "Clipping input data to the valid range for imshow with RGB data ([0..1] for floats or [0..255] for integers).\n"
     ]
    },
    {
     "name": "stdout",
     "output_type": "stream",
     "text": [
      "Relations:\n",
      "Relation: 60--bottom_of-->44\n",
      "Relation: 52--under-->44\n",
      "Relation: 52--bottom_of-->44\n",
      "Relation: 44--top_of-->60\n",
      "Relation: 52--on-->60\n",
      "Relation: 52--top_of-->60\n",
      "Relation: 44--on-->52\n",
      "Relation: 44--top_of-->52\n",
      "Relation: 60--under-->52\n",
      "Relation: 60--bottom_of-->52\n",
      "-------------------------------\n"
     ]
    },
    {
     "data": {
      "image/png": "[encoded data removed]",
      "text/plain": [
       "<Figure size 432x288 with 1 Axes>"
      ]
     },
     "metadata": {
      "needs_background": "light"
     },
     "output_type": "display_data"
    },
    {
     "name": "stderr",
     "output_type": "stream",
     "text": [
      "Clipping input data to the valid range for imshow with RGB data ([0..1] for floats or [0..255] for integers).\n"
     ]
    },
    {
     "name": "stdout",
     "output_type": "stream",
     "text": [
      "Relations:\n",
      "Relation: 60--bottom_of-->52\n",
      "Relation: 44--under-->52\n",
      "Relation: 44--bottom_of-->52\n",
      "Relation: 52--top_of-->60\n",
      "Relation: 44--on-->60\n",
      "Relation: 44--top_of-->60\n",
      "Relation: 52--on-->44\n",
      "Relation: 52--top_of-->44\n",
      "Relation: 60--under-->44\n",
      "Relation: 60--bottom_of-->44\n",
      "-------------------------------\n"
     ]
    },
    {
     "data": {
      "image/png": "[encoded data removed]",
      "text/plain": [
       "<Figure size 432x288 with 1 Axes>"
      ]
     },
     "metadata": {
      "needs_background": "light"
     },
     "output_type": "display_data"
    },
    {
     "name": "stderr",
     "output_type": "stream",
     "text": [
      "Clipping input data to the valid range for imshow with RGB data ([0..1] for floats or [0..255] for integers).\n"
     ]
    },
    {
     "name": "stdout",
     "output_type": "stream",
     "text": [
      "Relations:\n",
      "Relation: 60--bottom_of-->52\n",
      "Relation: 44--under-->52\n",
      "Relation: 44--bottom_of-->52\n",
      "Relation: 52--top_of-->60\n",
      "Relation: 44--on-->60\n",
      "Relation: 44--top_of-->60\n",
      "Relation: 52--on-->44\n",
      "Relation: 52--top_of-->44\n",
      "Relation: 60--under-->44\n",
      "Relation: 60--bottom_of-->44\n",
      "-------------------------------\n"
     ]
    },
    {
     "data": {
      "image/png": "[encoded data removed]",
      "text/plain": [
       "<Figure size 432x288 with 1 Axes>"
      ]
     },
     "metadata": {
      "needs_background": "light"
     },
     "output_type": "display_data"
    },
    {
     "name": "stderr",
     "output_type": "stream",
     "text": [
      "Clipping input data to the valid range for imshow with RGB data ([0..1] for floats or [0..255] for integers).\n"
     ]
    },
    {
     "name": "stdout",
     "output_type": "stream",
     "text": [
      "Relations:\n",
      "Relation: 60--bottom_of-->52\n",
      "Relation: 44--under-->52\n",
      "Relation: 44--bottom_of-->52\n",
      "Relation: 52--top_of-->60\n",
      "Relation: 44--on-->60\n",
      "Relation: 44--top_of-->60\n",
      "Relation: 52--on-->44\n",
      "Relation: 52--top_of-->44\n",
      "Relation: 60--under-->44\n",
      "Relation: 60--bottom_of-->44\n",
      "-------------------------------\n"
     ]
    },
    {
     "data": {
      "image/png": "[encoded data removed]",
      "text/plain": [
       "<Figure size 432x288 with 1 Axes>"
      ]
     },
     "metadata": {
      "needs_background": "light"
     },
     "output_type": "display_data"
    },
    {
     "name": "stdout",
     "output_type": "stream",
     "text": [
      "Relations:\n",
      "Relation: 60--bottom_of-->52\n",
      "Relation: 44--under-->52\n",
      "Relation: 44--bottom_of-->52\n",
      "Relation: 52--top_of-->60\n",
      "Relation: 44--on-->60\n",
      "Relation: 44--top_of-->60\n",
      "Relation: 52--on-->44\n",
      "Relation: 52--top_of-->44\n",
      "Relation: 60--under-->44\n",
      "Relation: 60--bottom_of-->44\n",
      "-------------------------------\n"
     ]
    }
   ],
   "source": [
    "for ex in perturbed_dataset:\n",
    "    if ex.positive:\n",
    "        plt.imshow(ex.labeled_image)\n",
    "        plt.show()\n",
    "        print(\"Relations:\")\n",
    "        for r in ex.relations:\n",
    "            print(r)\n",
    "        print(\"-------------------------------\")"
   ]
  },
  {
   "cell_type": "markdown",
   "metadata": {},
   "source": [
    "Und nun alle negativen Instanzen, für die die Klasse Turm nicht mehr gilt:"
   ]
  },
  {
   "cell_type": "code",
   "execution_count": 29,
   "metadata": {
    "scrolled": false
   },
   "outputs": [
    {
     "name": "stderr",
     "output_type": "stream",
     "text": [
      "Clipping input data to the valid range for imshow with RGB data ([0..1] for floats or [0..255] for integers).\n"
     ]
    },
    {
     "data": {
      "image/png": "[encoded data removed]",
      "text/plain": [
       "<Figure size 432x288 with 1 Axes>"
      ]
     },
     "metadata": {
      "needs_background": "light"
     },
     "output_type": "display_data"
    },
    {
     "name": "stderr",
     "output_type": "stream",
     "text": [
      "Clipping input data to the valid range for imshow with RGB data ([0..1] for floats or [0..255] for integers).\n"
     ]
    },
    {
     "name": "stdout",
     "output_type": "stream",
     "text": [
      "Relations:\n",
      "Relation: 44--bottom_of-->60\n",
      "Relation: 52--under-->60\n",
      "Relation: 52--bottom_of-->60\n",
      "Relation: 60--top_of-->44\n",
      "Relation: 52--on-->44\n",
      "Relation: 52--top_of-->44\n",
      "Relation: 60--on-->52\n",
      "Relation: 60--top_of-->52\n",
      "Relation: 44--under-->52\n",
      "Relation: 44--bottom_of-->52\n",
      "-------------------------------\n"
     ]
    },
    {
     "data": {
      "image/png": "[encoded data removed]",
      "text/plain": [
       "<Figure size 432x288 with 1 Axes>"
      ]
     },
     "metadata": {
      "needs_background": "light"
     },
     "output_type": "display_data"
    },
    {
     "name": "stderr",
     "output_type": "stream",
     "text": [
      "Clipping input data to the valid range for imshow with RGB data ([0..1] for floats or [0..255] for integers).\n"
     ]
    },
    {
     "name": "stdout",
     "output_type": "stream",
     "text": [
      "Relations:\n",
      "Relation: 44--bottom_of-->60\n",
      "Relation: 52--under-->60\n",
      "Relation: 52--bottom_of-->60\n",
      "Relation: 60--top_of-->44\n",
      "Relation: 52--on-->44\n",
      "Relation: 52--top_of-->44\n",
      "Relation: 60--on-->52\n",
      "Relation: 60--top_of-->52\n",
      "Relation: 44--under-->52\n",
      "Relation: 44--bottom_of-->52\n",
      "-------------------------------\n"
     ]
    },
    {
     "data": {
      "image/png": "[encoded data removed]",
      "text/plain": [
       "<Figure size 432x288 with 1 Axes>"
      ]
     },
     "metadata": {
      "needs_background": "light"
     },
     "output_type": "display_data"
    },
    {
     "name": "stderr",
     "output_type": "stream",
     "text": [
      "Clipping input data to the valid range for imshow with RGB data ([0..1] for floats or [0..255] for integers).\n"
     ]
    },
    {
     "name": "stdout",
     "output_type": "stream",
     "text": [
      "Relations:\n",
      "Relation: 52--bottom_of-->44\n",
      "Relation: 60--under-->44\n",
      "Relation: 60--bottom_of-->44\n",
      "Relation: 44--top_of-->52\n",
      "Relation: 60--on-->52\n",
      "Relation: 60--top_of-->52\n",
      "Relation: 44--on-->60\n",
      "Relation: 44--top_of-->60\n",
      "Relation: 52--under-->60\n",
      "Relation: 52--bottom_of-->60\n",
      "-------------------------------\n"
     ]
    },
    {
     "data": {
      "image/png": "[encoded data removed]",
      "text/plain": [
       "<Figure size 432x288 with 1 Axes>"
      ]
     },
     "metadata": {
      "needs_background": "light"
     },
     "output_type": "display_data"
    },
    {
     "name": "stderr",
     "output_type": "stream",
     "text": [
      "Clipping input data to the valid range for imshow with RGB data ([0..1] for floats or [0..255] for integers).\n"
     ]
    },
    {
     "name": "stdout",
     "output_type": "stream",
     "text": [
      "Relations:\n",
      "Relation: 52--bottom_of-->44\n",
      "Relation: 60--under-->44\n",
      "Relation: 60--bottom_of-->44\n",
      "Relation: 44--top_of-->52\n",
      "Relation: 60--on-->52\n",
      "Relation: 60--top_of-->52\n",
      "Relation: 44--on-->60\n",
      "Relation: 44--top_of-->60\n",
      "Relation: 52--under-->60\n",
      "Relation: 52--bottom_of-->60\n",
      "-------------------------------\n"
     ]
    },
    {
     "data": {
      "image/png": "[encoded data removed]",
      "text/plain": [
       "<Figure size 432x288 with 1 Axes>"
      ]
     },
     "metadata": {
      "needs_background": "light"
     },
     "output_type": "display_data"
    },
    {
     "name": "stderr",
     "output_type": "stream",
     "text": [
      "Clipping input data to the valid range for imshow with RGB data ([0..1] for floats or [0..255] for integers).\n"
     ]
    },
    {
     "name": "stdout",
     "output_type": "stream",
     "text": [
      "Relations:\n",
      "Relation: 52--bottom_of-->44\n",
      "Relation: 60--under-->44\n",
      "Relation: 60--bottom_of-->44\n",
      "Relation: 44--top_of-->52\n",
      "Relation: 60--on-->52\n",
      "Relation: 60--top_of-->52\n",
      "Relation: 44--on-->60\n",
      "Relation: 44--top_of-->60\n",
      "Relation: 52--under-->60\n",
      "Relation: 52--bottom_of-->60\n",
      "-------------------------------\n"
     ]
    },
    {
     "data": {
      "image/png": "[encoded data removed]",
      "text/plain": [
       "<Figure size 432x288 with 1 Axes>"
      ]
     },
     "metadata": {
      "needs_background": "light"
     },
     "output_type": "display_data"
    },
    {
     "name": "stdout",
     "output_type": "stream",
     "text": [
      "Relations:\n",
      "Relation: 52--bottom_of-->44\n",
      "Relation: 60--under-->44\n",
      "Relation: 60--bottom_of-->44\n",
      "Relation: 44--top_of-->52\n",
      "Relation: 60--on-->52\n",
      "Relation: 60--top_of-->52\n",
      "Relation: 44--on-->60\n",
      "Relation: 44--top_of-->60\n",
      "Relation: 52--under-->60\n",
      "Relation: 52--bottom_of-->60\n",
      "-------------------------------\n"
     ]
    }
   ],
   "source": [
    "for ex in perturbed_dataset:\n",
    "    if not ex.positive:\n",
    "        plt.imshow(ex.labeled_image)\n",
    "        plt.show()\n",
    "        print(\"Relations:\")\n",
    "        for r in ex.relations:\n",
    "            print(r)\n",
    "        print(\"-------------------------------\")"
   ]
  },
  {
   "cell_type": "markdown",
   "metadata": {},
   "source": [
    "Das ILP-Framework Aleph benötigt mehrere Hilfsdateien, die mit der Funktion __write_aleph_files__ erzeugt werden. \n",
    "Es sollen alle räumlichen Relationen verwendet werden! Zur Verfügung stehen folgende Relationen: *left_of*, *right_of*, *top_of*, *bottom_of*, *on*, *under*"
   ]
  },
  {
   "cell_type": "code",
   "execution_count": null,
   "metadata": {},
   "outputs": [],
   "source": [
    "used_relations = None # 'None' if you want to allow all relations, otherwise list with following possibilities: [\"left_of\", \"right_of\", \"top_of\", \"bottom_of\", \"on\", \"under\"]\n",
    "la.write_aleph_files(annotated_image, perturbed_dataset, used_relations, OUTPUT_DIR, NOISE)"
   ]
  },
  {
   "cell_type": "markdown",
   "metadata": {},
   "source": [
    "Schlussendlich muss nun der Induktionsprozess von Aleph angestoßen werden. Dieser Schritt (mit der Funktion __run_aleph__) gibt auch die gefundene Erklärung zurück:"
   ]
  },
  {
   "cell_type": "code",
   "execution_count": null,
   "metadata": {
    "scrolled": true
   },
   "outputs": [],
   "source": [
    "la.run_aleph(OUTPUT_DIR)"
   ]
  },
  {
   "cell_type": "markdown",
   "metadata": {},
   "source": [
    "Die Erklärung in Form von Regeln findet sich nun im angegebenen Ordner in der Datei *explanation.txt*. \n",
    "Wir lesen diese Datei aus und stellen die Regel in Form einer Prolog-Regel dar."
   ]
  },
  {
   "cell_type": "code",
   "execution_count": null,
   "metadata": {
    "scrolled": true
   },
   "outputs": [],
   "source": [
    "with open(OUTPUT_DIR + \"explanation.txt\", 'r') as f:\n",
    "    print(f.read())"
   ]
  },
  {
   "cell_type": "markdown",
   "metadata": {},
   "source": [
    "## Interpretation\n",
    "Die Interpretation der Regel wollen wir im Folgenden an einem Beispiel darstellen. \n",
    "\n",
    "true_class(A) :-\n",
    "   contains(B,A), has_color(B,mediumblue), contains(C,A), has_color(C,lime), \n",
    "   top_of_in_ex(C,B,A).\n",
    "\n",
    "Die Lesart der Regel ist wie folgt. Das Prädikat __true_class(A)__ entspricht der Aussage _\"A ist ein Turm\"_ und gilt wenn folgende Aussagen logisch wahr sind:\n",
    "* der Turm A enthällt einen Bauklotz B, \n",
    "* Bauklotz B hat die Farbe Blau (__mediumblue__),\n",
    "* der Turm A enthält auch einen Bauklotz C,\n",
    "* der Bauklotz C hat die Farbe Grün (__lime__), und \n",
    "* C befindet sich in Relation __top_of__ zu B, d.h. C steht räumlich auf B.\n"
   ]
  }
 ],
 "metadata": {
  "kernelspec": {
   "display_name": "Python 3",
   "language": "python",
   "name": "python3"
  },
  "language_info": {
   "codemirror_mode": {
    "name": "ipython",
    "version": 3
   },
   "file_extension": ".py",
   "mimetype": "text/x-python",
   "name": "python",
   "nbconvert_exporter": "python",
   "pygments_lexer": "ipython3",
   "version": "3.8.3"
  }
 },
 "nbformat": 4,
 "nbformat_minor": 4
}
