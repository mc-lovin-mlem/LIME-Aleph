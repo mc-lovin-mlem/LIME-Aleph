{
 "cells": [
  {
   "cell_type": "markdown",
   "metadata": {},
   "source": [
    "# LIME-Aleph\n",
    "\n",
    "Willkommen zum Beispiel für das Modul __LIME-Aleph__ im KI-Campus. Hier werden Sie den typischen Ablauf zum Finden einer symbolischen Erklärung für Black-Box Netzwerke mithilfe der LIME-Aleph Bibliothek beschreiben."
   ]
  },
  {
   "cell_type": "markdown",
   "metadata": {},
   "source": [
    "__Hinweis__: Bitte setzen Sie das Notebook zurück wenn sie dieses ein zweites mal ausführen möchten. \n",
    "    Im Menü über __(Kernel > Restart)__."
   ]
  },
  {
   "cell_type": "markdown",
   "metadata": {},
   "source": [
    "Zunächst importieren wir die benötigten Bibliotheken und definieren einige Parameter. \n",
    "Im Beispiel nutzen wir ein Bild zur Klassifikation und ein bereits bestehendes und vortrainiertes Modell. "
   ]
  },
  {
   "cell_type": "code",
   "execution_count": 1,
   "metadata": {},
   "outputs": [],
   "source": [
    "import os, sys, inspect\n",
    "current_dir = os.path.dirname(os.path.abspath(inspect.getfile(inspect.currentframe())))\n",
    "parent_dir = os.path.dirname(current_dir)\n",
    "sys.path.insert(0, parent_dir)\n",
    "from skimage.util import img_as_float32\n",
    "from skimage.transform import resize\n",
    "from scripts.train_model import own_rel\n",
    "from skimage import io\n",
    "from skimage.io import imshow, show, imsave\n",
    "import matplotlib.pyplot as plt\n",
    "%matplotlib inline\n",
    "from skimage.segmentation import mark_boundaries\n",
    "import shutil\n",
    "from graphviz import Digraph\n",
    "\n",
    "import lime_aleph.lime_aleph as la\n",
    "\n",
    "IMAGE_FILE = \"pos9000.png\" # The path to the image file to be classified by the black-box\n",
    "MODEL = \"../models_to_explain/model_tower.h5\" # The path to the pre-trained model\n",
    "N = 1000 # The sample size for LIME\n",
    "OUTPUT_DIR = \"../output/\" # A path for a directory to save intermediate and output data\n",
    "T = 0.8 # The threshold for the binary classifier for when an example is classified as 'positive'\n",
    "NOISE = 10 # The allowed false-positive rate for Aleph in percent.b"
   ]
  },
  {
   "cell_type": "markdown",
   "metadata": {},
   "source": [
    "Sollte es noch temporäre Daten aus früheren Durchläufen geben, sollen diese nun gelöscht werden:"
   ]
  },
  {
   "cell_type": "code",
   "execution_count": 2,
   "metadata": {},
   "outputs": [],
   "source": [
    "shutil.rmtree(OUTPUT_DIR, ignore_errors=True)\n",
    "os.makedirs(OUTPUT_DIR)"
   ]
  },
  {
   "cell_type": "markdown",
   "metadata": {},
   "source": [
    "Wir laden das Bild und das vortrainierte Modell in den Speicher. "
   ]
  },
  {
   "cell_type": "code",
   "execution_count": 3,
   "metadata": {},
   "outputs": [
    {
     "data": {
      "image/png": "[encoded data removed]",
      "text/plain": [
       "<Figure size 432x288 with 1 Axes>"
      ]
     },
     "metadata": {
      "needs_background": "light"
     },
     "output_type": "display_data"
    }
   ],
   "source": [
    "image = img_as_float32(io.imread(IMAGE_FILE))\n",
    "image = resize(image, (own_rel.IMAGE_SIZE, own_rel.IMAGE_SIZE), anti_aliasing=True)\n",
    "\n",
    "model = own_rel.own_rel()\n",
    "model.load_weights(MODEL)\n",
    "\n",
    "io.imshow(image)\n",
    "io.show()"
   ]
  },
  {
   "cell_type": "markdown",
   "metadata": {},
   "source": [
    "## Annotation des Bildes\n",
    "Im Folgenden werden die im Bild vorhandenen Elemente automatisch annotiert. \n",
    "Dazu verwenden wir die Funktion __annotate_image_parts__ aus dem Package __lime_aleph__."
   ]
  },
  {
   "cell_type": "code",
   "execution_count": 4,
   "metadata": {},
   "outputs": [
    {
     "name": "stdout",
     "output_type": "stream",
     "text": [
      "Running LIME...\n",
      "True class of the image is:  1\n",
      "Starting the explanation generation process. This may take a while.\n"
     ]
    },
    {
     "data": {
      "application/vnd.jupyter.widget-view+json": {
       "model_id": "41e0f00658664b19b89d969ad45c950e",
       "version_major": 2,
       "version_minor": 0
      },
      "text/plain": [
       "HBox(children=(HTML(value=''), FloatProgress(value=0.0, max=1000.0), HTML(value='')))"
      ]
     },
     "metadata": {},
     "output_type": "display_data"
    },
    {
     "name": "stderr",
     "output_type": "stream",
     "text": [
      "Lossy conversion from float64 to uint8. Range [0, 1]. Convert image to uint8 prior to saving to suppress this warning.\n",
      "Lossy conversion from float64 to uint8. Range [0, 1]. Convert image to uint8 prior to saving to suppress this warning.\n"
     ]
    },
    {
     "name": "stdout",
     "output_type": "stream",
     "text": [
      "\n",
      "Intercept -0.2559947118974815\n",
      "Prediction_local [0.36407552]\n",
      "Right: 0.023822423\n",
      "Intercept 1.2559947116123098\n",
      "Prediction_local [0.63592448]\n",
      "Right: 0.9761776\n",
      "Number of superpixels: 64\n",
      "Annotating the superpixels...\n",
      "Weight of sp:  44 is:  0.12519629615382255\n",
      "Weight of sp:  52 is:  0.12187519551426555\n",
      "Weight of sp:  60 is:  0.10440043173778754\n",
      "Weight of sp:  18 is:  -0.04665786827528261\n",
      "Weight of sp:  5 is:  -0.04276243188969936\n",
      "Weight of sp:  56 is:  -0.034753524468272796\n",
      "Weight of sp:  55 is:  -0.03341543093997141\n",
      "Weight of sp:  45 is:  -0.032781767265036885\n",
      "Weight of sp:  23 is:  -0.032766777775834206\n",
      "Weight of sp:  59 is:  -0.03241736360555635\n",
      "Weight of sp:  37 is:  -0.03234492426246978\n",
      "Weight of sp:  62 is:  -0.03201339936364323\n",
      "Weight of sp:  49 is:  -0.03151994517205428\n",
      "Weight of sp:  9 is:  -0.030670069381629805\n",
      "Weight of sp:  41 is:  -0.029470311516884864\n",
      "Weight of sp:  50 is:  -0.029308899151652183\n",
      "Weight of sp:  32 is:  -0.02861935587327013\n",
      "Weight of sp:  57 is:  -0.02485429465619299\n",
      "Weight of sp:  46 is:  -0.02331932479911682\n",
      "Weight of sp:  15 is:  -0.02309643660126385\n",
      "Weight of sp:  35 is:  -0.022836296210340227\n",
      "Weight of sp:  19 is:  -0.022685881679521316\n",
      "Weight of sp:  63 is:  -0.022007098398915716\n",
      "Weight of sp:  0 is:  -0.02094948805027224\n",
      "Weight of sp:  26 is:  -0.02080278315986032\n",
      "Weight of sp:  17 is:  -0.01989339107041979\n",
      "Weight of sp:  42 is:  -0.019857530036018894\n",
      "Weight of sp:  38 is:  -0.019757879065368876\n",
      "Weight of sp:  27 is:  -0.019625804976547524\n",
      "Weight of sp:  31 is:  -0.01913820836669924\n",
      "Weight of sp:  3 is:  -0.019134846317292262\n",
      "Weight of sp:  33 is:  -0.018142160525674647\n",
      "Weight of sp:  8 is:  -0.0181040873845847\n",
      "Weight of sp:  4 is:  -0.01779257239645495\n",
      "Weight of sp:  39 is:  -0.017623855902280803\n",
      "Weight of sp:  22 is:  -0.017357097761950605\n",
      "Weight of sp:  29 is:  -0.017087779148651547\n",
      "Weight of sp:  34 is:  -0.016012333599313793\n",
      "Weight of sp:  30 is:  -0.015321499104712479\n",
      "Weight of sp:  11 is:  -0.014224307123848772\n",
      "Weight of sp:  28 is:  -0.013716573889609033\n",
      "Weight of sp:  14 is:  0.013533867594952962\n",
      "Weight of sp:  43 is:  -0.012007834480303521\n",
      "Weight of sp:  16 is:  -0.011543747529309966\n",
      "Weight of sp:  36 is:  -0.010593458282449614\n",
      "Weight of sp:  58 is:  0.010533117697905573\n",
      "Weight of sp:  2 is:  -0.008001750818001816\n",
      "Weight of sp:  54 is:  -0.00789932424860521\n",
      "Weight of sp:  6 is:  -0.00786730319425301\n",
      "Weight of sp:  24 is:  -0.0066484715969449245\n",
      "Weight of sp:  10 is:  0.006629985426273317\n",
      "Weight of sp:  21 is:  0.0064209206906392195\n",
      "Weight of sp:  20 is:  -0.005645052116049842\n",
      "Weight of sp:  13 is:  -0.0056422174397002655\n",
      "Weight of sp:  12 is:  -0.005045250782690241\n",
      "Weight of sp:  61 is:  0.004601142514035774\n",
      "Weight of sp:  51 is:  0.004057122063016718\n",
      "Weight of sp:  25 is:  -0.0033707896562287167\n",
      "Weight of sp:  48 is:  -0.003023677508181564\n",
      "Weight of sp:  1 is:  0.002391542701901332\n",
      "Weight of sp:  40 is:  0.0007583112703139774\n",
      "Weight of sp:  47 is:  -0.0005923725761835997\n",
      "Weight of sp:  53 is:  0.0003882544429115791\n",
      "Weight of sp:  7 is:  -0.00013156962270293804\n"
     ]
    }
   ],
   "source": [
    "annotated_image = la.annotate_image_parts(image, model, OUTPUT_DIR, N)"
   ]
  },
  {
   "cell_type": "markdown",
   "metadata": {},
   "source": [
    "Die Funktion findet auch die Bildteile, die laut LIME für die Klasse am wichtigsten sind. Wir können diese Teile sowohl für die positive als auch für die negative Klasse visualisieren.\n",
    "Das erste Bild zeigt die wichtigsten drei Features im Bild für die Klasse __Turm__, hier werden die drei Bauklötze erkannt.  "
   ]
  },
  {
   "cell_type": "code",
   "execution_count": 5,
   "metadata": {},
   "outputs": [
    {
     "data": {
      "text/plain": [
       "<matplotlib.image.AxesImage at 0x1c8431da748>"
      ]
     },
     "execution_count": 5,
     "metadata": {},
     "output_type": "execute_result"
    },
    {
     "data": {
      "image/png": "[encoded data removed]",
      "text/plain": [
       "<Figure size 432x288 with 1 Axes>"
      ]
     },
     "metadata": {
      "needs_background": "light"
     },
     "output_type": "display_data"
    }
   ],
   "source": [
    "true_class = 1\n",
    "\n",
    "temp, mask = annotated_image.explanation.get_image_and_mask(true_class, positive_only=True, num_features=3, hide_rest=True)\n",
    "plt.imshow(mark_boundaries(temp, mask))"
   ]
  },
  {
   "cell_type": "markdown",
   "metadata": {},
   "source": [
    "Das zweite Bild zeigt dazu konträr zur Klasse Turm drei Features, d.h. es werden drei Bereiche der Hintergrundfarbe identifiziert, die voneinander entfernt sind und nicht alle einander berühren wie die Bauklötze des Turms."
   ]
  },
  {
   "cell_type": "code",
   "execution_count": 6,
   "metadata": {},
   "outputs": [
    {
     "data": {
      "text/plain": [
       "<matplotlib.image.AxesImage at 0x1c842f53848>"
      ]
     },
     "execution_count": 6,
     "metadata": {},
     "output_type": "execute_result"
    },
    {
     "data": {
      "image/png": "[encoded data removed]",
      "text/plain": [
       "<Figure size 432x288 with 1 Axes>"
      ]
     },
     "metadata": {
      "needs_background": "light"
     },
     "output_type": "display_data"
    }
   ],
   "source": [
    "negative_class = 0\n",
    "\n",
    "temp, mask = annotated_image.explanation.get_image_and_mask(negative_class, positive_only=True, num_features=3, hide_rest=True)\n",
    "plt.imshow(mark_boundaries(temp, mask))"
   ]
  },
  {
   "cell_type": "markdown",
   "metadata": {},
   "source": [
    "Nachdem das Bild nun annotiert ist, wollen wir nun die wichtigsten __3__ Bildelemente mit der Funktion __find_important_parts__ finden. "
   ]
  },
  {
   "cell_type": "code",
   "execution_count": 7,
   "metadata": {
    "scrolled": false
   },
   "outputs": [
    {
     "name": "stderr",
     "output_type": "stream",
     "text": [
      "Clipping input data to the valid range for imshow with RGB data ([0..1] for floats or [0..255] for integers).\n"
     ]
    },
    {
     "data": {
      "text/plain": [
       "<matplotlib.image.AxesImage at 0x1c8431f6288>"
      ]
     },
     "execution_count": 7,
     "metadata": {},
     "output_type": "execute_result"
    },
    {
     "data": {
      "image/png": "[encoded data removed]",
      "text/plain": [
       "<Figure size 432x288 with 1 Axes>"
      ]
     },
     "metadata": {
      "needs_background": "light"
     },
     "output_type": "display_data"
    }
   ],
   "source": [
    "important_superpixels, labeled_image = la.find_important_parts(annotated_image, 3)\n",
    "\n",
    "plt.imshow(labeled_image)"
   ]
  },
  {
   "cell_type": "markdown",
   "metadata": {},
   "source": [
    "Im Bild werden den Bereichen Zahlen d.h. Klassenidentifier zugeordnet. \n",
    "Anschließend können wir die Relationen zwischen diesen Bildteilen mit der Funktion __find_spatial_relations__ identifizieren und als Graph extrahieren. \n",
    "Dies geschieht über die Funktion __find_spatial_relations__, angewendet auf die wichtigen Bildteile (Objekt __important_superpixels__). "
   ]
  },
  {
   "cell_type": "code",
   "execution_count": 8,
   "metadata": {},
   "outputs": [],
   "source": [
    "relations, graph = la.find_spatial_relations(important_superpixels)"
   ]
  },
  {
   "cell_type": "markdown",
   "metadata": {},
   "source": [
    "Den Graph können wir nun mittels Graphviz visualisieren. \n",
    "Dieser beschreibt anhand binärer Relationen die topologischen Abhängigkeiten zwischen den einzelnen Objektklassen.\n",
    "Die Kanten und deren Label repräsentieren die räumlichen Relationen. "
   ]
  },
  {
   "cell_type": "code",
   "execution_count": 9,
   "metadata": {},
   "outputs": [
    {
     "data": {
      "image/svg+xml": [
       "<?xml version=\"1.0\" encoding=\"UTF-8\" standalone=\"no\"?>\r\n",
       "<!DOCTYPE svg PUBLIC \"-//W3C//DTD SVG 1.1//EN\"\r\n",
       " \"http://www.w3.org/Graphics/SVG/1.1/DTD/svg11.dtd\">\r\n",
       "<!-- Generated by graphviz version 2.46.1 (20210213.1702)\r\n",
       " -->\r\n",
       "<!-- Pages: 1 -->\r\n",
       "<svg width=\"350pt\" height=\"218pt\"\r\n",
       " viewBox=\"0.00 0.00 350.17 218.00\" xmlns=\"http://www.w3.org/2000/svg\" xmlns:xlink=\"http://www.w3.org/1999/xlink\">\r\n",
       "<g id=\"graph0\" class=\"graph\" transform=\"scale(1 1) rotate(0) translate(4 214)\">\r\n",
       "<polygon fill=\"white\" stroke=\"transparent\" points=\"-4,4 -4,-214 346.17,-214 346.17,4 -4,4\"/>\r\n",
       "<!-- 44 -->\r\n",
       "<g id=\"node1\" class=\"node\">\r\n",
       "<title>44</title>\r\n",
       "<ellipse fill=\"none\" stroke=\"black\" cx=\"130.17\" cy=\"-192\" rx=\"27\" ry=\"18\"/>\r\n",
       "<text text-anchor=\"middle\" x=\"130.17\" y=\"-188.3\" font-family=\"Times New Roman,serif\" font-size=\"14.00\">44</text>\r\n",
       "</g>\r\n",
       "<!-- 52 -->\r\n",
       "<g id=\"node2\" class=\"node\">\r\n",
       "<title>52</title>\r\n",
       "<ellipse fill=\"none\" stroke=\"black\" cx=\"72.17\" cy=\"-105\" rx=\"27\" ry=\"18\"/>\r\n",
       "<text text-anchor=\"middle\" x=\"72.17\" y=\"-101.3\" font-family=\"Times New Roman,serif\" font-size=\"14.00\">52</text>\r\n",
       "</g>\r\n",
       "<!-- 44&#45;&gt;52 -->\r\n",
       "<g id=\"edge4\" class=\"edge\">\r\n",
       "<title>44&#45;&gt;52</title>\r\n",
       "<path fill=\"none\" stroke=\"black\" d=\"M103.92,-187.46C70.66,-182.36 16.19,-171.82 4.17,-156 -8.79,-138.95 15.2,-125.08 38.18,-116.3\"/>\r\n",
       "<polygon fill=\"black\" stroke=\"black\" points=\"39.61,-119.51 47.86,-112.86 37.26,-112.92 39.61,-119.51\"/>\r\n",
       "<text text-anchor=\"middle\" x=\"11.67\" y=\"-144.8\" font-family=\"Times New Roman,serif\" font-size=\"14.00\">on</text>\r\n",
       "</g>\r\n",
       "<!-- 44&#45;&gt;52 -->\r\n",
       "<g id=\"edge5\" class=\"edge\">\r\n",
       "<title>44&#45;&gt;52</title>\r\n",
       "<path fill=\"none\" stroke=\"black\" d=\"M104.04,-186.98C85.82,-182.67 62.79,-173.85 51.17,-156 45.83,-147.8 48.29,-138.02 53.09,-129.29\"/>\r\n",
       "<polygon fill=\"black\" stroke=\"black\" points=\"56.17,-130.97 58.71,-120.69 50.31,-127.14 56.17,-130.97\"/>\r\n",
       "<text text-anchor=\"middle\" x=\"70.67\" y=\"-144.8\" font-family=\"Times New Roman,serif\" font-size=\"14.00\">top_of</text>\r\n",
       "</g>\r\n",
       "<!-- 60 -->\r\n",
       "<g id=\"node3\" class=\"node\">\r\n",
       "<title>60</title>\r\n",
       "<ellipse fill=\"none\" stroke=\"black\" cx=\"130.17\" cy=\"-18\" rx=\"27\" ry=\"18\"/>\r\n",
       "<text text-anchor=\"middle\" x=\"130.17\" y=\"-14.3\" font-family=\"Times New Roman,serif\" font-size=\"14.00\">60</text>\r\n",
       "</g>\r\n",
       "<!-- 44&#45;&gt;60 -->\r\n",
       "<g id=\"edge8\" class=\"edge\">\r\n",
       "<title>44&#45;&gt;60</title>\r\n",
       "<path fill=\"none\" stroke=\"black\" d=\"M155.79,-186.21C172.69,-181.57 193.6,-172.69 204.17,-156 228.42,-117.7 228.42,-92.3 204.17,-54 195.58,-40.44 180.17,-32.03 165.63,-26.87\"/>\r\n",
       "<polygon fill=\"black\" stroke=\"black\" points=\"166.38,-23.44 155.79,-23.79 164.29,-30.12 166.38,-23.44\"/>\r\n",
       "<text text-anchor=\"middle\" x=\"241.67\" y=\"-101.3\" font-family=\"Times New Roman,serif\" font-size=\"14.00\">top_of</text>\r\n",
       "</g>\r\n",
       "<!-- 52&#45;&gt;44 -->\r\n",
       "<g id=\"edge1\" class=\"edge\">\r\n",
       "<title>52&#45;&gt;44</title>\r\n",
       "<path fill=\"none\" stroke=\"black\" d=\"M81.98,-121.95C88.18,-131.86 96.44,-144.8 104.17,-156 106.68,-159.64 109.41,-163.45 112.11,-167.16\"/>\r\n",
       "<polygon fill=\"black\" stroke=\"black\" points=\"109.52,-169.54 118.29,-175.49 115.15,-165.37 109.52,-169.54\"/>\r\n",
       "<text text-anchor=\"middle\" x=\"120.17\" y=\"-144.8\" font-family=\"Times New Roman,serif\" font-size=\"14.00\">under</text>\r\n",
       "</g>\r\n",
       "<!-- 52&#45;&gt;44 -->\r\n",
       "<g id=\"edge2\" class=\"edge\">\r\n",
       "<title>52&#45;&gt;44</title>\r\n",
       "<path fill=\"none\" stroke=\"black\" d=\"M96.99,-112.68C111.15,-117.9 127.71,-126.73 136.17,-141 140.26,-147.9 140.65,-156.28 139.46,-164.19\"/>\r\n",
       "<polygon fill=\"black\" stroke=\"black\" points=\"136,-163.63 137.17,-174.16 142.82,-165.2 136,-163.63\"/>\r\n",
       "<text text-anchor=\"middle\" x=\"169.67\" y=\"-144.8\" font-family=\"Times New Roman,serif\" font-size=\"14.00\">bottom_of</text>\r\n",
       "</g>\r\n",
       "<!-- 52&#45;&gt;60 -->\r\n",
       "<g id=\"edge9\" class=\"edge\">\r\n",
       "<title>52&#45;&gt;60</title>\r\n",
       "<path fill=\"none\" stroke=\"black\" d=\"M47.86,-97.14C22.81,-88.82 -10.64,-73.48 4.17,-54 15.02,-39.73 60.42,-29.75 93.63,-24.19\"/>\r\n",
       "<polygon fill=\"black\" stroke=\"black\" points=\"94.6,-27.58 103.92,-22.54 93.49,-20.67 94.6,-27.58\"/>\r\n",
       "<text text-anchor=\"middle\" x=\"11.67\" y=\"-57.8\" font-family=\"Times New Roman,serif\" font-size=\"14.00\">on</text>\r\n",
       "</g>\r\n",
       "<!-- 52&#45;&gt;60 -->\r\n",
       "<g id=\"edge10\" class=\"edge\">\r\n",
       "<title>52&#45;&gt;60</title>\r\n",
       "<path fill=\"none\" stroke=\"black\" d=\"M58.71,-89.31C50.93,-78.97 43.98,-65.05 51.17,-54 60.79,-39.21 78.24,-30.63 94.3,-25.66\"/>\r\n",
       "<polygon fill=\"black\" stroke=\"black\" points=\"95.3,-29.02 104.04,-23.02 93.47,-22.26 95.3,-29.02\"/>\r\n",
       "<text text-anchor=\"middle\" x=\"70.67\" y=\"-57.8\" font-family=\"Times New Roman,serif\" font-size=\"14.00\">top_of</text>\r\n",
       "</g>\r\n",
       "<!-- 60&#45;&gt;44 -->\r\n",
       "<g id=\"edge3\" class=\"edge\">\r\n",
       "<title>60&#45;&gt;44</title>\r\n",
       "<path fill=\"none\" stroke=\"black\" d=\"M156.78,-22.54C181.93,-26.85 219.91,-35.92 248.17,-54 276.19,-71.93 288.9,-91.87 277.17,-123 260.9,-166.17 205.1,-181.94 167.13,-187.69\"/>\r\n",
       "<polygon fill=\"black\" stroke=\"black\" points=\"166.38,-184.26 156.94,-189.06 167.31,-191.2 166.38,-184.26\"/>\r\n",
       "<text text-anchor=\"middle\" x=\"311.67\" y=\"-101.3\" font-family=\"Times New Roman,serif\" font-size=\"14.00\">bottom_of</text>\r\n",
       "</g>\r\n",
       "<!-- 60&#45;&gt;52 -->\r\n",
       "<g id=\"edge6\" class=\"edge\">\r\n",
       "<title>60&#45;&gt;52</title>\r\n",
       "<path fill=\"none\" stroke=\"black\" d=\"M118.29,-34.51C113.77,-40.53 108.64,-47.52 104.17,-54 98.55,-62.13 92.66,-71.19 87.47,-79.34\"/>\r\n",
       "<polygon fill=\"black\" stroke=\"black\" points=\"84.35,-77.73 81.98,-88.05 90.27,-81.46 84.35,-77.73\"/>\r\n",
       "<text text-anchor=\"middle\" x=\"120.17\" y=\"-57.8\" font-family=\"Times New Roman,serif\" font-size=\"14.00\">under</text>\r\n",
       "</g>\r\n",
       "<!-- 60&#45;&gt;52 -->\r\n",
       "<g id=\"edge7\" class=\"edge\">\r\n",
       "<title>60&#45;&gt;52</title>\r\n",
       "<path fill=\"none\" stroke=\"black\" d=\"M137.17,-35.84C140.28,-46.09 142.05,-59.07 136.17,-69 129.56,-80.15 118.01,-87.98 106.52,-93.36\"/>\r\n",
       "<polygon fill=\"black\" stroke=\"black\" points=\"104.88,-90.25 96.99,-97.32 107.57,-96.71 104.88,-90.25\"/>\r\n",
       "<text text-anchor=\"middle\" x=\"169.67\" y=\"-57.8\" font-family=\"Times New Roman,serif\" font-size=\"14.00\">bottom_of</text>\r\n",
       "</g>\r\n",
       "</g>\r\n",
       "</svg>\r\n"
      ],
      "text/plain": [
       "<graphviz.dot.Digraph at 0x1c8418618c8>"
      ]
     },
     "execution_count": 9,
     "metadata": {},
     "output_type": "execute_result"
    }
   ],
   "source": [
    "graph"
   ]
  },
  {
   "cell_type": "markdown",
   "metadata": {},
   "source": [
    "Diese Relationen können wir auch textuell ausgeben lassen: "
   ]
  },
  {
   "cell_type": "code",
   "execution_count": 10,
   "metadata": {
    "scrolled": true
   },
   "outputs": [
    {
     "name": "stdout",
     "output_type": "stream",
     "text": [
      "Relation: 52--under-->44\n",
      "Relation: 52--bottom_of-->44\n",
      "Relation: 60--bottom_of-->44\n",
      "Relation: 44--on-->52\n",
      "Relation: 44--top_of-->52\n",
      "Relation: 60--under-->52\n",
      "Relation: 60--bottom_of-->52\n",
      "Relation: 44--top_of-->60\n",
      "Relation: 52--on-->60\n",
      "Relation: 52--top_of-->60\n"
     ]
    }
   ],
   "source": [
    "for rel in relations:\n",
    "    print(rel)"
   ]
  },
  {
   "cell_type": "markdown",
   "metadata": {},
   "source": [
    "## Erzeugung perturbierter Instanzen\n",
    "Nun lassen wir uns das perturbierte Datenset für LIME-Aleph generieren. Hierzu nutzen wir die Funktion __perturb_instance__ mit den erforderlichen Parametern. Dabei geben wir im Anschluss auch aus, wie viele Instanzen im neuen Datenset enthalten sind (Liste der Instanzen)."
   ]
  },
  {
   "cell_type": "code",
   "execution_count": 11,
   "metadata": {},
   "outputs": [
    {
     "name": "stdout",
     "output_type": "stream",
     "text": [
      "Number of perturbed instances: 11\n"
     ]
    }
   ],
   "source": [
    "perturbed_dataset = la.perturb_instance(annotated_image, relations, model, T)\n",
    "print(\"Number of perturbed instances:\", len(perturbed_dataset))"
   ]
  },
  {
   "cell_type": "markdown",
   "metadata": {},
   "source": [
    "Diese Instanzen können wir inspizieren und sehen dabei, dass positive und negative Beispiele generiert werden."
   ]
  },
  {
   "cell_type": "code",
   "execution_count": 12,
   "metadata": {},
   "outputs": [
    {
     "name": "stdout",
     "output_type": "stream",
     "text": [
      "Example: Positive: True,\n",
      "Superpixels:\n",
      "52, 44,\n",
      "60,\n",
      "\n",
      "Relations:\n",
      "Relation: 52--under-->44\n",
      ", Relation: 52--bottom_of-->44\n",
      ", Relation: 60--bottom_of-->44\n",
      ", Relation: 44--on-->52\n",
      ", Relation: 44--top_of-->52\n",
      ", Relation: 60--under-->52\n",
      ", Relation: 60--bottom_of-->52\n",
      ", Relation: 44--top_of-->60\n",
      ", Relation: 52--on-->60\n",
      ", Relation: 52--top_of-->60\n",
      "\n",
      "-------------------------------\n",
      "Example: Positive: True,\n",
      "Superpixels:\n",
      "52, 44,\n",
      "60,\n",
      "\n",
      "Relations:\n",
      "Relation: 44--under-->52\n",
      ", Relation: 44--bottom_of-->52\n",
      ", Relation: 60--bottom_of-->52\n",
      ", Relation: 52--on-->44\n",
      ", Relation: 52--top_of-->44\n",
      ", Relation: 60--under-->44\n",
      ", Relation: 60--bottom_of-->44\n",
      ", Relation: 52--top_of-->60\n",
      ", Relation: 44--on-->60\n",
      ", Relation: 44--top_of-->60\n",
      "\n",
      "-------------------------------\n",
      "Example: Positive: True,\n",
      "Superpixels:\n",
      "52, 44,\n",
      "60,\n",
      "\n",
      "Relations:\n",
      "Relation: 44--under-->52\n",
      ", Relation: 44--bottom_of-->52\n",
      ", Relation: 60--bottom_of-->52\n",
      ", Relation: 52--on-->44\n",
      ", Relation: 52--top_of-->44\n",
      ", Relation: 60--under-->44\n",
      ", Relation: 60--bottom_of-->44\n",
      ", Relation: 52--top_of-->60\n",
      ", Relation: 44--on-->60\n",
      ", Relation: 44--top_of-->60\n",
      "\n",
      "-------------------------------\n",
      "Example: Positive: False,\n",
      "Superpixels:\n",
      "52, 44,\n",
      "60,\n",
      "\n",
      "Relations:\n",
      "Relation: 52--under-->60\n",
      ", Relation: 52--bottom_of-->60\n",
      ", Relation: 44--bottom_of-->60\n",
      ", Relation: 60--on-->52\n",
      ", Relation: 60--top_of-->52\n",
      ", Relation: 44--under-->52\n",
      ", Relation: 44--bottom_of-->52\n",
      ", Relation: 60--top_of-->44\n",
      ", Relation: 52--on-->44\n",
      ", Relation: 52--top_of-->44\n",
      "\n",
      "-------------------------------\n",
      "Example: Positive: True,\n",
      "Superpixels:\n",
      "52, 44,\n",
      "60,\n",
      "\n",
      "Relations:\n",
      "Relation: 44--under-->52\n",
      ", Relation: 44--bottom_of-->52\n",
      ", Relation: 60--bottom_of-->52\n",
      ", Relation: 52--on-->44\n",
      ", Relation: 52--top_of-->44\n",
      ", Relation: 60--under-->44\n",
      ", Relation: 60--bottom_of-->44\n",
      ", Relation: 52--top_of-->60\n",
      ", Relation: 44--on-->60\n",
      ", Relation: 44--top_of-->60\n",
      "\n",
      "-------------------------------\n",
      "Example: Positive: True,\n",
      "Superpixels:\n",
      "52, 44,\n",
      "60,\n",
      "\n",
      "Relations:\n",
      "Relation: 44--under-->52\n",
      ", Relation: 44--bottom_of-->52\n",
      ", Relation: 60--bottom_of-->52\n",
      ", Relation: 52--on-->44\n",
      ", Relation: 52--top_of-->44\n",
      ", Relation: 60--under-->44\n",
      ", Relation: 60--bottom_of-->44\n",
      ", Relation: 52--top_of-->60\n",
      ", Relation: 44--on-->60\n",
      ", Relation: 44--top_of-->60\n",
      "\n",
      "-------------------------------\n",
      "Example: Positive: False,\n",
      "Superpixels:\n",
      "52, 44,\n",
      "60,\n",
      "\n",
      "Relations:\n",
      "Relation: 60--under-->44\n",
      ", Relation: 60--bottom_of-->44\n",
      ", Relation: 52--bottom_of-->44\n",
      ", Relation: 44--on-->60\n",
      ", Relation: 44--top_of-->60\n",
      ", Relation: 52--under-->60\n",
      ", Relation: 52--bottom_of-->60\n",
      ", Relation: 44--top_of-->52\n",
      ", Relation: 60--on-->52\n",
      ", Relation: 60--top_of-->52\n",
      "\n",
      "-------------------------------\n",
      "Example: Positive: False,\n",
      "Superpixels:\n",
      "52, 44,\n",
      "60,\n",
      "\n",
      "Relations:\n",
      "Relation: 60--under-->44\n",
      ", Relation: 60--bottom_of-->44\n",
      ", Relation: 52--bottom_of-->44\n",
      ", Relation: 44--on-->60\n",
      ", Relation: 44--top_of-->60\n",
      ", Relation: 52--under-->60\n",
      ", Relation: 52--bottom_of-->60\n",
      ", Relation: 44--top_of-->52\n",
      ", Relation: 60--on-->52\n",
      ", Relation: 60--top_of-->52\n",
      "\n",
      "-------------------------------\n",
      "Example: Positive: False,\n",
      "Superpixels:\n",
      "52, 44,\n",
      "60,\n",
      "\n",
      "Relations:\n",
      "Relation: 52--under-->60\n",
      ", Relation: 52--bottom_of-->60\n",
      ", Relation: 44--bottom_of-->60\n",
      ", Relation: 60--on-->52\n",
      ", Relation: 60--top_of-->52\n",
      ", Relation: 44--under-->52\n",
      ", Relation: 44--bottom_of-->52\n",
      ", Relation: 60--top_of-->44\n",
      ", Relation: 52--on-->44\n",
      ", Relation: 52--top_of-->44\n",
      "\n",
      "-------------------------------\n",
      "Example: Positive: False,\n",
      "Superpixels:\n",
      "52, 44,\n",
      "60,\n",
      "\n",
      "Relations:\n",
      "Relation: 60--under-->44\n",
      ", Relation: 60--bottom_of-->44\n",
      ", Relation: 52--bottom_of-->44\n",
      ", Relation: 44--on-->60\n",
      ", Relation: 44--top_of-->60\n",
      ", Relation: 52--under-->60\n",
      ", Relation: 52--bottom_of-->60\n",
      ", Relation: 44--top_of-->52\n",
      ", Relation: 60--on-->52\n",
      ", Relation: 60--top_of-->52\n",
      "\n",
      "-------------------------------\n",
      "Example: Positive: False,\n",
      "Superpixels:\n",
      "52, 44,\n",
      "60,\n",
      "\n",
      "Relations:\n",
      "Relation: 60--under-->44\n",
      ", Relation: 60--bottom_of-->44\n",
      ", Relation: 52--bottom_of-->44\n",
      ", Relation: 44--on-->60\n",
      ", Relation: 44--top_of-->60\n",
      ", Relation: 52--under-->60\n",
      ", Relation: 52--bottom_of-->60\n",
      ", Relation: 44--top_of-->52\n",
      ", Relation: 60--on-->52\n",
      ", Relation: 60--top_of-->52\n",
      "\n",
      "-------------------------------\n"
     ]
    }
   ],
   "source": [
    "for ex in perturbed_dataset:\n",
    "    print(ex)\n",
    "    print(\"-------------------------------\")"
   ]
  },
  {
   "cell_type": "markdown",
   "metadata": {},
   "source": [
    "Jetzt visualisieren wir noch alle Instanzen aus dem perturbierten Datenset. Erst die positiven Instanzen für die die Klasse Turm weiterhin gilt:"
   ]
  },
  {
   "cell_type": "code",
   "execution_count": 13,
   "metadata": {
    "scrolled": false
   },
   "outputs": [
    {
     "name": "stderr",
     "output_type": "stream",
     "text": [
      "Clipping input data to the valid range for imshow with RGB data ([0..1] for floats or [0..255] for integers).\n"
     ]
    },
    {
     "data": {
      "image/png": "[encoded data removed]",
      "text/plain": [
       "<Figure size 432x288 with 1 Axes>"
      ]
     },
     "metadata": {
      "needs_background": "light"
     },
     "output_type": "display_data"
    },
    {
     "name": "stderr",
     "output_type": "stream",
     "text": [
      "Clipping input data to the valid range for imshow with RGB data ([0..1] for floats or [0..255] for integers).\n"
     ]
    },
    {
     "name": "stdout",
     "output_type": "stream",
     "text": [
      "Relations:\n",
      "Relation: 52--under-->44\n",
      "Relation: 52--bottom_of-->44\n",
      "Relation: 60--bottom_of-->44\n",
      "Relation: 44--on-->52\n",
      "Relation: 44--top_of-->52\n",
      "Relation: 60--under-->52\n",
      "Relation: 60--bottom_of-->52\n",
      "Relation: 44--top_of-->60\n",
      "Relation: 52--on-->60\n",
      "Relation: 52--top_of-->60\n",
      "-------------------------------\n"
     ]
    },
    {
     "data": {
      "image/png": "[encoded data removed]",
      "text/plain": [
       "<Figure size 432x288 with 1 Axes>"
      ]
     },
     "metadata": {
      "needs_background": "light"
     },
     "output_type": "display_data"
    },
    {
     "name": "stdout",
     "output_type": "stream",
     "text": [
      "Relations:\n",
      "Relation: 44--under-->52\n",
      "Relation: 44--bottom_of-->52\n",
      "Relation: 60--bottom_of-->52\n",
      "Relation: 52--on-->44\n",
      "Relation: 52--top_of-->44\n",
      "Relation: 60--under-->44\n",
      "Relation: 60--bottom_of-->44\n",
      "Relation: 52--top_of-->60\n",
      "Relation: 44--on-->60\n",
      "Relation: 44--top_of-->60\n",
      "-------------------------------\n"
     ]
    },
    {
     "name": "stderr",
     "output_type": "stream",
     "text": [
      "Clipping input data to the valid range for imshow with RGB data ([0..1] for floats or [0..255] for integers).\n"
     ]
    },
    {
     "data": {
      "image/png": "[encoded data removed]",
      "text/plain": [
       "<Figure size 432x288 with 1 Axes>"
      ]
     },
     "metadata": {
      "needs_background": "light"
     },
     "output_type": "display_data"
    },
    {
     "name": "stderr",
     "output_type": "stream",
     "text": [
      "Clipping input data to the valid range for imshow with RGB data ([0..1] for floats or [0..255] for integers).\n"
     ]
    },
    {
     "name": "stdout",
     "output_type": "stream",
     "text": [
      "Relations:\n",
      "Relation: 44--under-->52\n",
      "Relation: 44--bottom_of-->52\n",
      "Relation: 60--bottom_of-->52\n",
      "Relation: 52--on-->44\n",
      "Relation: 52--top_of-->44\n",
      "Relation: 60--under-->44\n",
      "Relation: 60--bottom_of-->44\n",
      "Relation: 52--top_of-->60\n",
      "Relation: 44--on-->60\n",
      "Relation: 44--top_of-->60\n",
      "-------------------------------\n"
     ]
    },
    {
     "data": {
      "image/png": "[encoded data removed]",
      "text/plain": [
       "<Figure size 432x288 with 1 Axes>"
      ]
     },
     "metadata": {
      "needs_background": "light"
     },
     "output_type": "display_data"
    },
    {
     "name": "stderr",
     "output_type": "stream",
     "text": [
      "Clipping input data to the valid range for imshow with RGB data ([0..1] for floats or [0..255] for integers).\n"
     ]
    },
    {
     "name": "stdout",
     "output_type": "stream",
     "text": [
      "Relations:\n",
      "Relation: 44--under-->52\n",
      "Relation: 44--bottom_of-->52\n",
      "Relation: 60--bottom_of-->52\n",
      "Relation: 52--on-->44\n",
      "Relation: 52--top_of-->44\n",
      "Relation: 60--under-->44\n",
      "Relation: 60--bottom_of-->44\n",
      "Relation: 52--top_of-->60\n",
      "Relation: 44--on-->60\n",
      "Relation: 44--top_of-->60\n",
      "-------------------------------\n"
     ]
    },
    {
     "data": {
      "image/png": "[encoded data removed]",
      "text/plain": [
       "<Figure size 432x288 with 1 Axes>"
      ]
     },
     "metadata": {
      "needs_background": "light"
     },
     "output_type": "display_data"
    },
    {
     "name": "stdout",
     "output_type": "stream",
     "text": [
      "Relations:\n",
      "Relation: 44--under-->52\n",
      "Relation: 44--bottom_of-->52\n",
      "Relation: 60--bottom_of-->52\n",
      "Relation: 52--on-->44\n",
      "Relation: 52--top_of-->44\n",
      "Relation: 60--under-->44\n",
      "Relation: 60--bottom_of-->44\n",
      "Relation: 52--top_of-->60\n",
      "Relation: 44--on-->60\n",
      "Relation: 44--top_of-->60\n",
      "-------------------------------\n"
     ]
    }
   ],
   "source": [
    "for ex in perturbed_dataset:\n",
    "    if ex.positive:\n",
    "        plt.imshow(ex.labeled_image)\n",
    "        plt.show()\n",
    "        print(\"Relations:\")\n",
    "        for r in ex.relations:\n",
    "            print(r)\n",
    "        print(\"-------------------------------\")"
   ]
  },
  {
   "cell_type": "markdown",
   "metadata": {},
   "source": [
    "Und nun alle negativen Instanzen, für die die Klasse Turm nicht mehr gilt:"
   ]
  },
  {
   "cell_type": "code",
   "execution_count": 14,
   "metadata": {
    "scrolled": false
   },
   "outputs": [
    {
     "name": "stderr",
     "output_type": "stream",
     "text": [
      "Clipping input data to the valid range for imshow with RGB data ([0..1] for floats or [0..255] for integers).\n"
     ]
    },
    {
     "data": {
      "image/png": "[encoded data removed]",
      "text/plain": [
       "<Figure size 432x288 with 1 Axes>"
      ]
     },
     "metadata": {
      "needs_background": "light"
     },
     "output_type": "display_data"
    },
    {
     "name": "stderr",
     "output_type": "stream",
     "text": [
      "Clipping input data to the valid range for imshow with RGB data ([0..1] for floats or [0..255] for integers).\n"
     ]
    },
    {
     "name": "stdout",
     "output_type": "stream",
     "text": [
      "Relations:\n",
      "Relation: 52--under-->60\n",
      "Relation: 52--bottom_of-->60\n",
      "Relation: 44--bottom_of-->60\n",
      "Relation: 60--on-->52\n",
      "Relation: 60--top_of-->52\n",
      "Relation: 44--under-->52\n",
      "Relation: 44--bottom_of-->52\n",
      "Relation: 60--top_of-->44\n",
      "Relation: 52--on-->44\n",
      "Relation: 52--top_of-->44\n",
      "-------------------------------\n"
     ]
    },
    {
     "data": {
      "image/png": "[encoded data removed]",
      "text/plain": [
       "<Figure size 432x288 with 1 Axes>"
      ]
     },
     "metadata": {
      "needs_background": "light"
     },
     "output_type": "display_data"
    },
    {
     "name": "stdout",
     "output_type": "stream",
     "text": [
      "Relations:\n",
      "Relation: 60--under-->44\n",
      "Relation: 60--bottom_of-->44\n",
      "Relation: 52--bottom_of-->44\n",
      "Relation: 44--on-->60\n",
      "Relation: 44--top_of-->60\n",
      "Relation: 52--under-->60\n",
      "Relation: 52--bottom_of-->60\n",
      "Relation: 44--top_of-->52\n",
      "Relation: 60--on-->52\n",
      "Relation: 60--top_of-->52\n",
      "-------------------------------\n"
     ]
    },
    {
     "name": "stderr",
     "output_type": "stream",
     "text": [
      "Clipping input data to the valid range for imshow with RGB data ([0..1] for floats or [0..255] for integers).\n"
     ]
    },
    {
     "data": {
      "image/png": "[encoded data removed]",
      "text/plain": [
       "<Figure size 432x288 with 1 Axes>"
      ]
     },
     "metadata": {
      "needs_background": "light"
     },
     "output_type": "display_data"
    },
    {
     "name": "stderr",
     "output_type": "stream",
     "text": [
      "Clipping input data to the valid range for imshow with RGB data ([0..1] for floats or [0..255] for integers).\n"
     ]
    },
    {
     "name": "stdout",
     "output_type": "stream",
     "text": [
      "Relations:\n",
      "Relation: 60--under-->44\n",
      "Relation: 60--bottom_of-->44\n",
      "Relation: 52--bottom_of-->44\n",
      "Relation: 44--on-->60\n",
      "Relation: 44--top_of-->60\n",
      "Relation: 52--under-->60\n",
      "Relation: 52--bottom_of-->60\n",
      "Relation: 44--top_of-->52\n",
      "Relation: 60--on-->52\n",
      "Relation: 60--top_of-->52\n",
      "-------------------------------\n"
     ]
    },
    {
     "data": {
      "image/png": "[encoded data removed]",
      "text/plain": [
       "<Figure size 432x288 with 1 Axes>"
      ]
     },
     "metadata": {
      "needs_background": "light"
     },
     "output_type": "display_data"
    },
    {
     "name": "stderr",
     "output_type": "stream",
     "text": [
      "Clipping input data to the valid range for imshow with RGB data ([0..1] for floats or [0..255] for integers).\n"
     ]
    },
    {
     "name": "stdout",
     "output_type": "stream",
     "text": [
      "Relations:\n",
      "Relation: 52--under-->60\n",
      "Relation: 52--bottom_of-->60\n",
      "Relation: 44--bottom_of-->60\n",
      "Relation: 60--on-->52\n",
      "Relation: 60--top_of-->52\n",
      "Relation: 44--under-->52\n",
      "Relation: 44--bottom_of-->52\n",
      "Relation: 60--top_of-->44\n",
      "Relation: 52--on-->44\n",
      "Relation: 52--top_of-->44\n",
      "-------------------------------\n"
     ]
    },
    {
     "data": {
      "image/png": "[encoded data removed]",
      "text/plain": [
       "<Figure size 432x288 with 1 Axes>"
      ]
     },
     "metadata": {
      "needs_background": "light"
     },
     "output_type": "display_data"
    },
    {
     "name": "stderr",
     "output_type": "stream",
     "text": [
      "Clipping input data to the valid range for imshow with RGB data ([0..1] for floats or [0..255] for integers).\n"
     ]
    },
    {
     "name": "stdout",
     "output_type": "stream",
     "text": [
      "Relations:\n",
      "Relation: 60--under-->44\n",
      "Relation: 60--bottom_of-->44\n",
      "Relation: 52--bottom_of-->44\n",
      "Relation: 44--on-->60\n",
      "Relation: 44--top_of-->60\n",
      "Relation: 52--under-->60\n",
      "Relation: 52--bottom_of-->60\n",
      "Relation: 44--top_of-->52\n",
      "Relation: 60--on-->52\n",
      "Relation: 60--top_of-->52\n",
      "-------------------------------\n"
     ]
    },
    {
     "data": {
      "image/png": "[encoded data removed]",
      "text/plain": [
       "<Figure size 432x288 with 1 Axes>"
      ]
     },
     "metadata": {
      "needs_background": "light"
     },
     "output_type": "display_data"
    },
    {
     "name": "stdout",
     "output_type": "stream",
     "text": [
      "Relations:\n",
      "Relation: 60--under-->44\n",
      "Relation: 60--bottom_of-->44\n",
      "Relation: 52--bottom_of-->44\n",
      "Relation: 44--on-->60\n",
      "Relation: 44--top_of-->60\n",
      "Relation: 52--under-->60\n",
      "Relation: 52--bottom_of-->60\n",
      "Relation: 44--top_of-->52\n",
      "Relation: 60--on-->52\n",
      "Relation: 60--top_of-->52\n",
      "-------------------------------\n"
     ]
    }
   ],
   "source": [
    "for ex in perturbed_dataset:\n",
    "    if not ex.positive:\n",
    "        plt.imshow(ex.labeled_image)\n",
    "        plt.show()\n",
    "        print(\"Relations:\")\n",
    "        for r in ex.relations:\n",
    "            print(r)\n",
    "        print(\"-------------------------------\")"
   ]
  },
  {
   "cell_type": "markdown",
   "metadata": {},
   "source": [
    "Das ILP-Framework Aleph benötigt mehrere Hilfsdateien, die mit der Funktion __write_aleph_files__ erzeugt werden. \n",
    "Es sollen alle räumlichen Relationen verwendet werden! Zur Verfügung stehen folgende Relationen: *left_of*, *right_of*, *top_of*, *bottom_of*, *on*, *under*"
   ]
  },
  {
   "cell_type": "code",
   "execution_count": 15,
   "metadata": {},
   "outputs": [
    {
     "name": "stdout",
     "output_type": "stream",
     "text": [
      "Writing the input files for Aleph...\n",
      "../output/\n",
      "Done.\n"
     ]
    }
   ],
   "source": [
    "used_relations = None # 'None' if you want to allow all relations, otherwise list with following possibilities: [\"left_of\", \"right_of\", \"top_of\", \"bottom_of\", \"on\", \"under\"]\n",
    "la.write_aleph_files(annotated_image, perturbed_dataset, used_relations, OUTPUT_DIR, NOISE)"
   ]
  },
  {
   "cell_type": "markdown",
   "metadata": {},
   "source": [
    "Schlussendlich muss nun der Induktionsprozess von Aleph angestoßen werden. Dieser Schritt (mit der Funktion __run_aleph__) gibt auch die gefundene Erklärung zurück:"
   ]
  },
  {
   "cell_type": "code",
   "execution_count": 16,
   "metadata": {
    "scrolled": true
   },
   "outputs": [
    {
     "name": "stdout",
     "output_type": "stream",
     "text": [
      "[{}]\n",
      "[{}]\n",
      "[{}]\n",
      "[{}]\n",
      "[{}]\n",
      "The explanation was saved to '../output/explanation.txt'\n"
     ]
    }
   ],
   "source": [
    "la.run_aleph(OUTPUT_DIR)"
   ]
  },
  {
   "cell_type": "markdown",
   "metadata": {},
   "source": [
    "Die Erklärung in Form von Regeln findet sich nun im angegebenen Ordner in der Datei *explanation.txt*. \n",
    "Wir lesen diese Datei aus und stellen die Regel in Form einer Prolog-Regel dar."
   ]
  },
  {
   "cell_type": "code",
   "execution_count": 17,
   "metadata": {
    "scrolled": true
   },
   "outputs": [
    {
     "name": "stdout",
     "output_type": "stream",
     "text": [
      "true_class(A) :-\n",
      "   contains(B,A), has_color(B,lime), contains(C,A), on_in_ex(B,C,A).\n",
      "\n"
     ]
    }
   ],
   "source": [
    "with open(OUTPUT_DIR + \"explanation.txt\", 'r') as f:\n",
    "    print(f.read())"
   ]
  },
  {
   "cell_type": "markdown",
   "metadata": {},
   "source": [
    "## Interpretation\n",
    "Die Interpretation der Regel wollen wir im Folgenden an einem Beispiel darstellen. \n",
    "\n",
    "true_class(A) :-\n",
    "   contains(B,A), has_color(B,mediumblue), contains(C,A), has_color(C,lime), \n",
    "   top_of_in_ex(C,B,A).\n",
    "\n",
    "Die Lesart der Regel ist wie folgt. Das Prädikat __true_class(A)__ entspricht der Aussage _\"A ist ein Turm\"_ und gilt wenn folgende Aussagen logisch wahr sind:\n",
    "* der Turm A enthällt einen Bauklotz B, \n",
    "* Bauklotz B hat die Farbe Blau (__mediumblue__),\n",
    "* der Turm A enthält auch einen Bauklotz C,\n",
    "* der Bauklotz C hat die Farbe Grün (__lime__), und \n",
    "* C befindet sich in Relation __top_of__ zu B, d.h. C steht räumlich auf B.\n"
   ]
  }
 ],
 "metadata": {
  "kernelspec": {
   "display_name": "Python 3",
   "language": "python",
   "name": "python3"
  },
  "language_info": {
   "codemirror_mode": {
    "name": "ipython",
    "version": 3
   },
   "file_extension": ".py",
   "mimetype": "text/x-python",
   "name": "python",
   "nbconvert_exporter": "python",
   "pygments_lexer": "ipython3",
   "version": "3.7.9"
  }
 },
 "nbformat": 4,
 "nbformat_minor": 4
}
